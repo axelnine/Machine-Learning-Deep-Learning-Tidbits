{
 "cells": [
  {
   "cell_type": "markdown",
   "metadata": {},
   "source": [
    "### Address Extraction Classifier\n",
    "\n",
    "#### Prem Shah\n",
    "\n",
    "Addresses generated randomly from https://www.randomlists.com/random-addresses. Legal documents taken from open dataset https://archive.ics.uci.edu/ml/datasets/Legal+Case+Reports.\n",
    "\n",
    "\n",
    "Dataset is in the form of Text and Label\n",
    "\n"
   ]
  },
  {
   "cell_type": "markdown",
   "metadata": {},
   "source": [
    "Import libraries and data"
   ]
  },
  {
   "cell_type": "code",
   "execution_count": 29,
   "metadata": {
    "collapsed": true
   },
   "outputs": [],
   "source": [
    "import pandas as pd\n",
    "import numpy as np\n",
    "import re\n",
    "from sklearn.model_selection import train_test_split\n",
    "from sklearn.feature_extraction.text import TfidfVectorizer\n",
    "from sklearn.linear_model import LogisticRegression\n",
    "from sklearn.metrics import accuracy_score, confusion_matrix"
   ]
  },
  {
   "cell_type": "code",
   "execution_count": 2,
   "metadata": {
    "collapsed": true
   },
   "outputs": [],
   "source": [
    "data = pd.read_csv(\"Data.csv\")"
   ]
  },
  {
   "cell_type": "markdown",
   "metadata": {},
   "source": [
    "Clean data and convert data types"
   ]
  },
  {
   "cell_type": "code",
   "execution_count": 3,
   "metadata": {
    "collapsed": true
   },
   "outputs": [],
   "source": [
    "data = data.dropna()\n",
    "data[\"Outcome\"] = data[\"Outcome\"].astype('category')"
   ]
  },
  {
   "cell_type": "code",
   "execution_count": 4,
   "metadata": {},
   "outputs": [
    {
     "data": {
      "text/html": [
       "<div>\n",
       "<style>\n",
       "    .dataframe thead tr:only-child th {\n",
       "        text-align: right;\n",
       "    }\n",
       "\n",
       "    .dataframe thead th {\n",
       "        text-align: left;\n",
       "    }\n",
       "\n",
       "    .dataframe tbody tr th {\n",
       "        vertical-align: top;\n",
       "    }\n",
       "</style>\n",
       "<table border=\"1\" class=\"dataframe\">\n",
       "  <thead>\n",
       "    <tr style=\"text-align: right;\">\n",
       "      <th></th>\n",
       "      <th>Text</th>\n",
       "      <th>Outcome</th>\n",
       "    </tr>\n",
       "  </thead>\n",
       "  <tbody>\n",
       "    <tr>\n",
       "      <th>4239</th>\n",
       "      <td>&lt;sentence id=\"s276\"&gt;82 It will be apparent fro...</td>\n",
       "      <td>Statement</td>\n",
       "    </tr>\n",
       "    <tr>\n",
       "      <th>4240</th>\n",
       "      <td>&lt;sentence id=\"s277\"&gt;I infer that they did not ...</td>\n",
       "      <td>Statement</td>\n",
       "    </tr>\n",
       "    <tr>\n",
       "      <th>4241</th>\n",
       "      <td>&lt;sentence id=\"s278\"&gt;83 In any event, even if I...</td>\n",
       "      <td>Statement</td>\n",
       "    </tr>\n",
       "    <tr>\n",
       "      <th>4242</th>\n",
       "      <td>&lt;sentence id=\"s279\"&gt;There were other debts whi...</td>\n",
       "      <td>Statement</td>\n",
       "    </tr>\n",
       "    <tr>\n",
       "      <th>4243</th>\n",
       "      <td>&lt;sentence id=\"s280\"&gt;Further, given these other...</td>\n",
       "      <td>Statement</td>\n",
       "    </tr>\n",
       "  </tbody>\n",
       "</table>\n",
       "</div>"
      ],
      "text/plain": [
       "                                                   Text    Outcome\n",
       "4239  <sentence id=\"s276\">82 It will be apparent fro...  Statement\n",
       "4240  <sentence id=\"s277\">I infer that they did not ...  Statement\n",
       "4241  <sentence id=\"s278\">83 In any event, even if I...  Statement\n",
       "4242  <sentence id=\"s279\">There were other debts whi...  Statement\n",
       "4243  <sentence id=\"s280\">Further, given these other...  Statement"
      ]
     },
     "execution_count": 4,
     "metadata": {},
     "output_type": "execute_result"
    }
   ],
   "source": [
    "data.tail()"
   ]
  },
  {
   "cell_type": "code",
   "execution_count": 5,
   "metadata": {
    "collapsed": true
   },
   "outputs": [],
   "source": [
    "data['Text'] = data['Text'].replace('<[^>]+>', '', regex=True)"
   ]
  },
  {
   "cell_type": "code",
   "execution_count": 6,
   "metadata": {},
   "outputs": [
    {
     "data": {
      "text/html": [
       "<div>\n",
       "<style>\n",
       "    .dataframe thead tr:only-child th {\n",
       "        text-align: right;\n",
       "    }\n",
       "\n",
       "    .dataframe thead th {\n",
       "        text-align: left;\n",
       "    }\n",
       "\n",
       "    .dataframe tbody tr th {\n",
       "        vertical-align: top;\n",
       "    }\n",
       "</style>\n",
       "<table border=\"1\" class=\"dataframe\">\n",
       "  <thead>\n",
       "    <tr style=\"text-align: right;\">\n",
       "      <th></th>\n",
       "      <th>Text</th>\n",
       "      <th>Outcome</th>\n",
       "    </tr>\n",
       "  </thead>\n",
       "  <tbody>\n",
       "    <tr>\n",
       "      <th>4239</th>\n",
       "      <td>82 It will be apparent from the foregoing that...</td>\n",
       "      <td>Statement</td>\n",
       "    </tr>\n",
       "    <tr>\n",
       "      <th>4240</th>\n",
       "      <td>I infer that they did not raise these claims c...</td>\n",
       "      <td>Statement</td>\n",
       "    </tr>\n",
       "    <tr>\n",
       "      <th>4241</th>\n",
       "      <td>83 In any event, even if I were to have regard...</td>\n",
       "      <td>Statement</td>\n",
       "    </tr>\n",
       "    <tr>\n",
       "      <th>4242</th>\n",
       "      <td>There were other debts which were not paid by ...</td>\n",
       "      <td>Statement</td>\n",
       "    </tr>\n",
       "    <tr>\n",
       "      <th>4243</th>\n",
       "      <td>Further, given these other debts, the claim th...</td>\n",
       "      <td>Statement</td>\n",
       "    </tr>\n",
       "  </tbody>\n",
       "</table>\n",
       "</div>"
      ],
      "text/plain": [
       "                                                   Text    Outcome\n",
       "4239  82 It will be apparent from the foregoing that...  Statement\n",
       "4240  I infer that they did not raise these claims c...  Statement\n",
       "4241  83 In any event, even if I were to have regard...  Statement\n",
       "4242  There were other debts which were not paid by ...  Statement\n",
       "4243  Further, given these other debts, the claim th...  Statement"
      ]
     },
     "execution_count": 6,
     "metadata": {},
     "output_type": "execute_result"
    }
   ],
   "source": [
    "data.tail(5)"
   ]
  },
  {
   "cell_type": "code",
   "execution_count": 7,
   "metadata": {
    "collapsed": true
   },
   "outputs": [],
   "source": [
    "try:\n",
    "    data[\"Outcome\"] = data[\"Outcome\"].cat.codes\n",
    "except:\n",
    "    print(\"Already Categorical\")\n",
    "#0 = Address, 1 = Statement"
   ]
  },
  {
   "cell_type": "code",
   "execution_count": 13,
   "metadata": {},
   "outputs": [
    {
     "name": "stderr",
     "output_type": "stream",
     "text": [
      "C:\\Anaconda3\\lib\\site-packages\\sklearn\\feature_extraction\\text.py:1089: FutureWarning: Conversion of the second argument of issubdtype from `float` to `np.floating` is deprecated. In future, it will be treated as `np.float64 == np.dtype(float).type`.\n",
      "  if hasattr(X, 'dtype') and np.issubdtype(X.dtype, np.float):\n"
     ]
    }
   ],
   "source": [
    "vectorizer = TfidfVectorizer()\n",
    "X = vectorizer.fit_transform(X_train)\n",
    "X_t = vectorizer.transform(X_test)"
   ]
  },
  {
   "cell_type": "code",
   "execution_count": 8,
   "metadata": {
    "collapsed": true
   },
   "outputs": [],
   "source": [
    "def dataset_split(X,y,train_size):\n",
    "    X_train, X_test, y_train, y_test = train_test_split(X, y, test_size=1-train_size, random_state=42)\n",
    "    return X_train, X_test, y_train, y_test"
   ]
  },
  {
   "cell_type": "code",
   "execution_count": 10,
   "metadata": {
    "collapsed": true
   },
   "outputs": [],
   "source": [
    "X_train, X_test, y_train, y_test = dataset_split(data['Text'],data['Outcome'],0.7)"
   ]
  },
  {
   "cell_type": "code",
   "execution_count": 16,
   "metadata": {},
   "outputs": [
    {
     "data": {
      "text/plain": [
       "<2970x5868 sparse matrix of type '<class 'numpy.float64'>'\n",
       "\twith 20289 stored elements in Compressed Sparse Row format>"
      ]
     },
     "execution_count": 16,
     "metadata": {},
     "output_type": "execute_result"
    }
   ],
   "source": [
    "X"
   ]
  },
  {
   "cell_type": "markdown",
   "metadata": {},
   "source": [
    "75\n",
    "\n",
    "Superior court of the state of washington"
   ]
  },
  {
   "cell_type": "code",
   "execution_count": 17,
   "metadata": {},
   "outputs": [
    {
     "data": {
      "text/plain": [
       "2408              409 Birchpond Road Titusville, FL 32780\n",
       "1873         7672 North Iroquois Street Hanover, PA 17331\n",
       "3173              Loxahatchee, FL 334709660 Mechanic Dr. \n",
       "610           704 Philmont Drive Goodlettsville, TN 37072\n",
       "570               Traverse City, MI 49684400 Valley Lane \n",
       "343                       Mahwah, NJ 074302 Wrangler St. \n",
       "2167             172 W. Prairie Street Cheshire, CT 06410\n",
       "2367                 8933 Windsor Street Rahway, NJ 07065\n",
       "4168    Collins asked him whether Rush's bail conditio...\n",
       "3952                 Ashtabula, OH 440042 S. Thorne Ave. \n",
       "3606                  109 Thomas St. Cookeville, TN 38501\n",
       "2835               Carrollton, GA 30117576 W. Front Road \n",
       "1292                  Eden Prairie, MN 55347863 Kent St. \n",
       "1497             Copperas Cove, TX 7652291 Marvon Circle \n",
       "1457     Hoffman Estates, IL 601697228 NW. Kirkland Ave. \n",
       "1135                 18 53rd Court Murfreesboro, TN 37128\n",
       "2721                    79 Meadow Street Lanham, MD 20706\n",
       "2986               9037 Saxon Street Burlington, MA 01803\n",
       "841                  9744 Bow Ridge St. Windsor, CT 06095\n",
       "2780     Dearborn Heights, MI 4812724 West Virginia Ave. \n",
       "2119                   852 SE. 53rd Rd. Conyers, GA 30012\n",
       "965                     30 Carpenter Dr. Parlin, NJ 08859\n",
       "528              Oakland Gardens, NY 11364607 Gulf Drive \n",
       "176                9781 Littleton Ave. Metairie, LA 70001\n",
       "422                 713 Heritage St. Hinesville, GA 31313\n",
       "1652           Pompano Beach, FL 330608989 Swanson Drive \n",
       "3586          Torrington, CT 067907 North Pin Oak Street \n",
       "2245             8261 Addison Street Hackensack, NJ 07601\n",
       "572                  Cumberland, RI 0286422 Harrison Dr. \n",
       "2545               30 Mammoth Road Murfreesboro, TN 37128\n",
       "                              ...                        \n",
       "3202                 Kalispell, MT 599012 University St. \n",
       "1528          West Springfield, MA 010897944B George St. \n",
       "1267                  Euless, TX 760399768 Harvard Drive \n",
       "1899                 50 Yukon Avenue Plainfield, NJ 07060\n",
       "3005       Vernon Rockville, CT 06066644 Cambridge Drive \n",
       "2734                     Wilson, NC 27893312 Garden Lane \n",
       "189                543 Old Edgemont Ave. Nashua, NH 03060\n",
       "1806                     Taylors, SC 29687963 Taylor Dr. \n",
       "975                  8951 Jennings Avenue Macon, GA 31204\n",
       "2747              Fort Lee, NJ 07024332 East Howard Lane \n",
       "2047         9 Peg Shop Court Lake In The Hills, IL 60156\n",
       "2558                 506 High Noon St. Brooklyn, NY 11201\n",
       "1082                   800 Penn Street Eastlake, OH 44095\n",
       "474               34 Rockcrest Road Canandaigua, NY 14424\n",
       "2904          Chesterton, IN 46304250 East Thompson Ave. \n",
       "4117    113 Recasting the matter in terms of a duty of...\n",
       "3385       84 East Del Monte Drive Santa Monica, CA 90403\n",
       "1184               Bemidji, MN 56601107 Randall Mill St. \n",
       "2433    47 E. Lower River Street North Fort Myers, FL ...\n",
       "2391                  49 Hickory Lane Green Bay, WI 54302\n",
       "769                      8238 Shore St. Conyers, GA 30012\n",
       "1685          Battle Ground, WA 98604801 Hawthorne Court \n",
       "130                 69 Ohio Drive Winter Garden, FL 34787\n",
       "2919                   Bethlehem, PA 180158042 Beech St. \n",
       "3171                   Derby, KS 6703733 Rockwell Street \n",
       "3444              9776 Squaw Creek Circle Ogden, UT 84404\n",
       "466                 904 Bowman Ave. Goose Creek, SC 29445\n",
       "3092           Sanford, NC 27330593 East Colonial Street \n",
       "3772           Colorado Springs, CO 8091172 Annadale St. \n",
       "860                  330 Annadale Street Ankeny, IA 50023\n",
       "Name: Text, Length: 2970, dtype: object"
      ]
     },
     "execution_count": 17,
     "metadata": {},
     "output_type": "execute_result"
    }
   ],
   "source": [
    "X_train"
   ]
  },
  {
   "cell_type": "code",
   "execution_count": 18,
   "metadata": {
    "collapsed": true
   },
   "outputs": [],
   "source": [
    "model = LogisticRegression()"
   ]
  },
  {
   "cell_type": "code",
   "execution_count": 19,
   "metadata": {},
   "outputs": [
    {
     "data": {
      "text/plain": [
       "LogisticRegression(C=1.0, class_weight=None, dual=False, fit_intercept=True,\n",
       "          intercept_scaling=1, max_iter=100, multi_class='ovr', n_jobs=1,\n",
       "          penalty='l2', random_state=None, solver='liblinear', tol=0.0001,\n",
       "          verbose=0, warm_start=False)"
      ]
     },
     "execution_count": 19,
     "metadata": {},
     "output_type": "execute_result"
    }
   ],
   "source": [
    "model.fit(X,y_train)"
   ]
  },
  {
   "cell_type": "code",
   "execution_count": 27,
   "metadata": {
    "collapsed": true
   },
   "outputs": [],
   "source": [
    "results = model.predict(X_t)"
   ]
  },
  {
   "cell_type": "code",
   "execution_count": 28,
   "metadata": {},
   "outputs": [
    {
     "data": {
      "text/plain": [
       "0.9921507064364207"
      ]
     },
     "execution_count": 28,
     "metadata": {},
     "output_type": "execute_result"
    }
   ],
   "source": [
    "accuracy_score(results,y_test)"
   ]
  },
  {
   "cell_type": "code",
   "execution_count": 30,
   "metadata": {},
   "outputs": [
    {
     "data": {
      "text/plain": [
       "array([[1213,   10],\n",
       "       [   0,   51]], dtype=int64)"
      ]
     },
     "execution_count": 30,
     "metadata": {},
     "output_type": "execute_result"
    }
   ],
   "source": [
    "confusion_matrix(results,y_test)"
   ]
  }
 ],
 "metadata": {
  "kernelspec": {
   "display_name": "Python 3",
   "language": "python",
   "name": "python3"
  },
  "language_info": {
   "codemirror_mode": {
    "name": "ipython",
    "version": 3
   },
   "file_extension": ".py",
   "mimetype": "text/x-python",
   "name": "python",
   "nbconvert_exporter": "python",
   "pygments_lexer": "ipython3",
   "version": "3.6.2"
  }
 },
 "nbformat": 4,
 "nbformat_minor": 2
}
