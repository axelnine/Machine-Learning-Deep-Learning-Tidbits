{
 "cells": [
  {
   "cell_type": "markdown",
   "metadata": {},
   "source": [
    "### Address Extraction Classifier\n",
    "\n",
    "#### Prem Shah\n",
    "\n",
    "Addresses generated randomly from https://www.randomlists.com/random-addresses. Legal documents taken from open dataset https://archive.ics.uci.edu/ml/datasets/Legal+Case+Reports.\n",
    "\n",
    "\n",
    "Dataset is in the form of Text and Label\n",
    "\n"
   ]
  },
  {
   "cell_type": "markdown",
   "metadata": {},
   "source": []
  },
  {
   "cell_type": "markdown",
   "metadata": {},
   "source": [
    "### Import libraries and data"
   ]
  },
  {
   "cell_type": "code",
   "execution_count": 193,
   "metadata": {
    "collapsed": true
   },
   "outputs": [],
   "source": [
    "import pandas as pd\n",
    "import numpy as np\n",
    "import re\n",
    "from sklearn.model_selection import train_test_split\n",
    "from sklearn.feature_extraction.text import TfidfVectorizer\n",
    "from sklearn.linear_model import LogisticRegression\n",
    "from sklearn.naive_bayes import GaussianNB, MultinomialNB\n",
    "from sklearn.metrics import accuracy_score, confusion_matrix"
   ]
  },
  {
   "cell_type": "code",
   "execution_count": 400,
   "metadata": {
    "collapsed": true
   },
   "outputs": [],
   "source": [
    "data = pd.read_csv(\"Data.csv\")\n",
    "test_data = pd.read_excel(\"testdata.xlsx\")"
   ]
  },
  {
   "cell_type": "code",
   "execution_count": 284,
   "metadata": {},
   "outputs": [
    {
     "data": {
      "text/html": [
       "<div>\n",
       "<style scoped>\n",
       "    .dataframe tbody tr th:only-of-type {\n",
       "        vertical-align: middle;\n",
       "    }\n",
       "\n",
       "    .dataframe tbody tr th {\n",
       "        vertical-align: top;\n",
       "    }\n",
       "\n",
       "    .dataframe thead th {\n",
       "        text-align: right;\n",
       "    }\n",
       "</style>\n",
       "<table border=\"1\" class=\"dataframe\">\n",
       "  <thead>\n",
       "    <tr style=\"text-align: right;\">\n",
       "      <th></th>\n",
       "      <th>Text</th>\n",
       "      <th>Tag</th>\n",
       "    </tr>\n",
       "  </thead>\n",
       "  <tbody>\n",
       "    <tr>\n",
       "      <th>11244</th>\n",
       "      <td>9.6 Governing law and jurisdiction (a) The Sc...</td>\n",
       "      <td>NaN</td>\n",
       "    </tr>\n",
       "    <tr>\n",
       "      <th>11245</th>\n",
       "      <td>&lt;sentence id=\"s532\"&gt;(b) The Scheme Creditors h...</td>\n",
       "      <td>NaN</td>\n",
       "    </tr>\n",
       "    <tr>\n",
       "      <th>11246</th>\n",
       "      <td>&lt;sentence id=\"s533\"&gt;(c) The Scheme Creditors i...</td>\n",
       "      <td>NaN</td>\n",
       "    </tr>\n",
       "    <tr>\n",
       "      <th>11247</th>\n",
       "      <td>&lt;sentence id=\"s534\"&gt;(d) Nothing in this clause...</td>\n",
       "      <td>NaN</td>\n",
       "    </tr>\n",
       "    <tr>\n",
       "      <th>11248</th>\n",
       "      <td>&lt;sentence id=\"s535\"&gt;(e) Notwithstanding the pr...</td>\n",
       "      <td>NaN</td>\n",
       "    </tr>\n",
       "  </tbody>\n",
       "</table>\n",
       "</div>"
      ],
      "text/plain": [
       "                                                    Text  Tag\n",
       "11244   9.6 Governing law and jurisdiction (a) The Sc...  NaN\n",
       "11245  <sentence id=\"s532\">(b) The Scheme Creditors h...  NaN\n",
       "11246  <sentence id=\"s533\">(c) The Scheme Creditors i...  NaN\n",
       "11247  <sentence id=\"s534\">(d) Nothing in this clause...  NaN\n",
       "11248  <sentence id=\"s535\">(e) Notwithstanding the pr...  NaN"
      ]
     },
     "execution_count": 284,
     "metadata": {},
     "output_type": "execute_result"
    }
   ],
   "source": [
    "data.tail()"
   ]
  },
  {
   "cell_type": "markdown",
   "metadata": {},
   "source": [
    "### Clean data and convert data types"
   ]
  },
  {
   "cell_type": "code",
   "execution_count": 128,
   "metadata": {
    "collapsed": true
   },
   "outputs": [],
   "source": [
    "data = data.dropna()\n",
    "data[\"Tag\"] = data[\"Tag\"].astype('category')"
   ]
  },
  {
   "cell_type": "code",
   "execution_count": 130,
   "metadata": {
    "collapsed": true
   },
   "outputs": [],
   "source": [
    "def remove_xml_tags(series):\n",
    "    \"\"\"\n",
    "    Removing XML tags from training data\n",
    "    \"\"\"\n",
    "    series = series.replace('<[^>]+>', '', regex=True)\n",
    "    return series"
   ]
  },
  {
   "cell_type": "code",
   "execution_count": 164,
   "metadata": {
    "collapsed": true
   },
   "outputs": [],
   "source": [
    "def remove_short_texts(df,series):\n",
    "    \"\"\"\n",
    "    Takes dataframe and returns dataframe\n",
    "    Removes all rows with less than 5 characters\n",
    "    \"\"\"\n",
    "    series = series.astype(str)\n",
    "    df = df[series.apply(lambda x: len(x) >= 5)]\n",
    "    return df"
   ]
  },
  {
   "cell_type": "code",
   "execution_count": 386,
   "metadata": {},
   "outputs": [
    {
     "name": "stdout",
     "output_type": "stream",
     "text": [
      "Already Categorical\n"
     ]
    }
   ],
   "source": [
    "try:\n",
    "    data[\"Tag\"] = data[\"Tag\"].cat.codes\n",
    "except:\n",
    "    print(\"Already Categorical\")\n",
    "#0 = Address, 1 = Statement"
   ]
  },
  {
   "cell_type": "code",
   "execution_count": 141,
   "metadata": {},
   "outputs": [],
   "source": [
    "data['Text'] = remove_xml_tags(data['Text'])\n",
    "data = remove_short_texts(data,data['Text'])"
   ]
  },
  {
   "cell_type": "markdown",
   "metadata": {},
   "source": [
    "### Model buiding and training"
   ]
  },
  {
   "cell_type": "code",
   "execution_count": 281,
   "metadata": {
    "collapsed": true
   },
   "outputs": [],
   "source": [
    "def dataset_split(X,y,train_size):\n",
    "    \"\"\"\n",
    "    Training and testing split\n",
    "    \"\"\"\n",
    "    X_train, X_test, y_train, y_test = train_test_split(X, y, test_size=1-train_size, random_state=42)\n",
    "    return X_train, X_test, y_train, y_test"
   ]
  },
  {
   "cell_type": "code",
   "execution_count": 30,
   "metadata": {
    "collapsed": true
   },
   "outputs": [],
   "source": [
    "X_train, X_test, y_train, y_test = dataset_split(data['Text'],data['Tag'],0.7)"
   ]
  },
  {
   "cell_type": "code",
   "execution_count": 361,
   "metadata": {},
   "outputs": [
    {
     "name": "stderr",
     "output_type": "stream",
     "text": [
      "C:\\Anaconda3\\lib\\site-packages\\sklearn\\feature_extraction\\text.py:1089: FutureWarning: Conversion of the second argument of issubdtype from `float` to `np.floating` is deprecated. In future, it will be treated as `np.float64 == np.dtype(float).type`.\n",
      "  if hasattr(X, 'dtype') and np.issubdtype(X.dtype, np.float):\n"
     ]
    }
   ],
   "source": [
    "vectorizer = TfidfVectorizer(lowercase=False, ngram_range=(1,1))\n",
    "X_train_vectorized = vectorizer.fit_transform(X_train)\n",
    "X_test_vectorized = vectorizer.transform(X_test)"
   ]
  },
  {
   "cell_type": "code",
   "execution_count": 362,
   "metadata": {
    "collapsed": true
   },
   "outputs": [],
   "source": [
    "def metrics(predicted_values, test_values):\n",
    "    '''\n",
    "    This function takes in two lists/arrays\n",
    "    \n",
    "    predicted_values: List of values predicted by model\n",
    "    test_values: List of actual values\n",
    "    \n",
    "    It outputs a printed list of metrics like accuracy, precision, recall and f1-score\n",
    "    \n",
    "    The function can be modified to return variables instead of printing the outputs\n",
    "    \n",
    "    '''\n",
    "    predicted_values = np.array(predicted_values)\n",
    "    test_values = np.array(test_values)\n",
    "    true_positives,true_negatives,false_positives,false_negatives = 0,0,0,0\n",
    "    \n",
    "    for i in range(0,len(predicted_values)):\n",
    "        if (predicted_values[i] == 0 and test_values[i] == 0):\n",
    "            true_negatives = true_negatives + 1\n",
    "        elif (predicted_values[i] == 1 and test_values[i] == 1):\n",
    "            true_positives = true_positives + 1\n",
    "        elif (predicted_values[i] == 1 and test_values[i] == 0):\n",
    "            false_positives = false_positives + 1\n",
    "        else:\n",
    "            false_negatives = false_negatives + 1\n",
    "        \n",
    "    \n",
    "    accuracy = 100*(true_positives + true_negatives) / (true_positives + true_negatives + false_positives + false_negatives) \n",
    "    precision = 100*true_positives / (true_positives + false_positives)\n",
    "    recall = 100*true_positives / (true_positives + false_negatives)\n",
    "    f1_score = 2*precision*recall / (precision+recall)\n",
    "    \n",
    "    print(\"Results:\\n----------------------------\")\n",
    "    print(\"Accuracy:\", round(accuracy,2), \"%\")\n",
    "    print(\"Precision:\", round(precision,2), \"%\")\n",
    "    print(\"Recall:\", round(recall,2), \"%\")\n",
    "    print(\"F1 Score:\", round(f1_score,2), \"%\")   \n",
    "    print(\"\\n\")\n",
    "    print(confusion_matrix(predicted_values,test_values))\n",
    "    \n",
    "    return None"
   ]
  },
  {
   "cell_type": "code",
   "execution_count": 363,
   "metadata": {
    "collapsed": true
   },
   "outputs": [],
   "source": [
    "def evaluate_model(X_train,y_train,X_test,y_test,model):\n",
    "    model.fit(X_train.todense(),y_train)\n",
    "    results = model.predict(X_test.todense())\n",
    "    evaluation = metrics(results,y_test)\n",
    "    return results,model"
   ]
  },
  {
   "cell_type": "code",
   "execution_count": 364,
   "metadata": {
    "collapsed": true
   },
   "outputs": [],
   "source": [
    "def test_model(X_test,model):\n",
    "    results = model.predict(X_test.todense())\n",
    "    return results"
   ]
  },
  {
   "cell_type": "markdown",
   "metadata": {},
   "source": [
    "### Model Results "
   ]
  },
  {
   "cell_type": "code",
   "execution_count": 365,
   "metadata": {},
   "outputs": [
    {
     "name": "stdout",
     "output_type": "stream",
     "text": [
      "Results:\n",
      "----------------------------\n",
      "Accuracy: 98.5 %\n",
      "Precision: 99.86 %\n",
      "Recall: 95.23 %\n",
      "F1 Score: 97.49 %\n",
      "\n",
      "\n",
      "[[1752   37]\n",
      " [   1  739]]\n"
     ]
    }
   ],
   "source": [
    "results_lr,model_lr = evaluate_model(X_train_vectorized,y_train,X_test_vectorized,y_test,LogisticRegression())"
   ]
  },
  {
   "cell_type": "code",
   "execution_count": 366,
   "metadata": {
    "scrolled": true
   },
   "outputs": [
    {
     "name": "stdout",
     "output_type": "stream",
     "text": [
      "Results:\n",
      "----------------------------\n",
      "Accuracy: 99.8 %\n",
      "Precision: 99.36 %\n",
      "Recall: 100.0 %\n",
      "F1 Score: 99.68 %\n",
      "\n",
      "\n",
      "[[1748    0]\n",
      " [   5  776]]\n"
     ]
    }
   ],
   "source": [
    "results_gnb,model_gnb = evaluate_model(X_train_vectorized,y_train,X_test_vectorized,y_test,GaussianNB())"
   ]
  },
  {
   "cell_type": "code",
   "execution_count": 367,
   "metadata": {},
   "outputs": [
    {
     "name": "stdout",
     "output_type": "stream",
     "text": [
      "Results:\n",
      "----------------------------\n",
      "Accuracy: 99.6 %\n",
      "Precision: 100.0 %\n",
      "Recall: 98.71 %\n",
      "F1 Score: 99.35 %\n",
      "\n",
      "\n",
      "[[1753   10]\n",
      " [   0  766]]\n"
     ]
    }
   ],
   "source": [
    "results_mnb,model_mnb = evaluate_model(X_train_vectorized,y_train,X_test_vectorized,y_test,MultinomialNB())"
   ]
  },
  {
   "cell_type": "markdown",
   "metadata": {},
   "source": [
    "### Misclassifications"
   ]
  },
  {
   "cell_type": "code",
   "execution_count": 393,
   "metadata": {},
   "outputs": [
    {
     "data": {
      "text/plain": [
       "4060    930 n.e high street #f-223 issaql ah washingto...\n",
       "5558                                 255 W. Bedford Lane \n",
       "5665                                        283 1st Ave. \n",
       "5378                                      247 Wayne Ave. \n",
       "4690                                      167 Sierra St. \n",
       "Name: Text, dtype: object"
      ]
     },
     "execution_count": 393,
     "metadata": {},
     "output_type": "execute_result"
    }
   ],
   "source": [
    "X_test[results_gnb!=y_test]"
   ]
  },
  {
   "cell_type": "code",
   "execution_count": 369,
   "metadata": {},
   "outputs": [
    {
     "data": {
      "text/plain": [
       "7695                                              (TS 20)\n",
       "7589                                      (-) citalopram.\n",
       "6854                         SERIOUS QUESTION TO BE TRIED\n",
       "6981     MANAGING ALLEGATIONS OF MISCONDUCT OR SERIOUS...\n",
       "7058                                           REDUNDANCY\n",
       "7190                                      &#8226; Fashion\n",
       "7046                                       Superannuation\n",
       "7186                                     &#8226; Trekking\n",
       "7573                                                FACTS\n",
       "7185                                       &#8226; Rugged\n",
       "Name: Text, dtype: object"
      ]
     },
     "execution_count": 369,
     "metadata": {},
     "output_type": "execute_result"
    }
   ],
   "source": [
    "X_test[results_mnb!=y_test]"
   ]
  },
  {
   "cell_type": "code",
   "execution_count": 370,
   "metadata": {},
   "outputs": [
    {
     "data": {
      "text/plain": [
       "6408                                        SECTION 3D(2)\n",
       "6742    As the High Court observed in Alexandra Privat...\n",
       "7254    18 In August 1992 Edgarlodge opened a retail s...\n",
       "6581               Jacobson J dismissed that application.\n",
       "7681                               (b) a letter enclosing\n",
       "7472           A defence under s 122(1)(f) was abandoned.\n",
       "7184                                     &#8226; American\n",
       "7695                                              (TS 20)\n",
       "7589                                      (-) citalopram.\n",
       "7611                        The letter states inter alia:\n",
       "7041                                Fixed Term Employment\n",
       "6307                                        They provide:\n",
       "6895    BREACH OF AN IMPLIED TERM OF TRUST AND CONVENI...\n",
       "8382    4 In 1988 Ms Pelka purchased a two bedroom apa...\n",
       "7292     This last proposition requires some elaboration.\n",
       "8517                                       (Ground 4(d)).\n",
       "7373    They are as varied as plastic bags, bodybags, ...\n",
       "7957                                  He was denied bail.\n",
       "8520                                       (Ground 4(e)).\n",
       "6313                            THE APPLICANT'S ARGUMENTS\n",
       "6854                         SERIOUS QUESTION TO BE TRIED\n",
       "8092                            (c) Prohibited immigrant.\n",
       "4581                 26 en the sy sle court of washington\n",
       "6981     MANAGING ALLEGATIONS OF MISCONDUCT OR SERIOUS...\n",
       "7269                              There were two reasons.\n",
       "5928    Patching contacted Federal Agent Osseily who h...\n",
       "7058                                           REDUNDANCY\n",
       "7190                                      &#8226; Fashion\n",
       "7046                                       Superannuation\n",
       "8379    In 1985 she met a man called Michael Kuhl at a...\n",
       "7186                                     &#8226; Trekking\n",
       "7114                     CLASSIFICATION --- GENERAL STAFF\n",
       "7573                                                FACTS\n",
       "8480                         Ms Pelka did more housework.\n",
       "6533    These reasons concern only the constitutional ...\n",
       "7764     GROUND (a): DATE OF REJECTION OF STATEMENT OF...\n",
       "8552    Those headings were: normal retirement benefit...\n",
       "7185                                       &#8226; Rugged\n",
       "Name: Text, dtype: object"
      ]
     },
     "execution_count": 370,
     "metadata": {},
     "output_type": "execute_result"
    }
   ],
   "source": [
    "X_test[results_lr!=y_test]"
   ]
  },
  {
   "cell_type": "markdown",
   "metadata": {},
   "source": [
    "### Testing on Real Data"
   ]
  },
  {
   "cell_type": "code",
   "execution_count": 401,
   "metadata": {},
   "outputs": [],
   "source": [
    "test_data = remove_short_texts(test_data,test_data['Text'])"
   ]
  },
  {
   "cell_type": "code",
   "execution_count": 402,
   "metadata": {},
   "outputs": [
    {
     "name": "stderr",
     "output_type": "stream",
     "text": [
      "C:\\Anaconda3\\lib\\site-packages\\sklearn\\feature_extraction\\text.py:1089: FutureWarning: Conversion of the second argument of issubdtype from `float` to `np.floating` is deprecated. In future, it will be treated as `np.float64 == np.dtype(float).type`.\n",
      "  if hasattr(X, 'dtype') and np.issubdtype(X.dtype, np.float):\n"
     ]
    }
   ],
   "source": [
    "test_data_vectorized = vectorizer.transform(test_data['Text'])"
   ]
  },
  {
   "cell_type": "code",
   "execution_count": 403,
   "metadata": {},
   "outputs": [
    {
     "data": {
      "text/plain": [
       "<173x10539 sparse matrix of type '<class 'numpy.float64'>'\n",
       "\twith 962 stored elements in Compressed Sparse Row format>"
      ]
     },
     "execution_count": 403,
     "metadata": {},
     "output_type": "execute_result"
    }
   ],
   "source": [
    "test_data_vectorized"
   ]
  },
  {
   "cell_type": "code",
   "execution_count": 404,
   "metadata": {},
   "outputs": [],
   "source": [
    "results = test_model(test_data_vectorized,model_gnb)"
   ]
  },
  {
   "cell_type": "code",
   "execution_count": 405,
   "metadata": {},
   "outputs": [],
   "source": [
    "test_data['Tag'] = results"
   ]
  },
  {
   "cell_type": "code",
   "execution_count": 406,
   "metadata": {},
   "outputs": [],
   "source": [
    "test_data['Tag'] = np.where(test_data['Tag']==0, 'Address', 'Statement')"
   ]
  },
  {
   "cell_type": "code",
   "execution_count": 408,
   "metadata": {},
   "outputs": [
    {
     "data": {
      "text/html": [
       "<div>\n",
       "<style scoped>\n",
       "    .dataframe tbody tr th:only-of-type {\n",
       "        vertical-align: middle;\n",
       "    }\n",
       "\n",
       "    .dataframe tbody tr th {\n",
       "        vertical-align: top;\n",
       "    }\n",
       "\n",
       "    .dataframe thead th {\n",
       "        text-align: right;\n",
       "    }\n",
       "</style>\n",
       "<table border=\"1\" class=\"dataframe\">\n",
       "  <thead>\n",
       "    <tr style=\"text-align: right;\">\n",
       "      <th></th>\n",
       "      <th>Text</th>\n",
       "      <th>Tag</th>\n",
       "    </tr>\n",
       "  </thead>\n",
       "  <tbody>\n",
       "    <tr>\n",
       "      <th>31</th>\n",
       "      <td>2120 S.W. 337TH PLACE #209</td>\n",
       "      <td>Address</td>\n",
       "    </tr>\n",
       "    <tr>\n",
       "      <th>32</th>\n",
       "      <td>FEDERAL WAY, Washington 98023</td>\n",
       "      <td>Address</td>\n",
       "    </tr>\n",
       "    <tr>\n",
       "      <th>45</th>\n",
       "      <td>i Ft Bo 4 901 Fifth Avenue, Suite 800</td>\n",
       "      <td>Address</td>\n",
       "    </tr>\n",
       "    <tr>\n",
       "      <th>46</th>\n",
       "      <td>* ama SEATTLE, WASHINGTON 98164</td>\n",
       "      <td>Address</td>\n",
       "    </tr>\n",
       "    <tr>\n",
       "      <th>47</th>\n",
       "      <td>TELEPHONE: (206) 386-4800</td>\n",
       "      <td>Address</td>\n",
       "    </tr>\n",
       "    <tr>\n",
       "      <th>48</th>\n",
       "      <td>FACSIMILE: (206) 233-8166</td>\n",
       "      <td>Address</td>\n",
       "    </tr>\n",
       "    <tr>\n",
       "      <th>90</th>\n",
       "      <td>andy Redford/WSBA No. 21529</td>\n",
       "      <td>Address</td>\n",
       "    </tr>\n",
       "    <tr>\n",
       "      <th>94</th>\n",
       "      <td>900 Fourth Avenue, Suite 1400</td>\n",
       "      <td>Address</td>\n",
       "    </tr>\n",
       "    <tr>\n",
       "      <th>95</th>\n",
       "      <td>SEATTLE, WASHINGTON 98164</td>\n",
       "      <td>Address</td>\n",
       "    </tr>\n",
       "    <tr>\n",
       "      <th>96</th>\n",
       "      <td>TELEPHONE; (206) 386-4800</td>\n",
       "      <td>Address</td>\n",
       "    </tr>\n",
       "    <tr>\n",
       "      <th>100</th>\n",
       "      <td>SEATTLE, WA</td>\n",
       "      <td>Address</td>\n",
       "    </tr>\n",
       "    <tr>\n",
       "      <th>101</th>\n",
       "      <td>. Court of Washington</td>\n",
       "      <td>Address</td>\n",
       "    </tr>\n",
       "    <tr>\n",
       "      <th>102</th>\n",
       "      <td>County ‘of</td>\n",
       "      <td>Address</td>\n",
       "    </tr>\n",
       "    <tr>\n",
       "      <th>134</th>\n",
       "      <td>Street Address 600 1° Ave., Suite 314</td>\n",
       "      <td>Address</td>\n",
       "    </tr>\n",
       "    <tr>\n",
       "      <th>135</th>\n",
       "      <td>Seattle, WA 98104</td>\n",
       "      <td>Address</td>\n",
       "    </tr>\n",
       "    <tr>\n",
       "      <th>136</th>\n",
       "      <td>Telephone (206) 414-1957</td>\n",
       "      <td>Address</td>\n",
       "    </tr>\n",
       "    <tr>\n",
       "      <th>137</th>\n",
       "      <td>Fax (206) 494-0001</td>\n",
       "      <td>Address</td>\n",
       "    </tr>\n",
       "    <tr>\n",
       "      <th>145</th>\n",
       "      <td>RCW 59.12.070 SEATTLE, WASHINGTON 98104</td>\n",
       "      <td>Address</td>\n",
       "    </tr>\n",
       "    <tr>\n",
       "      <th>146</th>\n",
       "      <td>TELEPHONE (206) 414-1957</td>\n",
       "      <td>Address</td>\n",
       "    </tr>\n",
       "    <tr>\n",
       "      <th>147</th>\n",
       "      <td>Fax (206) 494-0001</td>\n",
       "      <td>Address</td>\n",
       "    </tr>\n",
       "    <tr>\n",
       "      <th>149</th>\n",
       "      <td>j i FE Spohomish County Superior Court</td>\n",
       "      <td>Address</td>\n",
       "    </tr>\n",
       "    <tr>\n",
       "      <th>151</th>\n",
       "      <td>County Clerk</td>\n",
       "      <td>Address</td>\n",
       "    </tr>\n",
       "    <tr>\n",
       "      <th>152</th>\n",
       "      <td>2UOOLT 29 PH 2:23 Everett WA</td>\n",
       "      <td>Address</td>\n",
       "    </tr>\n",
       "    <tr>\n",
       "      <th>160</th>\n",
       "      <td>0/29/2010 11/01/2010 1:36 PH</td>\n",
       "      <td>Address</td>\n",
       "    </tr>\n",
       "    <tr>\n",
       "      <th>165</th>\n",
       "      <td>Transaction Asount: $75.</td>\n",
       "      <td>Address</td>\n",
       "    </tr>\n",
       "    <tr>\n",
       "      <th>178</th>\n",
       "      <td>4:30 P.M., on November 12, 2010</td>\n",
       "      <td>Address</td>\n",
       "    </tr>\n",
       "    <tr>\n",
       "      <th>182</th>\n",
       "      <td>Everett, Washington 98208</td>\n",
       "      <td>Address</td>\n",
       "    </tr>\n",
       "    <tr>\n",
       "      <th>193</th>\n",
       "      <td>901 Fifth Avenue, Suite 800</td>\n",
       "      <td>Address</td>\n",
       "    </tr>\n",
       "    <tr>\n",
       "      <th>194</th>\n",
       "      <td>DD OL loiN AL SEATTLE, WASHINGTON 98164</td>\n",
       "      <td>Address</td>\n",
       "    </tr>\n",
       "    <tr>\n",
       "      <th>195</th>\n",
       "      <td>TELEPHONE: (206) 386-4800</td>\n",
       "      <td>Address</td>\n",
       "    </tr>\n",
       "    <tr>\n",
       "      <th>196</th>\n",
       "      <td>FACSIMILE: (206) 233-8166</td>\n",
       "      <td>Address</td>\n",
       "    </tr>\n",
       "  </tbody>\n",
       "</table>\n",
       "</div>"
      ],
      "text/plain": [
       "                                        Text      Tag\n",
       "31                2120 S.W. 337TH PLACE #209  Address\n",
       "32             FEDERAL WAY, Washington 98023  Address\n",
       "45     i Ft Bo 4 901 Fifth Avenue, Suite 800  Address\n",
       "46           * ama SEATTLE, WASHINGTON 98164  Address\n",
       "47                 TELEPHONE: (206) 386-4800  Address\n",
       "48                 FACSIMILE: (206) 233-8166  Address\n",
       "90               andy Redford/WSBA No. 21529  Address\n",
       "94             900 Fourth Avenue, Suite 1400  Address\n",
       "95                 SEATTLE, WASHINGTON 98164  Address\n",
       "96                 TELEPHONE; (206) 386-4800  Address\n",
       "100                              SEATTLE, WA  Address\n",
       "101                    . Court of Washington  Address\n",
       "102                               County ‘of  Address\n",
       "134    Street Address 600 1° Ave., Suite 314  Address\n",
       "135                        Seattle, WA 98104  Address\n",
       "136                 Telephone (206) 414-1957  Address\n",
       "137                       Fax (206) 494-0001  Address\n",
       "145  RCW 59.12.070 SEATTLE, WASHINGTON 98104  Address\n",
       "146                 TELEPHONE (206) 414-1957  Address\n",
       "147                       Fax (206) 494-0001  Address\n",
       "149   j i FE Spohomish County Superior Court  Address\n",
       "151                             County Clerk  Address\n",
       "152             2UOOLT 29 PH 2:23 Everett WA  Address\n",
       "160             0/29/2010 11/01/2010 1:36 PH  Address\n",
       "165                 Transaction Asount: $75.  Address\n",
       "178          4:30 P.M., on November 12, 2010  Address\n",
       "182                Everett, Washington 98208  Address\n",
       "193              901 Fifth Avenue, Suite 800  Address\n",
       "194  DD OL loiN AL SEATTLE, WASHINGTON 98164  Address\n",
       "195                TELEPHONE: (206) 386-4800  Address\n",
       "196                FACSIMILE: (206) 233-8166  Address"
      ]
     },
     "execution_count": 408,
     "metadata": {},
     "output_type": "execute_result"
    }
   ],
   "source": [
    "test_data[test_data['Tag'] == 'Address']"
   ]
  },
  {
   "cell_type": "markdown",
   "metadata": {},
   "source": [
    "### Writing to file "
   ]
  },
  {
   "cell_type": "code",
   "execution_count": 409,
   "metadata": {},
   "outputs": [],
   "source": [
    "test_data.to_csv(\"test_output.csv\")"
   ]
  }
 ],
 "metadata": {
  "kernelspec": {
   "display_name": "Python 3",
   "language": "python",
   "name": "python3"
  },
  "language_info": {
   "codemirror_mode": {
    "name": "ipython",
    "version": 3
   },
   "file_extension": ".py",
   "mimetype": "text/x-python",
   "name": "python",
   "nbconvert_exporter": "python",
   "pygments_lexer": "ipython3",
   "version": "3.6.2"
  },
  "toc": {
   "base_numbering": 1,
   "nav_menu": {},
   "number_sections": true,
   "sideBar": true,
   "skip_h1_title": false,
   "title_cell": "Table of Contents",
   "title_sidebar": "Contents",
   "toc_cell": false,
   "toc_position": {},
   "toc_section_display": true,
   "toc_window_display": false
  },
  "varInspector": {
   "cols": {
    "lenName": 16,
    "lenType": 16,
    "lenVar": 40
   },
   "kernels_config": {
    "python": {
     "delete_cmd_postfix": "",
     "delete_cmd_prefix": "del ",
     "library": "var_list.py",
     "varRefreshCmd": "print(var_dic_list())"
    },
    "r": {
     "delete_cmd_postfix": ") ",
     "delete_cmd_prefix": "rm(",
     "library": "var_list.r",
     "varRefreshCmd": "cat(var_dic_list()) "
    }
   },
   "position": {
    "height": "453px",
    "left": "1166px",
    "right": "20px",
    "top": "120px",
    "width": "360px"
   },
   "types_to_exclude": [
    "module",
    "function",
    "builtin_function_or_method",
    "instance",
    "_Feature"
   ],
   "window_display": false
  }
 },
 "nbformat": 4,
 "nbformat_minor": 2
}
