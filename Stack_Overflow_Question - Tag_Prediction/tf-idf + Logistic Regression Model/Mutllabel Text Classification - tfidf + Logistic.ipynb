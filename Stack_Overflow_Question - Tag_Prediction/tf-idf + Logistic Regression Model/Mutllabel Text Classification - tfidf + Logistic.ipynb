{
 "cells": [
  {
   "cell_type": "code",
   "execution_count": 1,
   "metadata": {},
   "outputs": [
    {
     "name": "stderr",
     "output_type": "stream",
     "text": [
      "C:\\Anaconda3\\lib\\site-packages\\sklearn\\cross_validation.py:41: DeprecationWarning: This module was deprecated in version 0.18 in favor of the model_selection module into which all the refactored classes and functions are moved. Also note that the interface of the new CV iterators are different from that of this module. This module will be removed in 0.20.\n",
      "  \"This module will be removed in 0.20.\", DeprecationWarning)\n"
     ]
    }
   ],
   "source": [
    "import pandas as pd\n",
    "import numpy as np\n",
    "import re\n",
    "import nltk\n",
    "from nltk.corpus import stopwords\n",
    "import itertools\n",
    "import operator\n",
    "from collections import Counter\n",
    "from nltk import pos_tag\n",
    "from textblob import TextBlob\n",
    "from nltk.corpus import stopwords\n",
    "from sklearn.cross_validation import train_test_split\n",
    "from scipy import sparse as sp_sparse\n",
    "from sklearn.feature_extraction.text import TfidfVectorizer\n",
    "from sklearn.preprocessing import MultiLabelBinarizer\n",
    "from collections import defaultdict\n",
    "\n",
    "\n",
    "from sklearn.multiclass import OneVsRestClassifier\n",
    "from sklearn.linear_model import LogisticRegression, RidgeClassifier\n",
    "\n",
    "from sklearn.metrics import accuracy_score\n",
    "from sklearn.metrics import f1_score\n",
    "from sklearn.metrics import roc_auc_score \n",
    "from sklearn.metrics import average_precision_score\n",
    "from sklearn.metrics import recall_score\n",
    "from sklearn.metrics import confusion_matrix"
   ]
  },
  {
   "cell_type": "code",
   "execution_count": 2,
   "metadata": {
    "collapsed": true
   },
   "outputs": [],
   "source": [
    "tags = pd.read_csv('./Tags.csv')"
   ]
  },
  {
   "cell_type": "code",
   "execution_count": 3,
   "metadata": {
    "collapsed": true
   },
   "outputs": [],
   "source": [
    "x = tags['Tag'].value_counts()"
   ]
  },
  {
   "cell_type": "code",
   "execution_count": 4,
   "metadata": {},
   "outputs": [
    {
     "data": {
      "text/plain": [
       "javascript    124155\n",
       "java          115212\n",
       "c#            101186\n",
       "php            98808\n",
       "android        90659\n",
       "jquery         78542\n",
       "python         64601\n",
       "html           58976\n",
       "c++            47591\n",
       "ios            47009\n",
       "Name: Tag, dtype: int64"
      ]
     },
     "execution_count": 4,
     "metadata": {},
     "output_type": "execute_result"
    }
   ],
   "source": [
    "x.head(10)"
   ]
  },
  {
   "cell_type": "code",
   "execution_count": 5,
   "metadata": {
    "collapsed": true
   },
   "outputs": [],
   "source": [
    "x = pd.DataFrame(x[x>35000])"
   ]
  },
  {
   "cell_type": "code",
   "execution_count": 6,
   "metadata": {
    "collapsed": true
   },
   "outputs": [],
   "source": [
    "x = x.reset_index()"
   ]
  },
  {
   "cell_type": "code",
   "execution_count": 7,
   "metadata": {
    "collapsed": true
   },
   "outputs": [],
   "source": [
    "valid_ids = tags[tags['Tag'].isin(x['index'])]"
   ]
  },
  {
   "cell_type": "code",
   "execution_count": 8,
   "metadata": {},
   "outputs": [
    {
     "data": {
      "text/plain": [
       "947293"
      ]
     },
     "execution_count": 8,
     "metadata": {},
     "output_type": "execute_result"
    }
   ],
   "source": [
    "len(valid_ids.Id)"
   ]
  },
  {
   "cell_type": "code",
   "execution_count": 9,
   "metadata": {},
   "outputs": [
    {
     "data": {
      "text/plain": [
       "759996"
      ]
     },
     "execution_count": 9,
     "metadata": {},
     "output_type": "execute_result"
    }
   ],
   "source": [
    "len(valid_ids.Id.unique())"
   ]
  },
  {
   "cell_type": "code",
   "execution_count": 10,
   "metadata": {
    "collapsed": true
   },
   "outputs": [],
   "source": [
    "#Join all tags grouped by the question ID\n",
    "\n",
    "valid_ids = valid_ids.groupby('Id').agg(lambda x: \" \".join(x)).reset_index()\n",
    "valid_ids['Tag'] = valid_ids['Tag'].apply(lambda x: x.split(\" \"))"
   ]
  },
  {
   "cell_type": "code",
   "execution_count": 11,
   "metadata": {
    "collapsed": true
   },
   "outputs": [],
   "source": [
    "questions = pd.read_csv('./Questions.csv', encoding = 'latin-1')"
   ]
  },
  {
   "cell_type": "code",
   "execution_count": 12,
   "metadata": {
    "collapsed": true
   },
   "outputs": [],
   "source": [
    "ques_tags = pd.merge(left = questions, right = valid_ids, how = 'right', on = 'Id')"
   ]
  },
  {
   "cell_type": "code",
   "execution_count": 13,
   "metadata": {},
   "outputs": [
    {
     "data": {
      "text/plain": [
       "759996"
      ]
     },
     "execution_count": 13,
     "metadata": {},
     "output_type": "execute_result"
    }
   ],
   "source": [
    "len(ques_tags)"
   ]
  },
  {
   "cell_type": "code",
   "execution_count": 14,
   "metadata": {
    "collapsed": true
   },
   "outputs": [],
   "source": [
    "ques_tags = ques_tags[ques_tags.Score > 0]"
   ]
  },
  {
   "cell_type": "code",
   "execution_count": 15,
   "metadata": {
    "collapsed": true
   },
   "outputs": [],
   "source": [
    "ques_tags.to_pickle('top10')"
   ]
  },
  {
   "cell_type": "code",
   "execution_count": 16,
   "metadata": {},
   "outputs": [
    {
     "data": {
      "text/plain": [
       "{'I',\n",
       " \"I'm\",\n",
       " \"I've\",\n",
       " 'a',\n",
       " 'about',\n",
       " 'above',\n",
       " 'after',\n",
       " 'again',\n",
       " 'against',\n",
       " 'ain',\n",
       " 'all',\n",
       " 'am',\n",
       " 'an',\n",
       " 'and',\n",
       " 'any',\n",
       " 'are',\n",
       " 'aren',\n",
       " \"aren't\",\n",
       " 'as',\n",
       " 'at',\n",
       " 'be',\n",
       " 'because',\n",
       " 'been',\n",
       " 'before',\n",
       " 'being',\n",
       " 'below',\n",
       " 'between',\n",
       " 'both',\n",
       " 'but',\n",
       " 'by',\n",
       " 'can',\n",
       " 'couldn',\n",
       " \"couldn't\",\n",
       " 'd',\n",
       " 'did',\n",
       " 'didn',\n",
       " \"didn't\",\n",
       " 'do',\n",
       " 'does',\n",
       " 'doesn',\n",
       " \"doesn't\",\n",
       " 'doing',\n",
       " 'don',\n",
       " \"don't\",\n",
       " 'down',\n",
       " 'during',\n",
       " 'each',\n",
       " 'few',\n",
       " 'for',\n",
       " 'from',\n",
       " 'further',\n",
       " 'had',\n",
       " 'hadn',\n",
       " \"hadn't\",\n",
       " 'has',\n",
       " 'hasn',\n",
       " \"hasn't\",\n",
       " 'have',\n",
       " 'haven',\n",
       " \"haven't\",\n",
       " 'having',\n",
       " 'he',\n",
       " 'her',\n",
       " 'here',\n",
       " 'hers',\n",
       " 'herself',\n",
       " 'him',\n",
       " 'himself',\n",
       " 'his',\n",
       " 'how',\n",
       " 'i',\n",
       " 'if',\n",
       " 'in',\n",
       " 'into',\n",
       " 'is',\n",
       " 'isn',\n",
       " \"isn't\",\n",
       " 'it',\n",
       " \"it's\",\n",
       " 'its',\n",
       " 'itself',\n",
       " 'just',\n",
       " 'll',\n",
       " 'm',\n",
       " 'ma',\n",
       " 'me',\n",
       " 'mightn',\n",
       " \"mightn't\",\n",
       " 'more',\n",
       " 'most',\n",
       " 'mustn',\n",
       " \"mustn't\",\n",
       " 'my',\n",
       " 'myself',\n",
       " 'needn',\n",
       " \"needn't\",\n",
       " 'no',\n",
       " 'nor',\n",
       " 'not',\n",
       " 'now',\n",
       " 'o',\n",
       " 'of',\n",
       " 'off',\n",
       " 'on',\n",
       " 'once',\n",
       " 'only',\n",
       " 'or',\n",
       " 'other',\n",
       " 'our',\n",
       " 'ours',\n",
       " 'ourselves',\n",
       " 'out',\n",
       " 'over',\n",
       " 'own',\n",
       " 're',\n",
       " 's',\n",
       " 'same',\n",
       " 'shan',\n",
       " \"shan't\",\n",
       " 'she',\n",
       " \"she's\",\n",
       " 'should',\n",
       " \"should've\",\n",
       " 'shouldn',\n",
       " \"shouldn't\",\n",
       " 'so',\n",
       " 'some',\n",
       " 'such',\n",
       " 't',\n",
       " 'than',\n",
       " 'that',\n",
       " \"that'll\",\n",
       " 'the',\n",
       " 'their',\n",
       " 'theirs',\n",
       " 'them',\n",
       " 'themselves',\n",
       " 'then',\n",
       " 'there',\n",
       " 'these',\n",
       " 'they',\n",
       " 'this',\n",
       " 'those',\n",
       " 'through',\n",
       " 'to',\n",
       " 'too',\n",
       " 'under',\n",
       " 'until',\n",
       " 'up',\n",
       " 've',\n",
       " 'very',\n",
       " 'was',\n",
       " 'wasn',\n",
       " \"wasn't\",\n",
       " 'we',\n",
       " 'were',\n",
       " 'weren',\n",
       " \"weren't\",\n",
       " 'what',\n",
       " 'when',\n",
       " 'where',\n",
       " 'which',\n",
       " 'while',\n",
       " 'who',\n",
       " 'whom',\n",
       " 'why',\n",
       " 'will',\n",
       " 'with',\n",
       " 'won',\n",
       " \"won't\",\n",
       " 'wouldn',\n",
       " \"wouldn't\",\n",
       " 'y',\n",
       " 'you',\n",
       " \"you'd\",\n",
       " \"you'll\",\n",
       " \"you're\",\n",
       " \"you've\",\n",
       " 'your',\n",
       " 'yours',\n",
       " 'yourself',\n",
       " 'yourselves'}"
      ]
     },
     "execution_count": 16,
     "metadata": {},
     "output_type": "execute_result"
    }
   ],
   "source": [
    "# Add necessary stopwords\n",
    "\n",
    "stopwords1 =  set(stopwords.words('english'))\n",
    "stopwords1.add(\"I'm\")\n",
    "stopwords1.add(\"I've\")\n",
    "stopwords1.add('I')\n",
    "stopwords1"
   ]
  },
  {
   "cell_type": "code",
   "execution_count": 17,
   "metadata": {
    "collapsed": true
   },
   "outputs": [],
   "source": [
    "def cleanhtml(raw_html):\n",
    "    '''\n",
    "    Function to clean the data of hyperlinks and other text\n",
    "    '''\n",
    "    cleanr = re.compile('<.*?> ')\n",
    "    cleanr1 = re.compile('<.*?>')\n",
    "    cleantext1 = re.sub(cleanr, '', raw_html)\n",
    "    cleantext = re.sub(cleanr1, '', cleantext1)\n",
    "    return(cleantext)"
   ]
  },
  {
   "cell_type": "code",
   "execution_count": 18,
   "metadata": {
    "collapsed": true
   },
   "outputs": [],
   "source": [
    "def integer_frequency(list_str):\n",
    "    '''\n",
    "    Function to clean out line breaks and other not required text\n",
    "    '''\n",
    "    list_str = re.sub(r'^.*?https?:\\/\\/.*[\\r\\n]*', '', list_str, flags=re.MULTILINE)\n",
    "    list_str = re.sub(r'^https?:\\/\\/.*[\\r\\n]*', '', list_str, flags=re.MULTILINE)\n",
    "    list_str = list_str.replace('.', ' ')\n",
    "    list_str = list_str.replace(',', ' ')\n",
    "    list_str = list_str.replace('\\n', ' ')\n",
    "    list_str = list_str.replace('\\r', ' ')\n",
    "    list_str = list_str.replace('?', '')\n",
    "    ls = [x for x in list_str.split(' ') if x not in stopwords1]\n",
    "    return \" \".join(ls)"
   ]
  },
  {
   "cell_type": "code",
   "execution_count": 19,
   "metadata": {
    "collapsed": true
   },
   "outputs": [],
   "source": [
    "#Clean the whole dataset and combine Question Title & Body\n",
    "\n",
    "ques_tags['Body'] = ques_tags['Body'].str.replace('<p>', '')\n",
    "ques_tags['Body'] = ques_tags['Body'].str.replace('</p>', '')\n",
    "ques_tags['Body'] = ques_tags['Body'].apply(lambda s: cleanhtml(s))\n",
    "ques_tags['Body'] = ques_tags['Body'].apply(lambda s: integer_frequency(s))\n",
    "ques_tags['ques'] = ques_tags['Title'] + ' ' + ques_tags['Body']\n",
    "ques_tags= ques_tags[['Id', 'ques','Tag']]\n"
   ]
  },
  {
   "cell_type": "code",
   "execution_count": null,
   "metadata": {
    "collapsed": true
   },
   "outputs": [],
   "source": []
  },
  {
   "cell_type": "code",
   "execution_count": 20,
   "metadata": {},
   "outputs": [
    {
     "data": {
      "text/plain": [
       "349136"
      ]
     },
     "execution_count": 20,
     "metadata": {},
     "output_type": "execute_result"
    }
   ],
   "source": [
    "len(ques_tags)"
   ]
  },
  {
   "cell_type": "markdown",
   "metadata": {},
   "source": [
    "# Modelling"
   ]
  },
  {
   "cell_type": "code",
   "execution_count": 21,
   "metadata": {
    "collapsed": true
   },
   "outputs": [],
   "source": [
    "X = ques_tags['ques'].values\n",
    "y = ques_tags['Tag'].values\n",
    "\n",
    "X_train, X_test, y_train, y_test = train_test_split(X, y, test_size=0.2, random_state=1)\n",
    "\n",
    "X_train, X_val, y_train, y_val = train_test_split(X_train, y_train, test_size=0.2, random_state=1)"
   ]
  },
  {
   "cell_type": "code",
   "execution_count": 22,
   "metadata": {
    "collapsed": true
   },
   "outputs": [],
   "source": [
    "REPLACE_BY_SPACE_RE = re.compile('[/(){}\\[\\]\\|@,;]')\n",
    "BAD_SYMBOLS_RE = re.compile('[^0-9a-z #+_]')\n",
    "STOPWORDS = set(stopwords.words('english'))\n",
    "\n",
    "def text_prepare(text):\n",
    "    \"\"\"\n",
    "        text: a string\n",
    "        \n",
    "        return: modified initial string\n",
    "    \"\"\"\n",
    "    text = text.lower()\n",
    "    text = REPLACE_BY_SPACE_RE.sub(' ', text) # replaces REPLACE_BY_SPACE_RE symbols by space in text\n",
    "    text = BAD_SYMBOLS_RE.sub('', text) # deletes symbols which are in BAD_SYMBOLS_RE from text\n",
    "    text = ' '.join(word for word in text.split() if word not in STOPWORDS) # deletes stopwors from text\n",
    "    return text"
   ]
  },
  {
   "cell_type": "code",
   "execution_count": 23,
   "metadata": {
    "collapsed": true
   },
   "outputs": [],
   "source": [
    "X_train = [text_prepare(x) for x in X_train]\n",
    "X_val = [text_prepare(x) for x in X_val]\n",
    "X_test = [text_prepare(x) for x in X_test]"
   ]
  },
  {
   "cell_type": "code",
   "execution_count": 24,
   "metadata": {},
   "outputs": [
    {
     "data": {
      "text/plain": [
       "['responsive web svg visualization building interactive svg visualization see image would like provide 2 decent fallback javascript disabled modernizr think better work fixed discrete pixel widths svg block adapt available width need window resize listener dynamically update layout overkill using media queries regarding 2 keeping design responsive would good way replacing svg visualization static images',\n",
       " 'exiting application messagebox call constructor want show dialog message box actual form user selects application completly closed trying use code even clicking form shown public form1 initializecomponent messagebox show contiue question messageboxbuttons yesno messageboxicon none messageboxdefaultbutton button1 dialogresult application exit also tried exepction application run problem idea would best approach',\n",
       " 'play audio file recorded via media recorder browser using android media recorder record audio code works fine audio getting recorded played successfully device setting output format audio file three_gpp audio encoder default files getting played browser actual requirement think setaudioencoder giving problem tried setting another encoder amr_nb still problem installed flash player luck using androidsdk 8 way play files browser help thanks advance']"
      ]
     },
     "execution_count": 24,
     "metadata": {},
     "output_type": "execute_result"
    }
   ],
   "source": [
    "X_train[:3]"
   ]
  },
  {
   "cell_type": "code",
   "execution_count": 25,
   "metadata": {
    "collapsed": true
   },
   "outputs": [],
   "source": [
    "from collections import defaultdict\n",
    "# Dictionary of all tags from train corpus with their counts.\n",
    "tags_counts = defaultdict(int)\n",
    "# Dictionary of all words from train corpus with their counts.\n",
    "words_counts = defaultdict(int)\n",
    "\n",
    "for tags in y_train:\n",
    "    for tag in tags:\n",
    "        tags_counts[tag] += 1\n",
    "\n",
    "for tags in y_val:\n",
    "    for tag in tags:\n",
    "        if tag not in tags_counts:\n",
    "            tags_counts[tag] += 1\n",
    "\n",
    "for text in X_train:\n",
    "    for word in text.split():\n",
    "        words_counts[word] += 1"
   ]
  },
  {
   "cell_type": "code",
   "execution_count": 26,
   "metadata": {
    "collapsed": true
   },
   "outputs": [],
   "source": [
    "most_common_tags = sorted(tags_counts.items(), key=lambda x: x[1], reverse=True)[:3]\n",
    "most_common_words = sorted(words_counts.items(), key=lambda x: x[1], reverse=True)[:3]"
   ]
  },
  {
   "cell_type": "code",
   "execution_count": 27,
   "metadata": {
    "collapsed": true
   },
   "outputs": [],
   "source": [
    "DICT_SIZE = 5000\n",
    "INDEX_TO_WORDS = sorted(words_counts.keys(), key=lambda x: words_counts[x], reverse=True)[:DICT_SIZE]\n",
    "WORDS_TO_INDEX = {word:i for i, word in enumerate(INDEX_TO_WORDS)}\n",
    "ALL_WORDS = WORDS_TO_INDEX.keys()\n",
    "\n",
    "def my_bag_of_words(text, words_to_index, dict_size):\n",
    "    \"\"\"\n",
    "        text: a string\n",
    "        dict_size: size of the dictionary\n",
    "        \n",
    "        return a vector which is a bag-of-words representation of 'text'\n",
    "    \"\"\"\n",
    "    text = text.split()\n",
    "    result_vector = np.zeros(dict_size)\n",
    "    for word in text:\n",
    "        if word in words_to_index:\n",
    "            result_vector[words_to_index[word]]+=1\n",
    "    \n",
    "    return result_vector"
   ]
  },
  {
   "cell_type": "code",
   "execution_count": 28,
   "metadata": {},
   "outputs": [
    {
     "name": "stdout",
     "output_type": "stream",
     "text": [
      "X_train shape  (223446, 5000)\n",
      "X_val shape  (55862, 5000)\n",
      "X_test shape  (69828, 5000)\n"
     ]
    }
   ],
   "source": [
    "X_train_mybag = sp_sparse.vstack([sp_sparse.csr_matrix(my_bag_of_words(text, WORDS_TO_INDEX, DICT_SIZE)) for text in X_train])\n",
    "X_val_mybag = sp_sparse.vstack([sp_sparse.csr_matrix(my_bag_of_words(text, WORDS_TO_INDEX, DICT_SIZE)) for text in X_val])\n",
    "X_test_mybag = sp_sparse.vstack([sp_sparse.csr_matrix(my_bag_of_words(text, WORDS_TO_INDEX, DICT_SIZE)) for text in X_test])\n",
    "print('X_train shape ', X_train_mybag.shape)\n",
    "print('X_val shape ', X_val_mybag.shape)\n",
    "print('X_test shape ', X_test_mybag.shape)"
   ]
  },
  {
   "cell_type": "code",
   "execution_count": 29,
   "metadata": {
    "collapsed": true
   },
   "outputs": [],
   "source": [
    "def tfidf_features(X_train, X_val, X_test):\n",
    "    \"\"\"\n",
    "        X_train, X_val, X_test — samples        \n",
    "        return TF-IDF vectorized representation of each sample and vocabulary\n",
    "    \"\"\"        \n",
    "    tfidf_vectorizer = TfidfVectorizer(min_df=5, max_df=0.9, ngram_range=(1, 2), token_pattern='(\\S+)')\n",
    "    X_train = tfidf_vectorizer.fit_transform(X_train)\n",
    "    X_val = tfidf_vectorizer.transform(X_val)\n",
    "    X_test = tfidf_vectorizer.transform(X_test)\n",
    "    \n",
    "    return X_train, X_val, X_test, tfidf_vectorizer.vocabulary_\n",
    "X_train_tfidf, X_val_tfidf, X_test_tfidf, tfidf_vocab = tfidf_features(X_train, X_val, X_test)\n",
    "tfidf_reversed_vocab = {i:word for word,i in tfidf_vocab.items()}"
   ]
  },
  {
   "cell_type": "code",
   "execution_count": 30,
   "metadata": {},
   "outputs": [
    {
     "data": {
      "text/plain": [
       "['#', '# #', '# ##', '# ###', '# ##0', '# #gt', '# +', '# 0', '# 09', '# 1']"
      ]
     },
     "execution_count": 30,
     "metadata": {},
     "output_type": "execute_result"
    }
   ],
   "source": [
    "sorted(tfidf_vocab)[:10]"
   ]
  },
  {
   "cell_type": "code",
   "execution_count": 32,
   "metadata": {
    "collapsed": true
   },
   "outputs": [],
   "source": [
    "mlb = MultiLabelBinarizer(classes=sorted(tags_counts.keys()))\n",
    "mlb1 = MultiLabelBinarizer(classes=sorted(tags_counts.keys()))\n",
    "#y_train = mlb.fit_transform(y_train)\n",
    "\n",
    "#y_val = mlb.fit_transform(y_val)"
   ]
  },
  {
   "cell_type": "code",
   "execution_count": 33,
   "metadata": {
    "collapsed": true
   },
   "outputs": [],
   "source": [
    "y_train_1 = mlb.fit_transform(y_train)"
   ]
  },
  {
   "cell_type": "code",
   "execution_count": 34,
   "metadata": {
    "collapsed": true
   },
   "outputs": [],
   "source": [
    "y_val_1 = mlb1.fit_transform(y_val)"
   ]
  },
  {
   "cell_type": "code",
   "execution_count": 35,
   "metadata": {
    "collapsed": true
   },
   "outputs": [],
   "source": [
    "#tried several classifiers and picked the best one.\n",
    "def train_classifier(X_train, y_train):\n",
    "    \"\"\"\n",
    "      X_train, y_train — training data\n",
    "      \n",
    "      return: trained classifier\n",
    "    \"\"\"\n",
    "    \n",
    "#     clf = OneVsRestClassifier(MLPClassifier(hidden_layer_sizes=(16,8,8), learning_rate='adaptive', max_iter=2000,verbose=True))\n",
    "#     clf = OneVsRestClassifier(SVC(max_iter=1000, verbose=True))\n",
    "#     clf = OneVsRestClassifier(LogisticRegression())\n",
    "#    clf = OneVsRestClassifier(AdaBoostClassifier())\n",
    "    clf = OneVsRestClassifier(RidgeClassifier(normalize=True))\n",
    "    clf.fit(X_train, y_train)\n",
    "    return clf   "
   ]
  },
  {
   "cell_type": "code",
   "execution_count": 38,
   "metadata": {},
   "outputs": [],
   "source": [
    "#classifier_mybag = train_classifier(X_train_mybag, y_train_1)\n",
    "classifier_tfidf = train_classifier(X_train_tfidf, y_train_1)"
   ]
  },
  {
   "cell_type": "code",
   "execution_count": 40,
   "metadata": {},
   "outputs": [],
   "source": [
    "import pickle\n",
    "filename = 'bow_model~.sav'\n",
    "filename2 = 'tfidf_model.sav'\n",
    "#pickle.dump(classifier_mybag, open(filename, 'wb'))\n",
    "pickle.dump(classifier_tfidf, open(filename, 'wb'))\n"
   ]
  },
  {
   "cell_type": "code",
   "execution_count": 41,
   "metadata": {
    "collapsed": true
   },
   "outputs": [],
   "source": [
    "#y_val_predicted_labels_mybag = classifier_mybag.predict(X_val_mybag)\n",
    "#y_val_predicted_scores_mybag = classifier_mybag.decision_function(X_val_mybag)\n",
    "\n",
    "y_val_predicted_labels_tfidf = classifier_tfidf.predict(X_val_tfidf)\n",
    "y_val_predicted_scores_tfidf = classifier_tfidf.decision_function(X_val_tfidf)"
   ]
  },
  {
   "cell_type": "code",
   "execution_count": 42,
   "metadata": {},
   "outputs": [
    {
     "name": "stdout",
     "output_type": "stream",
     "text": [
      "Title:\tinsert line breaks text file im creating sd card code pretty standard sreport contains text would like output text file contains several n line breaks render fine textview text file theyre nonexistent must something easy im missing try fileoutputstream fout new fileoutputstream sdir + sfile write fout write sreport getbytes close output stream fout flush fout close catch ioexception e e printstacktrace\n",
      "True labels:\tandroid\n",
      "Predicted labels:\t\n",
      "\n",
      "\n",
      "Title:\tdevexpress treelist adding objects show object name trying add objects treelist devexpress sadly fill cells automatically instead displays every cell object name public class tempitem private m_name string private m_value string public property name string get return m_name end get set value string m_name value end set end property public property value string get return m_value end get set value string m_value value end set end property end class private function tempitem1 list tempitem dim tmplist new list tempitem tmplist add new tempitem feature 0 tmplist add new tempitem feature2 1 return tmplist end function adding objects line tleditor nodes add tempitem1 toarray two columns treelist first column set fieldname second column set fieldname expecting treelist show value properties tempitem class case treelist show feature 0 feature2 1 instead shows cell like windowsapplication1 tempitem windowsapplication1 tempitem windowsapplication1 tempitem windowsapplication1 tempitem done wrong\n",
      "True labels:\tc#\n",
      "Predicted labels:\tc#\n",
      "\n",
      "\n",
      "Title:\tlock file shared location c# windows application used many users parallel application uses one xml file shared location server application uses file many methods question one user start using file user try use file show message user saying file using one try time note using one method say using filestream using multiple methods\n",
      "True labels:\tc#\n",
      "Predicted labels:\tc#\n",
      "\n",
      "\n",
      "Title:\topen new window 2nd frame button clicked present window 1st frame java swing working project login button frame created make user clicks login button present window terminate new window labels textfields would open prompting user enter username pass made frame textfield n labels dont know link two together made two different classes login button frame userid pass frame classes called seperate main class main function please help gotta submit project monday\n",
      "True labels:\tjava\n",
      "Predicted labels:\tjava\n",
      "\n",
      "\n",
      "Title:\tbeautifulsoup reading entire html obtained requests trying scrape data table sporting statistics presented html using beautifulsoup requests libraries running python 3 5 seem successfully obtaining html via requests display r content full html website trying scrape displayed however pass beautifulsoup beautifulsoup drops bulk html tables statistics take look question html scoring progression onward dropped think problem relates pieces html included brackets able develop workaround tried html lxml html5lib parsers beautifulsoup avail also tried providing useragent headers work either code brevitys sake included output import requests bs4 import beautifulsoup soup beautifulsoup r content html5lib print soup\n",
      "True labels:\thtml,python\n",
      "Predicted labels:\thtml,python\n",
      "\n",
      "\n",
      "Title:\tnetwork_provider found android ics 41 title say im using public int onstartcommand intent get int num1 int num2 lm null lm removeupdates prefs getsharedpreferences prefs context mode_private lm locationmanager getsystemservice location_service criteria criteria new criteria criteria setaccuracy criteria accuracy_coarse string provider lm getbestprovider criteria false gps listed list google location enabled detected note parameter false get list avaible provider enable toast maketext provider toast length_long show lm requestlocationupdates locationmanager network_provider 10000 0 isfromwidget true str2 get getstringextra num checknetworkstate return 0 public void ondestroy super ondestroy lm null lm removeupdates private void checknetworkstate lm null lm removeupdates stopself public void onlocationchanged location arg0 todo autogenerated method stub lat arg0 getlatitude lon arg0 getlongitude lat 0 amp amp lon 0 isfromwidget true lat 0 amp amp lon 0 stopself public void onproviderdisabled string provider todo autogenerated method stub public void onproviderenabled string provider todo autogenerated method stub public void onstatuschanged string provider int status bundle extras todo autogenerated method stub override public ibinder onbind intent intent todo autogenerated method stub return null return gps google location settings enabled im connected 3g wifi worked fine using android 2 3 x please pay attention code errors edited code posting thanks\n",
      "True labels:\tandroid,java\n",
      "Predicted labels:\tandroid,java\n",
      "\n",
      "\n",
      "Title:\tsql returning item ranking data subset would like guidance best way number subsets data table return full dataset dataset 50k records database holds test results row answer question person 2 tests could 2 20 tests data looks like personid testid questionid uid1 t1 qua1 uid1 t1 qua2 uid1 t1 qaa3 uid1 t2 qub1 uid1 t2 qub2 uid1 t2 qub3 uid2 t1 qua1 uid2 t3 quc1 aim return dataset number denote whether test 1st 2nd one person order important need allocate 1 2 testids likewise need number questions well say person 2 tests first 15 questions second 20 questions output would like personid testid questionid testnum qunum uid1 t1 qua1 1 1 uid1 t1 1 uid1 t1 qaa15 1 15 uid1 t2 qub1 2 1 uid1 t2 2 uid1 t2 qub20 2 20 person test number would either 1 2 number questions test would start 1 increase incrementally last question approach would use\n",
      "True labels:\tmysql,sql\n",
      "Predicted labels:\tsql\n",
      "\n",
      "\n",
      "Title:\tjava enums conceptual doubt consider enum enum day monday tuesday monday tuesday sun documentation says fields special class type enum case day dday monday mean assign class constant class variable\n",
      "True labels:\tjava\n",
      "Predicted labels:\tjava\n",
      "\n",
      "\n",
      "Title:\tinsert row google fusion table using python working project part involves inserting rows google fusion table project python script spent last couple days trying figure officially confused research seems indicate need use oauth 2 0 access api successfully get access token cant seem successfully get refresh token sure going hamper ability successfully integrate access fusion table python code second problem really understand exactly code inserting row table material found deprecated fusion tables sql api fully understand new way beginner sort thing direction help much appreciated edit code working far looks like client_id lt client_igt client_secret lt client_secretgt table_id lt table_idgt access_token refresh_token lt refresh_tokengt # refresh token used request new access token data urllib urlencode client_id client_id client_secret client_secret refresh_token refresh_token grant_type refresh_token request urllib2 request datadata request_open urllib2 urlopen request response request_open read request_open close tokens json loads response access_token tokens access_token # read table request_read urllib2 request urllib urlencode access_token access_token sql select table_id request_open urllib2 urlopen request_read response request_open read request_open close print response code trying insert new row table date str datetime date time str datetime time query insert table_id date time saskatoon regina meadowlake values date time 60 01 60 02 59 99 data urllib2 request urllib urlencode access_token access_token sql query request_open urllib2 urlopen data run get http error 400 http get used select queries know supposed making post get insert sure needs change code happen sorry noob 2nd edit sorry making longer feel pertinent show gotten far switched library requests things gotten somewhat easier however still successfully made post new code importing rows follows def importrows self print import rows date str datetime date time str datetime time data date date time time saskatoon 60 01 regina 59 95 tableid self params # self params access token importrow requests post url paramsdata print importrow status_code print importrow text gives 400 error errors domain fusiontables reason badimportinputempty message content empty code 400 message content empty\n",
      "True labels:\tpython\n",
      "Predicted labels:\tpython,sql\n",
      "\n",
      "\n",
      "Title:\tboost preprocessor expanding following code #include lt boost preprocessor hppgt #define args r data elem boost_pp_comma_if boost_pp_sub r 2 boost_pp_seq_elem 0 elem boost_pp_seq_elem 1 elem #define def_fun name args void name boost_pp_seq_for_each args args #define def_functions_elem r data elem def_fun boost_pp_seq_elem 0 elem boost_pp_seq_elem 1 elem #define def_functions funseqs boost_pp_seq_for_each def_functions_elem funseqs def_functions_elem 2 fun0 int arg0 char arg1 def_functions fun0 int arg0 char arg1 fun1 char arg0 long arg1 short arg2 fun3 preprocess clang 3 2 g++ 4 6 3 get void fun0 int arg0 char arg1 void fun0 boost_pp_seq_for_each args int arg0 char arg1 void fun1 boost_pp_seq_for_each args char arg0 long arg1 short arg2 void fun3 boost_pp_seq_for_each args added linebreaks clarity question inner boost_pp_seq_for_each expanded passing output expands expected result edit lot searching read macro wont expand called twice think thats edit used pp_seq_for_each_i r meant used subscript\n",
      "True labels:\tc++\n",
      "Predicted labels:\tc++\n",
      "\n",
      "\n",
      "Title:\targuments converted string formatting blob field integer field others str want insert binary data mysql line called error occured cursor execute insert image num1 num2 filename ext thumbnail image values num1 num2 _name _ext _thumb _image error text arguments converted string formatting fix please teach\n",
      "True labels:\tmysql,python\n",
      "Predicted labels:\tmysql\n",
      "\n",
      "\n",
      "Title:\tfind dot product subarrays numpy numpy function used calculate matrix product two 2d arrays two 3d arrays x say id like calculate matrix z possible noniteratively\n",
      "True labels:\tpython\n",
      "Predicted labels:\tpython\n",
      "\n",
      "\n",
      "Title:\tfix size login box drupal theme asked question previously thought fixed however fixed firefox safari login box wide jutting page contents looks like safari looks like firefox originally went fixing creating drupal module changed input size 15 43 put widerlogin module code paste bin kind person helped 43 chosen adjusting number firebug looked good however safari firebug know whats going make wide also messed iphone presumably safari thanks advance help oh site happening innovatefortomorrow org want look reason\n",
      "True labels:\tcss,php\n",
      "Predicted labels:\tcss\n",
      "\n",
      "\n",
      "Title:\tapache log file data analysis python pandas problem bit hard explain analyzing apache log file following one line parts code df df rename columns gt status bbytes returned hip lusername r request time u userid referer referer useragent agent df index pd to_datetime df pop time test df groupby ip agent size test sort print test 20 read log file data frame get following output hit counts user agents ip agent 203 81 107 103 mozilla 5 0 windows nt 6 1 rv21 0 gecko 20100101 firefox 21 0 388 124 43 84 242 mozilla 5 0 windows nt 6 2 applewebkit 537 31 khtml like gecko chrome 26 0 1410 64 safari 537 31 448 112 135 196 223 mozilla 5 0 windows nt 5 1 applewebkit 537 36 khtml like gecko chrome 27 0 1453 94 safari 537 36 454 124 43 155 138 mozilla 5 0 windows nt 6 1 wow64 rv21 0 gecko 20100101 firefox 21 0 461 124 43 104 198 mozilla 5 0 windows nt 5 1 rv21 0 gecko 20100101 firefox 21 0 467 want get highest 3 hit counts ips find frequency occurrence like time difference hit occurrence ip find whether different agents one single ip least please explain solve problems\n",
      "True labels:\tpython\n",
      "Predicted labels:\tpython\n",
      "\n",
      "\n",
      "Title:\tdjango sync db question django models say model exist details models py class occdetails models model title models charfield max_length 255 occ models foreignkey occ sync db made following fields get created later two fields added sync db made new fields doesnt get created solved also auto_nowtrue new fields created_date models datetimefield auto_now_addtrue modified_date models datetimefield auto_now_addtrue auto_nowtrue\n",
      "True labels:\tpython\n",
      "Predicted labels:\tpython\n",
      "\n",
      "\n",
      "Title:\ttrying change individual letters text clicked using javascript recently failed coding challenge trying complete anyways future knowledge trying change individual letters text clicked user using javascript jquery steps come happens steps working except step number 3 directions 1 hovering cursor word causes underline bar appear 2 clicking word bar present displays new block word 3 color letter changed clicking letter letter must change next step implemented 4 clicking highlighted word highlights word orange 5 clicking highlighted word change color red 6 clicking highlighted word reset word implemented pseudocode file think would logically work sure go configuring together html lt div classword_divgt lt p classdefault_word_stylegt lt span classinner_default_word_stylegt itslt spangt lt pgt lt p classdefault_word_stylegt lt span classinner_default_word_stylegt nolt spangt lt pgt lt p classdefault_word_stylegt lt span classinner_default_word_stylegt uselt spangt lt pgt lt p classdefault_word_stylegt lt span classinner_default_word_stylegt goinglt spangt lt pgt lt p classdefault_word_stylegt lt span classinner_default_word_stylegt backlt spangt lt pgt lt p classdefault_word_stylegt lt span classinner_default_word_stylegt tolt spangt lt pgt lt p classdefault_word_stylegt lt span classinner_default_word_stylegt yesterdaylt spangt lt pgt lt p classdefault_word_stylegt lt span classinner_default_word_stylegt becauselt spangt lt pgt lt p classdefault_word_stylegt lt span classinner_default_word_stylegt ilt spangt lt pgt lt p classdefault_word_stylegt lt span classinner_default_word_stylegt waslt spangt lt pgt lt p classdefault_word_stylegt lt span classinner_default_word_stylegt alt spangt lt pgt lt p classdefault_word_stylegt lt span classinner_default_word_stylegt differentlt spangt lt pgt lt p classdefault_word_stylegt lt span classinner_default_word_stylegt personlt spangt lt pgt lt p classdefault_word_stylegt lt span classinner_default_word_stylegt thenlt spangt lt pgt lt divgt lt divgt lt divgt css default_word_style paddingbottom 1em display inline default_word_stylehover textdecoration underline color orange inner_default_word_style color black inner_default_word_stylehover color black blue color blue backgroundcolor purple bold_orange color orange red color red purple color purple added_word backgroundcolor orange color white width 10 textalign center display_none display none javascript function counter 0 var word inner_default_word_style click function counter + 1 counter 1 word event target html event target append lt div classadded_wordgt + word + lt divgt else counter 2 1 letter clicked change color purple 2 check string letter see letters string clicked 3 letters string clicked counter + 1 next click counter 3 else 4 letters clicked counter 1 next click counter 2 repeat steps 13 else counter 3 added_word remove event target addclass bold_orange else counter 4 event target addclass red else counter 5 event target removeclass red bold_orange counter 0 console log counter\n",
      "True labels:\tcss,html,javascript,jquery\n",
      "Predicted labels:\tcss,html,javascript,jquery\n",
      "\n",
      "\n",
      "Title:\tscroll working mobile within specific div working making part website responsive found scrolling mobile working within specific div users uses touch screen try scroll within div work picture see scrolling working mobile user touches area outside scroll thought css rules causing even removed floats div amp divs children issue still persisted also tried removing rules main div causing issue still issue persisted lt div idproductchoicesinnercontainergt lt ul idproductchoicessidemenu classhiddenxs sidemenu side1 datapid1gt lt span classskewinggt lt spangt lt h3gt menult h3gt lt li classproductchoicessideelem option0 activegt 21 productslt spangt lt agt lt span classsidemenupositionindicatorgt lt spangt lt ligt lt li classproductchoicessideelem option1gt 21 productslt spangt lt agt lt span classsidemenupositionindicatorgt lt spangt lt ligt lt li classproductchoicessideelem option2gt 21 productslt spangt lt agt lt span classsidemenupositionindicatorgt lt spangt lt ligt lt li classproductchoicessideelem option3gt basic lt spangt lt agt lt span classsidemenupositionindicatorgt lt spangt lt ligt lt ulgt lt select classproductchoicessidemenumobile hiddensm hiddenmd hiddenlg sidemenu side1 datapid1gt lt option classproductchoicessideelem option0 valueoption0 selectedgt breakfast 21 products lt optiongt lt option classproductchoicessideelem option1 valueoption1gt lunch 21 products lt optiongt lt option classproductchoicessideelem option2 valueoption2gt snack 21 products lt optiongt lt option classproductchoicessideelem option3 valueoption3gt dinner basic lt optiongt lt selectgt lt ul idproductchoicessidemenu classhiddenxs sidemenu side2 hide datapid2gt lt span classskewinggt lt spangt lt h3gt menult h3gt lt li classproductchoicessideelem option0 activegt basic lt spangt lt agt lt span classsidemenupositionindicatorgt lt spangt lt ligt lt li classproductchoicessideelem option1gt basic lt spangt lt agt lt span classsidemenupositionindicatorgt lt spangt lt ligt lt li classproductchoicessideelem option2gt 14 productslt spangt lt agt lt span classsidemenupositionindicatorgt lt spangt lt ligt lt li classproductchoicessideelem option3gt basic lt spangt lt agt lt span classsidemenupositionindicatorgt lt spangt lt ligt lt ulgt lt select classproductchoicessidemenumobile hiddensm hiddenmd hiddenlg sidemenu side2 hide datapid2gt lt option classproductchoicessideelem option0 valueoption0 selectedgt breakfast basic lt optiongt lt option classproductchoicessideelem option1 valueoption1gt lunch basic lt optiongt lt option classproductchoicessideelem option2 valueoption2gt snack 14 products lt optiongt lt option classproductchoicessideelem option3 valueoption3gt dinner basic lt optiongt lt selectgt lt div idproductchoicesproductlistcontainergt lt div idproductchoicesproductlisttitlegt lt span classpucegt 1lt spangt lt h2gt menult h2gt lt h3gt lorem ipsum det ametlt h3gt lt ulgt lt ligt lt div classicongt lt divgt lt ligt lt ligt lt div classicongt lt divgt lt ligt lt ligt lt div classicongt lt divgt lt ligt lt ulgt lt div classmenupart1gt lt div classfancyboxproductscontainer productlisting uiwidget uiwidgetheader uicornerall pscontainer styleoverflow hiddengt lt div classproducts fancyboxproducts stylewidth 1162px gt lt div classproduct dataid59 stylecursor pointer gt lt span classqty visiblexsgt x2lt spangt lt div classthumbnailgt lt div classpictosgt lt divgt lt divgt lt span classtitle visiblexsgt product namelt spangt lt span classtitle hiddenxsgt product namelt spangt lt divgt lt divgt lt div classproduct dataid59 stylecursor pointer gt lt span classqty visiblexsgt x2lt spangt lt div classthumbnailgt lt div classpictosgt lt divgt lt divgt lt span classtitle visiblexsgt product namelt spangt lt span classtitle hiddenxsgt product namelt spangt lt divgt lt div classproduct dataid59 stylecursor pointer gt lt span classqty visiblexsgt x2lt spangt lt div classthumbnailgt lt div classpictosgt lt divgt lt divgt lt span classtitle visiblexsgt product namelt spangt lt span classtitle hiddenxsgt product namelt spangt lt divgt lt div classproduct dataid59 stylecursor pointer gt lt span classqty visiblexsgt x2lt spangt lt div classthumbnailgt lt div classpictosgt lt divgt lt divgt lt span classtitle visiblexsgt product namelt spangt lt span classtitle hiddenxsgt product namelt spangt lt divgt lt div classproduct dataid59 stylecursor pointer gt lt span classqty visiblexsgt x2lt spangt lt div classthumbnailgt lt div classpictosgt lt divgt lt divgt lt span classtitle visiblexsgt product namelt spangt lt span classtitle hiddenxsgt product namelt spangt lt divgt lt div classproduct dataid59 stylecursor pointer gt lt span classqty visiblexsgt x2lt spangt lt div classthumbnailgt lt div classpictosgt lt divgt lt divgt lt span classtitle visiblexsgt product namelt spangt lt span classtitle hiddenxsgt product namelt spangt lt divgt lt div classproduct dataid59 stylecursor pointer gt lt span classqty visiblexsgt x2lt spangt lt div classthumbnailgt lt div classpictosgt lt divgt lt divgt lt span classtitle visiblexsgt product namelt spangt lt span classtitle hiddenxsgt product namelt spangt lt divgt lt div classproduct dataid59 stylecursor pointer gt lt span classqty visiblexsgt x2lt spangt lt div classthumbnailgt lt div classpictosgt lt divgt lt divgt lt span classtitle visiblexsgt product namelt spangt lt span classtitle hiddenxsgt product namelt spangt lt divgt lt div classproduct dataid59 stylecursor pointer gt lt span classqty visiblexsgt x2lt spangt lt div classthumbnailgt lt div classpictosgt lt divgt lt divgt lt span classtitle visiblexsgt product namelt spangt lt span classtitle hiddenxsgt product namelt spangt lt divgt lt div classpsscrollbarxrail styleleft 0px bottom 3px width 272px display inherit gt lt div classpsscrollbarx styleleft 0px width 0px gt lt divgt lt divgt lt div classpsscrollbaryrail styletop 0px right 3px height 735px display none gt lt div classpsscrollbary styletop 0px height 0px gt lt divgt lt divgt lt divgt lt divgt lt divgt lt divgt lt divgt\n",
      "True labels:\tcss\n",
      "Predicted labels:\tcss,html,javascript,jquery\n",
      "\n",
      "\n",
      "Title:\tsleeping php processes mod_fcgid counsuming ram rapidly hope right place ask question running debian virtualized server apache running php fcgi today administrator told processes consuming ram system asked look around code well think virtually control php processes since apache spawns seems like server configuration problem seems every request spawns new php process ok script terminates php process goes sleep looks like sorted memory php processes run user edem top 144935 41 days 209 2 users load average 0 16 0 13 0 06 tasks 228 total 1 running 227 sleeping 0 stopped 0 zombie cpu 0 7us 0 3sy 0 0ni 98 7id 0 0wa 0 0hi 0 3si 0 0st pid user pr ni virt res shr cpu mem time+ command 12358 edem 20 0 67380 6464 2976 0 3 0 2 000 06 php 12250 edem 20 0 66960 9776 6584 0 0 0 3 000 11 php 12253 edem 20 0 67480 7812 3832 0 0 0 3 000 19 php 12254 edem 20 0 67464 7108 3316 0 0 0 2 000 07 php 12255 edem 20 0 67404 7340 3604 0 0 0 2 000 14 php 12256 edem 20 0 67464 7128 3336 0 0 0 2 000 07 php 12257 edem 20 0 67380 6484 3000 0 0 0 2 000 04 php 12258 edem 20 0 67464 7092 3312 0 0 0 2 000 05 php 12259 edem 20 0 67464 7184 3392 0 0 0 2 000 07 php 12260 edem 20 0 67464 7088 3296 0 0 0 2 000 06 php 12263 edem 20 0 66960 9780 6584 0 0 0 3 000 11 php 12265 edem 20 0 67464 7084 3280 0 0 0 2 000 09 php 12266 edem 20 0 67436 7376 3600 0 0 0 2 000 14 php 12267 edem 20 0 67464 7144 3340 0 0 0 2 000 06 php 12268 edem 20 0 67380 6508 3016 0 0 0 2 000 05 php 12269 edem 20 0 67540 7672 3820 0 0 0 2 000 22 php 12270 edem 20 0 67496 6488 3040 0 0 0 2 000 05 php 12271 edem 20 0 67436 7372 3596 0 0 0 2 000 15 php 12272 edem 20 0 67464 7108 3304 0 0 0 2 000 07 php 12277 edem 20 0 66960 9776 6584 0 0 0 3 000 11 php 12279 edem 20 0 67436 7368 3596 0 0 0 2 000 15 php 12280 edem 20 0 67464 7096 3296 0 0 0 2 000 07 php 12281 edem 20 0 67464 7748 3808 0 0 0 2 000 18 php 12282 edem 20 0 67496 7388 3600 0 0 0 2 000 14 php 12283 edem 20 0 67380 6464 2976 0 0 0 2 000 04 php 12284 edem 20 0 67380 6464 2976 0 0 0 2 000 05 php 12285 edem 20 0 67464 7168 3368 0 0 0 2 000 07 php 12286 edem 20 0 67464 7104 3304 0 0 0 2 000 06 php 12287 edem 20 0 66960 9780 6584 0 0 0 3 000 11 php 12289 edem 20 0 67464 7140 3336 0 0 0 2 000 07 php ide kill sleeping idling php processes something wrong\n",
      "True labels:\tphp\n",
      "Predicted labels:\tphp,python\n",
      "\n",
      "\n",
      "Title:\tstore contents arraylist one column table sqlite database android arraylist strings needt store arraylist 1 column database\n",
      "True labels:\tandroid\n",
      "Predicted labels:\tandroid,java,sql\n",
      "\n",
      "\n",
      "Title:\tself close tags closed end tag like div div researching tag closed lt div idmapcanvas gt part page lt doctype htmlgt lt htmlgt lt headgt lt meta nameviewport contentinitialscale1 0 userscalableno gt lt style typetext cssgt html height 100 body height 100 margin 0 padding 0 #mapcanvas height 100 lt stylegt lt script typetext javascript lt scriptgt lt script typetext javascriptgt function initialize var mapoptions center new google maps latlng 34 397 150 644 zoom 8 var map new google maps map document getelementbyid mapcanvas mapoptions google maps event adddomlistener window load initialize lt scriptgt lt headgt lt bodygt lt div idmapcanvas gt lt bodygt lt htmlgt much know tag close end taglt divgt would tell thanks advance\n",
      "True labels:\thtml\n",
      "Predicted labels:\tcss,html,javascript,jquery\n",
      "\n",
      "\n",
      "Title:\tget value dojo dijit colorpalette string always getting null color object back touched dojo year everything rusty colorpallette displays click variable objcolor always null lt html dirltrgt lt headgt lt style typetext cssgt body html fontfamilyhelvetica arial sansserif fontsize90 lt stylegt djconfigparseonload truegt lt scriptgt lt script typetext javascriptgt dojo require dojox widget colorpicker dojo require dijit colorpalette dojo require dijit form textbox dojo require dijit form textarea output coloramp color soundfileamp soundfile function updateresults var objcolorpalette dijit byid colorpalette var objcolor objcolorpalette value var objcolor objcolorpalette attr value alert objcolor + objcolor objcolor null output output replace amp color null else output output replace amp color objcolor tohex var objresulttextarea dijit byid results objresulttextarea set value output function setcolor val output output replace amp color val tohex var objresulttextarea dijit byid results objresulttextarea set value output lt scriptgt gt gt lt headgt lt body class claro gt lt h3gt begin data entrylt h3gt lt label formp3filenamegt autotrimming propercasing textbox lt labelgt lt input typetext namemp3filename value yourrelativefilename mp3 dojotypedijit form textbox trimtrue idfirstname propercasetruegt lt h3gt colorlt h3gt lt div dojotypedijit colorpalette onchangeupdateresults palette7x10 idcolorpalettegt lt divgt lt lt h3gt color pickerlt h3gt lt div dojotypedojox widget colorpicker idcolorpickergt lt divgt gt lt h3gt resultslt h3gt lt textarea idresults nameresults dojotypedijit form textarea stylewidth900px gt lorem ipsum dolor sit amet consectetuer adipiscing elit sed diam nonummy nibh euismod tincidunt ut laoreet dolore magna aliquam erat volutpat lt textareagt lt h3gt endlt h3gt lt bodygt lt htmlgt\n",
      "True labels:\tjavascript\n",
      "Predicted labels:\thtml,javascript,jquery\n",
      "\n",
      "\n",
      "Title:\ttwitter streaming api linq2twitter tweetinvi want create c# web api project get status tweets userid need help guidance data could large options ii store azure db hoping achieve iii get db values display json output hoping achieve trying achieve using luck streamingtype filter returning desired status object returns null use streamingtype filter track username follow userid b statustype user returns object use statustype supposed use statustype achieve using tweetinvi using linqtotwitter please help achieve thanks appreciate time\n",
      "True labels:\tc#\n",
      "Predicted labels:\tc#\n",
      "\n",
      "\n",
      "Title:\tselecting word interop header range causes word switch draft view selecting header range using select microsoft word automatically switches draft view current view type print layout stop word switching draft view following code example demonstrates document microsoft office interop word document section section document sections first foreach headerfooter header section headers header exists header range select call word switches draft view break edit 3 apparently saving view type resetting work however causes annoying flickering word switches draft view back print layout additionally double click main document space get header section word switches back draft view wdviewtype viewtype document activewindow view type range select document activewindow view type viewtype\n",
      "True labels:\tc#\n",
      "Predicted labels:\t\n",
      "\n",
      "\n",
      "Title:\tbreak lua script c++ another thread currently wrapping lua class c++ going pretty well far wondering way break lua script running could middle script another thread run lua script thread 1 break thread 2 would thanks\n",
      "True labels:\tc++\n",
      "Predicted labels:\tc++\n",
      "\n",
      "\n",
      "Title:\thost java swing app inside wpf app suppose question asking possible host jvm inside wpf application wpf windows presentation foundation found far\n",
      "True labels:\tjava\n",
      "Predicted labels:\tc#,java\n",
      "\n",
      "\n",
      "Title:\tmemory freed tpl working report generation windows service basically fetch data db create excels memory save excels db speed things decided use tpl code written listlt reportdatagt lstrd new listlt reportdatagt listlt taskgt tasks new listlt taskgt foreach var item lstrd tasks add task factory startnew generatereport task waitall tasks toarray tasks foreach xgt x iscompleted x wait task factory continuewhenall tasks toarray stopservice method get data db report create excel save db basically time taking memory intensive operation problem problem whenever see task manager server process never seems free memory used sometimes one task completes assume completes flag updated processed db one waiting get data db memory used task manager stays second task starts processing memory used keeps growing expecting tpl automatically task completes gc free memory memory keeps used ultimately get memory exception missing something something wrong difficult post entire code generate report method needed try post\n",
      "True labels:\tc#\n",
      "Predicted labels:\tc#\n",
      "\n",
      "\n",
      "Title:\trobotium test cases android new junit testcases want write junit test cases android apk using source code source code please provoke thank ur help advance\n",
      "True labels:\tandroid\n",
      "Predicted labels:\tandroid,java\n",
      "\n",
      "\n",
      "Title:\tjbuttons appearing properly borderlayout also issues adding actionlistener buttons got 2 issues code firstly reason jbuttons appear gui current configuration code run debugger appear line code cant seem figure whats issue second issue jbutton addactionlistener like work need actionlistener fire event different class cant anonymous actionlistener heres code import java awt import java awt event import javax swing public class ppp extends jframe static digit atp_hundred new digit amount pay static digit atp_ten new digit static digit atp_unit new digit static digit atp_tenth new digit static digit atp_hundreth new digit static digit ltr_ten new digit litres static digit ltr_unit new digit static digit ltr_tenth new digit static digit ppl_hundred new digit pence per litre static digit ppl_ten new digit static digit ppl_unit new digit static digit ppl_tenth new digit static ppp frame new ppp public static void init frame setsize 1280 800 frame setlayout new borderlayout jpanel mainpanel new mainpanel mainpanel setlayout new gridlayout 2 2 frame getcontentpane add mainpanel frame addwindowlistener new java awt event windowadapter public void windowclosing java awt event windowevent windowevent system exit 0 frame setvisible true public static void main string arg init true int 0 lt 10 i++ atp_hundred value atp_hundred update frame getcontentpane repaint try thread sleep 1000 catch exception e frame getcontentpane repaint try thread sleep 10 catch exception e public void refresh repaint public ppp super public void update graphics g paint g public static void atpcreate graphics g int x int atp_hundred create x drawpolygons g atp_hundred atp_ten create x+50 drawpolygons g atp_ten atp_unit create x+100 drawpolygons g atp_unit g drawoval x+145 y+60 10 10 atp_tenth create x+160 drawpolygons g atp_tenth public static void ltrcreate graphics g int x int ltr_ten create x+50 drawpolygons g ltr_ten ltr_unit create x+100 drawpolygons g ltr_unit g drawoval x+145 y+60 10 10 ltr_tenth create x+160 drawpolygons g ltr_tenth public static void pplcreate graphics g int x int ppl_hundred create x drawpolygons g ppl_hundred ppl_ten create x+50 drawpolygons g ppl_ten ppl_unit create x+100 drawpolygons g ppl_unit g drawoval x+145 y+60 10 10 ppl_tenth create x+160 drawpolygons g ppl_tenth public static void drawpolygons graphics g digit top g setcolor color green g fillpolygon ptop else g setcolor color black g drawpolygon ptop topleft g setcolor color green g fillpolygon ptopleft else g setcolor color black g drawpolygon ptopleft topright g setcolor color green g fillpolygon ptopright else g setcolor color black g drawpolygon ptopright mid g setcolor color green g fillpolygon pmid else g setcolor color black g drawpolygon pmid botleft g setcolor color green g fillpolygon pbotleft else g setcolor color black g drawpolygon pbotleft botright g setcolor color green g fillpolygon pbotright else g setcolor color black g drawpolygon pbotright bot g setcolor color green g fillpolygon pbot else g setcolor color black g drawpolygon pbot g setcolor color black class mainpanel extends jpanel public mainpanel setpreferredsize new dimension 1280 800 jpanel customerpanel new customerpanel customerpanel setlayout new borderlayout add customerpanel add new customerbuttons override public void paintcomponent graphics g super paintcomponent g g setfont new font copperplate gothic light font plain 30 string title petes petrol pump simulation valpha0 1 g setcolor color white g clearrect 0 0 640 500 g setcolor color black g drawstring title int 640 g getfontmetrics getstringbounds title g getwidth 2 75 class customerpanel extends jpanel public customerpanel setpreferredsize new dimension 640 500 setpreferredsize new dimension 500 800 customerbuttons buttons new customerbuttons add buttons borderlayout south override public void paintcomponent graphics g super paintcomponent g g setfont new font copperplate gothic light font plain 30 string title petes petrol pump simulation valpha0 1 g setcolor color white g clearrect 0 0 640 500 g setcolor color black g drawstring title int 640 g getfontmetrics getstringbounds title g getwidth 2 75 g drawroundrect 20 100 600 250 5 5 g setfont new font gill sans mt font plain 20 g drawstring amount pay 40 160 ppp atpcreate g 200 110 g drawstring litres dispensed 40 240 ppp ltrcreate g 200 190 g drawstring pence per litre 40 320 ppp pplcreate g 200 270 system println g getfontmetrics getstringbounds amount pay g getwidth class customerbuttons extends jpanel public customerbuttons jbutton remove new jbutton remove nozzle remove setactioncommand remove system println hello remove addactionlistener remove settooltiptext replace fucking nozzle jbutton squeeze new jbutton squeeze nozzle squeeze setactioncommand squeeze squeeze addactionlistener squeeze settooltiptext squeeze fucking nozzle jbutton stop new jbutton stop squeeze stop setactioncommand stop stop addactionlistener stop settooltiptext stop squeezing fucking nozzle jbutton replace new jbutton replace nozzle replace setactioncommand replace replace addactionlistener replace settooltiptext replace fucking nozzle add remove add squeeze add stop add replace class digit int value 0 boolean top false boolean topleft false boolean topright false boolean mid false boolean botleft false boolean botright false boolean bot false public void update switch value case 0 top true topleft true topright true mid false botleft true botright true bot true break case 1 top false topleft false topright true mid false botleft false botright true bot false break case 2 top true topleft false topright true mid true botleft true botright false bot true break case 3 top true topleft false topright true mid true botleft false botright true bot true break case 4 top false topleft true topright true mid true botleft false botright true bot false break case 5 top true topleft true topright false mid true botleft false botright true bot true break case 6 top true topleft true topright false mid true botleft true botright true bot true break case 7 top true topleft false topright true mid false botleft false botright true bot false break case 8 top true topleft true topright true mid true botleft true botright true bot true break case 9 top true topleft true topright true mid true botleft false botright true bot true break polygon ptop new polygon polygon ptopleft new polygon polygon ptopright new polygon polygon pmid new polygon polygon pbotleft new polygon polygon pbotright new polygon polygon pbot new polygon public void create int x int ptop addpoint x+10 ptop addpoint x+30 ptop addpoint x+35 y+5 ptop addpoint x+30 y+10 ptop addpoint x+10 y+10 ptop addpoint x+5 y+5 ptopleft addpoint x+5 y+5 ptopleft addpoint x+10 y+10 ptopleft addpoint x+10 y+30 ptopleft addpoint x+5 y+35 ptopleft addpoint x y+30 ptopleft addpoint x y+10 ptopright addpoint x+35 y+5 ptopright addpoint x+40 y+10 ptopright addpoint x+40 y+30 ptopright addpoint x+35 y+35 ptopright addpoint x+30 y+30 ptopright addpoint x+30 y+10 pmid addpoint x+10 y+30 pmid addpoint x+30 y+30 pmid addpoint x+35 y+35 pmid addpoint x+30 y+40 pmid addpoint x+10 y+40 pmid addpoint x+5 y+35 pbotleft addpoint x+5 y+35 pbotleft addpoint x+10 y+40 pbotleft addpoint x+10 y+60 pbotleft addpoint x+5 y+65 pbotleft addpoint x y+60 pbotleft addpoint x y+40 pbotright addpoint x+35 y+35 pbotright addpoint x+40 y+40 pbotright addpoint x+40 y+60 pbotright addpoint x+35 y+65 pbotright addpoint x+30 y+60 pbotright addpoint x+30 y+40 pbot addpoint x+10 y+60 pbot addpoint x+30 y+60 pbot addpoint x+35 y+65 pbot addpoint x+30 y+70 pbot addpoint x+10 y+70 pbot addpoint x+5 y+65 thanks help\n",
      "True labels:\tjava\n",
      "Predicted labels:\tjava\n",
      "\n",
      "\n",
      "Title:\tdisplaying radiofields extjs two radio button options one next textfield radiofield textarea next showing however first radiofield small showing help size ext create ext form panel xtype fieldset flex 1 defaulttype radio width100 borderfalse items checked true boxlabel small name inputvalue small layout hbox items boxlabel large name inputvalue l xtype splitter xtype textfield name specify\n",
      "True labels:\tjavascript\n",
      "Predicted labels:\tjavascript\n",
      "\n",
      "\n",
      "Title:\tglow minimum maximum close button followed guide create custom aero frame using dwm api custom window frame using dwm work void cmainframeonactivate uint nstate cwnd pwndother bool bminimized cframewndonactivate nstate pwndother bminimized bool fdwmenabled false succeeded dwmiscompositionenabled amp fdwmenabled nstate wa_active margins margins 1 hresult hr dwmextendframeintoclientarea m_hwnd amp margins succeeded hr void cmainframeonncpaint rect rcclient getwindowrect amp rcclient inform application frame change setwindowpos null rcclient left rcclient top rectwidth rcclient rectheight rcclient swp_framechanged cframewndonncpaint cdc dc getwindowdc dcgt fillsolidrect 0 0 rectwidth rcclient rectheight rcclient rgb 0 0 0 lresult cmainframeonnchittest cpoint p lresult r r cframewndonnchittest p r htminbutton r htmaxbutton r htclose return r else r hittestnca m_hwnd p function direct copied link return r result found minimum maximum close button glowed move mouse buttons general situation fix problem best regards\n",
      "True labels:\tc++\n",
      "Predicted labels:\tc++\n",
      "\n",
      "\n",
      "Title:\tset window height larger screen height anyone know actually possible set height window greater screen size using c# tried something like several windows setwindowpos handle new intptr 0 0 0 1024 4000 setwindowposflags swp_showwindow however never go past screen size way around\n",
      "True labels:\tc#\n",
      "Predicted labels:\tc#\n",
      "\n",
      "\n",
      "Title:\tget hashtags edittext editext user mention hashtags want get hashtags add arraylist get hashtags editext suppose contains #stackoverflow slove #hashtag #problem want hashtags #stackoverflow #hashtag #problem edittxtmsg addtextchangedlistener new textwatcher override public void ontextchanged charsequence int start int int count todo autogenerated method stub override public void beforetextchanged charsequence int start int count int todo autogenerated method stub override public void aftertextchanged editable todo autogenerated method stub int strlenght tostring length int available 140 strlenght setavailablespace available available lt 0 delete strlenght 1 strlenght mfinalmsg tostring private void setavailablespace int available todo autogenerated method stub tvcount settext available +\n",
      "True labels:\tandroid,java\n",
      "Predicted labels:\tandroid,java\n",
      "\n",
      "\n",
      "Title:\thttp error 414 request url long passing data server java android sending server request javacode android getting response code 414 new android please help using post method using following code package com hfad evenit import android util log import org json jsonexception import org json jsonobject import java io bufferedinputstream import java io bufferedreader import java io inputstream import java io inputstreamreader import java net httpurlconnection import java net url created vicky 22jul15 public class jsonfunctions public static jsonobject getjsonfromurl string url1 inputstream null string result jsonobject jarray null int response0 download json data url try url url new url url1 httpurlconnection conn httpurlconnection url openconnection conn setrequestmethod post response conn getresponsecode new bufferedinputstream conn getinputstream catch exception e log e log_tag error http connection + e tostring log e log_tag response + response convert response string try bufferedreader reader new bufferedreader new inputstreamreader iso88591 8 stringbuilder sb new stringbuilder string line null line reader readline null sb append line + n close result sb tostring catch exception e log e log_tag error converting result + e tostring try jarray new jsonobject result catch jsonexception e log e log_tag error parsing data + e tostring return jarray url request json data converted string urlencoded\n",
      "True labels:\tandroid\n",
      "Predicted labels:\tandroid,java\n",
      "\n",
      "\n",
      "Title:\tusing angular expression html onclick attribute using angular build table dynamically expression needs listed integer place use works everywhere except inside html script tag using throws error javascript sure better way looking quick simple solution display user id referenced script tag code lt table classtable nghideloading gt lt trgt lt thgt test search codelt thgt lt thgt test current companylt thgt lt thgt namelt thgt lt thgt emaillt thgt lt thgt createdlt thgt lt thgt lt thgt lt trgt lt tr ngrepeatuser users filtersearchtext gt lt references work fine gt lt tdgt user user mapped_test_search_code lt tdgt lt tdgt user employment 0 name lt tdgt lt tdgt user user mapped_first_name lt tdgt lt tdgt user user mapped_email lt tdgt lt tdgt user user created lt tdgt lt tdgt lt href admin mapped_users edit user user id gt lt span classglyphicon glyphiconpencilgt lt spangt lt agt lt tdgt lt tdgt lt one works toogt lt form action admin users delete + user user id namepost_ user user id idpost_ user user id styledisplaynone methodpost classngpristine ngvalidgt lt input typehidden name_method valuepostgt lt formgt lt one tag script attribute work gt lt href# classbtn btnblock onclickif confirm amp quot sureamp quot document post_ + user user id submit event returnvalue false return false originaltitlegt lt span classglyphicon glyphicontrashgt lt spangt lt agt lt tdgt lt trgt lt tablegt\n",
      "True labels:\thtml,javascript\n",
      "Predicted labels:\thtml,javascript,jquery,php\n",
      "\n",
      "\n",
      "Title:\tincorrect shape arguments lasagne function trying build neural network regressor using library understand ny nn seems built fine keep running following error call rmichael node sandbox sudo python nnscript py traceback recent call last file nnscript py line 15 lt modulegt print nn predict x_train 0 file users rmichael scikitneuralnetwork sknn mlp py line 309 predict return super regressor self _predict x file users rmichael scikitneuralnetwork sknn mlp py line 256 _predict return self _backend _predict_impl x file users rmichael scikitneuralnetwork sknn backend lasagne mlp py line 242 _predict_impl return self f x file usr local lib python2 7 distpackages theano compile function_module py line 786 __call__ allow_downcasts allow_downcast file usr local lib python2 7 distpackages theano tensor type py line 177 filter data shape typeerror bad input argument theano function name users rmichael scikitneuralnetwork sknn backend lasagne mlp py199 index 0 0based wrong number dimensions expected 2 got 1 shape 59 rmichael node sandbox code follows import numpy np sknn mlp import regressor layer x_train np genfromtxt onlinenewspopularity csv dtypefloat delimiter skip_header1 usecolsrange 1 60 y_train np genfromtxt onlinenewspopularity csv dtypefloat delimiter namestrue usecols 60 nn regressor layers layer rectifier units1 layer linear learning_rate0 02 n_iter1 nn fit x_train y_train print nn predict x_train 0 might someone know whats going wrong help would greatly appreciated\n",
      "True labels:\tpython\n",
      "Predicted labels:\tpython\n",
      "\n",
      "\n",
      "Title:\texclusive access microphone android possible get exclusive access android microphone application trying extend csipsimple application goal improve security one goals idea approach block applications record conversations downloaded app playstore call recorder called gets automatically dial phone number recording phone conversation need avoid stop application recording voice call\n",
      "True labels:\tandroid\n",
      "Predicted labels:\tandroid\n",
      "\n",
      "\n",
      "Title:\tshowing installed apps list gridview dialog working trying show installed apps list dialog onclick button apps list gridview code follows mapapp setonclicklistener new onclicklistener override public void onclick view v loadapps final dialog dialog new dialog getapplicationcontext layoutinflater inflater layoutinflater getapplicationcontext getsystemservice layout_inflater_service view layout inflater inflate r layout categorydialog viewgroup findviewbyid r id layout_root dialog settitle title gridview mgrid gridview layout findviewbyid r id gridview mgrid setadapter new appsadapter mainactivity mgrid setonitemclicklistener new onitemclicklistener public void onitemclick adapterviewlt gt parent view v int position long id methods private void loadapps intent mainintent new intent intent action_main null mainintent addcategory intent category_launcher mapps getpackagemanager queryintentactivities mainintent 0 adapter follows public class appsadapter extends baseadapter private context mcontext public appsadapter context context mcontext context layoutinflater inflater layoutinflater context getsystemservice context layout_inflater_service public view getview int position view convertview viewgroup parent imageview convertview null new imageview mcontext setscaletype imageview scaletype fit_center setlayoutparams new gridview layoutparams 50 50 else imageview convertview resolveinfo info mapps get position setimagedrawable info activityinfo loadicon getpackagemanager return public final int getcount return mapps size public final object getitem int position return mapps get position public final long getitemid int position return position error nothing shown please suggest might wrong\n",
      "True labels:\tandroid\n",
      "Predicted labels:\tandroid,java\n",
      "\n",
      "\n",
      "Title:\trounded edges cell thinner top bottom part cell strange problem make rounded corner cell round corner thinner top bottom make cell layer borderwidth 0 5 cell layer cornerradius 9 cell layer bordercolor redcellcolor cgcolor\n",
      "True labels:\tios\n",
      "Predicted labels:\tios\n",
      "\n",
      "\n",
      "Title:\tremove empty p allow one per group wondering remove empty elements something like lt pgt hello worldlt pgt lt pgt lt brgt lt pgt lt pgt lt brgt lt pgt lt removegt lt pgt lt brgt lt pgt lt removegt lt pgt lorem ipsum dolor sit ametlt pgt lt pgt lt brgt lt pgt lt pgt lt brgt lt pgt lt removegt lt pgt eum ne nostro admodumlt pgt lt pgt lt brgt lt pgt var p_empty p filter function v return trim v text length0 got empty elements idea remove next empty elements ps looking good js performance also\n",
      "True labels:\tjavascript,jquery\n",
      "Predicted labels:\tcss,html,javascript,jquery\n",
      "\n",
      "\n",
      "Title:\tunable load requested file error codeigniter new codeigniter getting problem unable load requested file code looks like thisgt loadgt view base_url index_page reservation details userid data\n",
      "True labels:\tphp\n",
      "Predicted labels:\tphp\n",
      "\n",
      "\n",
      "Title:\tneed css text color ahover take precedence avisited css code shows background color hover text white blue background otherwise hover text blue white background however link visited text remains blue blue background hover force hover text color take precedence alink color#3399cc ahover backgroundcolor#3399cc color#ffffff avisited color#3399cc aactive color#3399cc\n",
      "True labels:\tcss\n",
      "Predicted labels:\tcss,html\n",
      "\n",
      "\n",
      "Title:\tjquery ajax post data received php ajax function sends data page page interpreted php using firebug see data sent however received php page change get function _get data php works work post _post ajax type post data obj success function data alert data datatype json\n",
      "True labels:\tjquery,php\n",
      "Predicted labels:\tjavascript,jquery,php\n",
      "\n",
      "\n",
      "Title:\tparametric closures php currying seem recall actually kind toy sure almost sure php looking way emulate lets say closures c1 function p use obj return f p obj constant1 c2 function p use obj return f p obj constant2 c3 function p use obj return f p obj constant3 dostuff somedata c1 dostuff somedata c2 dostuff somedata c3 see closure code differs constant used id like declare one closure make parametric fyi scope want change function parameters part public interface cant pass directly btw would reason accepting parameters another function hand must forced know closure needs beyond offer looking way write clousure code pass value placeholder php replace placeholder occurences closure code specified value closure use time instead closure call time would something like dynamic closure code generation e g something like beware php work c function p use obj placeholder ph return f p obj ph dostuff somedata c constant1 dostuff somedata c constant2 dostuff somedata c constant3 please note made placeholder syntax serves make question clear hope succeeds mission\n",
      "True labels:\tphp\n",
      "Predicted labels:\tjavascript,php\n",
      "\n",
      "\n",
      "Title:\tandroid nested fragments trying implement problem add 2 different two different tag1 tag2 one fragment everything seems ok call returned getting second one add use personsimagefragment imf new personsimagefragment imgpreview 1 android support v4 app fragmenttransaction transaction frag getchildfragmentmanager begintransaction transaction add r id frame imf tag1 addtobackstack tagname commit imf new personsimagefragment imgpreview 2 transaction add r id frame2 imf tag2 addtobackstack tagname commit missing something f getchildfragmentmanager findfragmentbytag tag1 f onactivityresult requestcode resultcode data f getchildfragmentmanager findfragmentbytag tag2 f onactivityresult requestcode resultcode data edit 2 trying one calling updating trying get need call onactivityresult edit 3 said parent parent works use 3 works mean camera attached cant call two cant get cant find\n",
      "True labels:\tandroid\n",
      "Predicted labels:\tandroid\n",
      "\n",
      "\n",
      "Title:\taspnet c# linq loop load links artworkingdatacontext dc new artworkingdatacontext var q labels dc tblartworklabels labels templateid id select new labelid labels id create labels array labels new artworklabel q count int 0 lt q count i++ labels new artworklabel q labelid q labelid working cant really use foreach invoke new artworklabel iteration\n",
      "True labels:\tc#\n",
      "Predicted labels:\tc#\n",
      "\n",
      "\n",
      "Title:\texecute multiple async queries google app engine want execute multiple queries asynchronously searched nothing special found code given getting error nameerror global name asyncmultitask defined dont kn import please anyone help\n",
      "True labels:\tpython\n",
      "Predicted labels:\tpython\n",
      "\n",
      "\n",
      "Title:\tequals method enum type public enum enumequalsmethod b c public enum enumequalsmethod1 c enumequalsmethod enumequalsmethod c numequalsmethod1 b enumequalsmethod1 c system println equals b output false\n",
      "True labels:\tjava\n",
      "Predicted labels:\tc#,java\n",
      "\n",
      "\n",
      "Title:\tajax vs json cross domain builtin security question looks like cant make call outside current domain name ajax able call twitter api json jquery using xmlhttp object able call another domain name json using jquery ajax whats difference ajax json anyway\n",
      "True labels:\tjquery\n",
      "Predicted labels:\tjavascript,jquery\n",
      "\n",
      "\n",
      "Title:\tfluentnhibernate mapping primary key 2 tables like table article id int not_null pk title nvarchar 50 not_null table content id int not_null pk content nvarchar max not_null remarks nvarchar 200 article content pk id article pk id create domain class like public class article public virtual int id get set public virtual string title get set public virtual content content get set public class content public virtual int id get set public virtual string content get set public virtual string remarks get set try mapping class like public class articlemap classmaplt articlegt public articlemap id x gt x id map x gt x title reference x gt x content foreignkey id public class contentmap classmaplt contentgt public contentmap id x gt x id map x gt x content map x gt x remarks read data table end nhibernate objectnotfoundexception case map class foreign key join another table base pk id value could someone guide make thing works\n",
      "True labels:\tc#\n",
      "Predicted labels:\tc#\n",
      "\n",
      "\n",
      "Title:\trupee symbol mail using php mailer send mails clients need insert rupee symbol body mails\n",
      "True labels:\thtml,php\n",
      "Predicted labels:\tphp\n",
      "\n",
      "\n",
      "Title:\tselect date second date twitter bootstrap two datepickers pretty simple stuff date could please tell pass highlighted startdate date selected first datepicker image bug trying solve date set current date today disbled date ok date highlighted circled blue source code #mztistartdate datepicker format dd mm yyyy startdate date autoclose true changedate function dateevent start_date #mztistartdate val #mztifinishdate datepicker setstartdate start_date #mztifinishdate datepicker format dd mm yyyy autoclose true\n",
      "True labels:\tjavascript,jquery\n",
      "Predicted labels:\tjavascript,jquery\n",
      "\n",
      "\n",
      "Title:\tregex date ddmmyyyy following expression used date validation html5 pattern attribute 0 19 1 09 2 09 02 0 19 1 02 30 0 13578 1 02 31 0 19 1 02 19 20 09 2 want allow valid dates using separator means 29th february leap year 30 31 months respectively currently allows years starting 2 2012 months 12 december limits day 29 regardless month anybody help fix\n",
      "True labels:\thtml\n",
      "Predicted labels:\t\n",
      "\n",
      "\n",
      "Title:\tandroid connecting arduino+bluetooth trying connect galaxy s3 arduino uno via bluetooth arduino code found fairly straight forward able find anything android side looking example code android want within android app two buttons slider transmit arduino control couple servos\n",
      "True labels:\tandroid\n",
      "Predicted labels:\tandroid\n",
      "\n",
      "\n",
      "Title:\tsomething render view django want something rendered view using return render_to_response signals way need write custom signal request_finished give enough information basically need know page rendered action response thanks update comments want hold rendering page want render page first action\n",
      "True labels:\tpython\n",
      "Predicted labels:\t\n",
      "\n",
      "\n",
      "Title:\ttypeerror got multiple values argument read threads error seems problem interesting distinct difference posts read far namely posts far error regards either user created class builtin system resource experiencing problem calling function cant figure could ideas box_length 100 turtle speed 0 fill 0 range 8 fill + 1 fill 2 0 horizontol_drawbox box_length fillbox false else horizontol_drawbox box_length fillbox true range 8 fill + 1 fill 2 0 vertical_drawbox box_length fillbox false else vertical_drawbox box_length fillbox true error message horizontol_drawbox box_length fillbox true typeerror horizontol_drawbox got multiple values argument fillbox\n",
      "True labels:\tpython\n",
      "Predicted labels:\tpython\n",
      "\n",
      "\n",
      "Title:\tandroid masking background round gradient shape need implement following component sure start two fragments stacked top fragment gradient background content well fragment also content able see content following picture demonstrates situation white round movable user see content certain position\n",
      "True labels:\tandroid\n",
      "Predicted labels:\tandroid\n",
      "\n",
      "\n",
      "Title:\tphp folder file listing alphabetical order sure simple would using script displays files specific folder however id like displayed alphabetical order would hard heres code using handle opendir mainframegt getcfg absolute_path images store false file readdir handle file amp amp file file index html amp amp file index php amp amp file thumbs db strext end explode file strext jpg link index phpoptioncom_shopamp amp taskdeletefileamp amp file file thelist lt tr classrow0gt lt td nowrapnowrapgt lt href link gt file lt agt lt tdgt n thelist lt td aligncenter classordergt lt href link titledeletegt lt img src administrator images publish_x png width16 height16 altdeletegt lt agt lt tdgt lt trgt n closedir handle echo thelist\n",
      "True labels:\tphp\n",
      "Predicted labels:\thtml,jquery,php\n",
      "\n",
      "\n",
      "Title:\tunable make request via proxy want make request via proxy proxy works fine socket sock new socket example com 80 outputstream ostream sock getoutputstream writing headers send proxy string request rtype + + uri + http 1 0 ostream write request getbytes ostream write endofline getbytes string cmd host + header get host ostream write cmd getbytes ostream write endofline getbytes system println cmd proxy working well hangs proxy prx new proxy proxy type socks new inetsocketaddress proxy ip address 1234 predefined ip port sock new socket prx sock connect new inetsocketaddress example com 80 hangs ostream sock getoutputstream whats\n",
      "True labels:\tjava\n",
      "Predicted labels:\tjava\n",
      "\n",
      "\n",
      "Title:\tselenium webdrivers one window java problem selenium java something like webdriver driver1 new firefoxdriver webdriver driver2 new firefoxdriver open driver1 driver2 one window two tabs thanks advance help\n",
      "True labels:\tjava\n",
      "Predicted labels:\tjava\n",
      "\n",
      "\n",
      "Title:\tsimple way store extra user information mvc 3 playing around first time asp net mvc 3 really struggling extremely simple user register using builtin membership functionality want store first name last name well properties provided default cannot figure add properties membershipuser class thats even right class hard really figure whats going also tried creating new userdetails model figure link regular user table using userid foreign key correct approach storing extra user information asp net mvc 3 web application using code first approach must something wrong brain dead simple seeing stuff custom profile providers seems excessive basic functionality anyone able point right direction thanks\n",
      "True labels:\tc#\n",
      "Predicted labels:\tc#\n",
      "\n",
      "\n",
      "Title:\tsource found setcontentview android programming new android programming try display simple google map android device 4 1 2 added permissions google api key activitymanifest xml activity_maps xml lt xml version1 0 encodingutf8gt androidlayout_widthfill_parent androidlayout_heightfill_parent gt lt fragment androidid +id map androidlayout_widthmatch_parent androidlayout_heightmatch_parent classcom google android gms maps mapfragment gt lt relativelayoutgt mapsactivity java package com example androidmapsapp import android os bundle import android view menu import android widget toast import com google android gms maps googlemap import com google android gms maps mapfragment import com google android maps mapactivity public class mapsactivity extends mapactivity googlemap googlemap override protected void oncreate bundle savedinstancestate super oncreate savedinstancestate setcontentview r layout activity_maps try loading map initilizemap catch exception e e printstacktrace googleplayservicesutil isgoogleplayservicesavailable getapplicationcontext googlemap mapfragment getfragmentmanager findfragmentbyid r id map getmap override public boolean oncreateoptionsmenu menu menu inflate menu adds items action bar present getmenuinflater inflate r menu maps menu return true override protected boolean isroutedisplayed todo autogenerated method stub return false private void initilizemap googlemap null googlemap mapfragment getfragmentmanager findfragmentbyid r id map getmap check map created successfully googlemap null toast maketext getapplicationcontext sorry unable create maps toast length_short show override protected void onresume super onresume initilizemap log cat 0926 170951 476 e trace 26750 error opening trace file file directory 2 0926 170951 501 system 26750 sending wait chunk 0926 170951 501 w activitythread 26750 application com example androidmapsapp waiting debugger port 8100 0926 170951 526 dalvikvm 26750 debugger active 0926 170951 716 system 26750 debugger connected 0926 170951 716 system 26750 waiting debugger settle 0926 170951 916 system 26750 waiting debugger settle 0926 170952 116 system 26750 waiting debugger settle 0926 170952 316 system 26750 waiting debugger settle 0926 170952 516 system 26750 waiting debugger settle 0926 170952 716 system 26750 waiting debugger settle 0926 170952 921 system 26750 waiting debugger settle 0926 170953 121 system 26750 debugger settled 1377 0926 170954 416 dalvikvm 26750 threadid1 still suspended undo sc1 dc1 0926 171115 291 e trace 27618 error opening trace file file directory 2 0926 171115 306 system 27618 sending wait chunk 0926 171115 306 w activitythread 27618 application com example androidmapsapp waiting debugger port 8100 0926 171115 316 dalvikvm 27618 debugger active 0926 171115 506 system 27618 debugger connected 0926 171115 506 system 27618 waiting debugger settle 0926 171115 706 system 27618 waiting debugger settle 0926 171115 906 system 27618 waiting debugger settle 0926 171116 106 system 27618 waiting debugger settle 0926 171116 306 system 27618 waiting debugger settle 0926 171116 511 system 27618 waiting debugger settle 0926 171116 711 system 27618 waiting debugger settle 0926 171116 911 system 27618 debugger settled 1404 0926 171118 246 dalvikvm 27618 threadid1 still suspended undo sc1 dc1 0926 171123 271 dalvikvm 27618 threadid1 still suspended undo sc1 dc1 0926 171123 271 dalvikvm 27618 gc_concurrent freed 172k 9 free 9639k 10503k paused 22ms+4ms total 56ms 0926 171123 276 w cursorwrapperinner 27618 cursor finalized without prior close debugging setcontentview r layout activity_maps gives source found\n",
      "True labels:\tandroid\n",
      "Predicted labels:\tandroid,java\n",
      "\n",
      "\n",
      "Title:\tnsarray member named append got swift coding trying follow tutorial seems coder following may older version something wrong trying make sound object make soundboard try add sound file array using append says method member nsarray someone tell right way solve 1\n",
      "True labels:\tios\n",
      "Predicted labels:\tios\n",
      "\n",
      "\n",
      "Title:\textensions found intellisense compilation really frustrating common library code use across projects however reason extensions stopped working project used plenty projects idea whats stopping working grr heres example extension see theyre set public static string toalphanumeric string inputstring string outputstring string empty outputstring regex replace inputstring azaz_09 + outputstring regex replace outputstring _ + outputstring outputstring trim new char return outputstring current project v4 0 code library 3 5 though tried upgrading 4 0 dosnt fix add reference top every page cant get defining web config work definitely referenced page found intellisense however build project get error says string contain definition toalphanumeric get error apologise missed needed info tried include everything think thanks\n",
      "True labels:\tc#\n",
      "Predicted labels:\tc#\n",
      "\n",
      "\n",
      "Title:\tsetting thumb particular position offset seekbar programaticaly customized seekbar updating progress maximum amplitude sound seekbar varies according sound detection thumb shows maximum amblitude sound want set position thumb particular position max amblitude like set progress seekbar gone loads questions answers also ran developer docs developer docs mentioned offsets given maintains thumb track progress developer doc setthumboffset int thumboffset sets thumb offset allows thumb extend range track possible way set thumb particular position sample shown set thumbs offset showing sample instead want set thumb accurate position\n",
      "True labels:\tandroid\n",
      "Predicted labels:\tandroid\n",
      "\n",
      "\n",
      "Title:\tbest python finite state machine implementations python fsm implementations found far slick fsm implementation provides function callbacks state skip montaneros fsm fsm decorators pythoncourse fsm tutorial welldocumented example fsm parsing sentences fsmme graphical fsm editor w python target also see fsmme tutorial python fsm recipe active state code suited text parsing tasks gof state pattern atamp ts weighted fsm python python fsm code golf need parse text file configurations looking fsm implementation provides ability munge data inputting next state\n",
      "True labels:\tpython\n",
      "Predicted labels:\tpython\n",
      "\n",
      "\n",
      "Title:\tchange css li tag bootstrap3 navigation responsive view want change bootstrap3 navigation height parent li tags instances desktop mobile desktop mode parent li tags tall mobile mode li tag needs normal height would like working example css using targeted li tag nav gt li gt padding 50px 20px 20px 20px visual navbarnav gt li gt fontweight bold color #868686 texttransform uppercase navbardefault navbarnav gt li gt ahover navbardefault navbarnav gt li gt afocus backgroundcolor #373d39 color #fff navbardefault navbarnav gt active gt navbardefault navbarnav gt active gt ahover navbardefault navbarnav gt active gt afocus backgroundcolor #373d39 color #fff navbardefault navbarnav gt open gt navbardefault navbarnav gt open gt ahover navbardefault navbarnav gt open gt afocus backgroundcolor #373d39 color #fff need help area targeting li mobile mode trying target menu mobile mode collapsed changes desktop mode well navbardefault navbarcollapse li navbardefault navbarcollapse navbarnav gt li padding 0px 20px 0px 20px demo html lt nav classnavbar navbardefault rolenavigationgt lt div classhiddensm hiddenmd hiddenlg navbarheadergt lt button typebutton classnavbartoggle datatogglecollapse datatarget navbarcollapsegt lt lt span classsronlygt toggle navigationlt spangt lt span classiconbargt lt spangt lt span classiconbargt lt spangt lt span classiconbargt lt spangt lt buttongt lt classnavbarbrand href #gt menult agt lt divgt lt div classcollapse navbarcollapsegt lt ul classnav navbarnav textleftgt lt li class activegt lt href#gt homelt agt lt ligt lt li class dropdown gt lt href# iddrop1 datatoggledropdown classdropdowntoggle rolebutton gt lt b classcaretgt lt bgt lt agt lt ul rolemenu classdropdownmenu arialabelledbydrop1gt lt li rolepresentationgt lt href# tabindex1 rolemenuitemgt overviewlt agt lt ligt lt li rolepresentationgt lt href# tabindex1 rolemenuitemgt team bioslt agt lt ligt lt li rolepresentationgt lt href# tabindex1 rolemenuitemgt customerslt agt lt ligt lt li rolepresentationgt lt href# tabindex1 rolemenuitemgt careerslt agt lt ligt lt ulgt lt ligt lt ligt lt href#gt newslt agt lt ligt lt ligt lt href#gt contactlt agt lt ligt lt ulgt lt divgt\n",
      "True labels:\tcss\n",
      "Predicted labels:\tcss,html,javascript,jquery\n",
      "\n",
      "\n",
      "Title:\tpossible make javascript loadable viewable readable possible clients access load javascript still denied access accessing page stored\n",
      "True labels:\tjavascript\n",
      "Predicted labels:\tjavascript\n",
      "\n",
      "\n",
      "Title:\tedit submit button review tab woocommerce problem edit submit button review tab woocommerce cant even trace backend code could somebody help\n",
      "True labels:\tcss,html,php\n",
      "Predicted labels:\t\n",
      "\n",
      "\n",
      "Title:\tnet runtime 20 error net 35 application colleagues misunderstandings net runtime written wpf application targeted 3 5 randomly crashes event log see net runtime 2 0 error reporting source confirm 3 5 still runs net 2 0 runtime e extension application targeting 3 5 still show net runtime 2 0 error source installing net 3 5 framework theres way install net 2 0 along right\n",
      "True labels:\tc#\n",
      "Predicted labels:\tc#\n",
      "\n",
      "\n",
      "Title:\tjavascript works javascript console open chrome script javascript works firefox chrome ie opened chromes debug console find problem errors reported code works perfectly running console closed work verified version script correct old cached console report warnings errors tried putting simple logging writes div bottom page information debug console works including logging info div function callback xmlhttprequest made server verified php script called including error_log calls error_log shows return value correctly page refresh also show row deleted appears function removerow never called unless console open method reserved words conflict tried changing function name delrow including callback still working ajax calls seem work fine code snippet follows var pos 0 var xhr function eraserow var myimage var fullid myimage id split row record id eg 5_1223 gt row5 recordid1223 var idcomponents fullid split _ idcomponents length gt 1 check image complete row info rowid idcomponents 1 extract row number id pos parseint idcomponents 0 xhr new xmlhttprequest support ie8 + xhr onreadystatechange removerow xhr open get valid_del phpdelrow+rowid xhr send null function removerow xhr readystate 4 xhr status 200 var err document getelementbyid errormsg var str xhr responsetext err innerhtml server returned +str str goahead var table document getelementbyid tableid table deleterow pos php valid_del php lt php include funclib php isset _get delrow amp amp strlen _get delrow gt 0 recid _get delrow db createdbconn function connects mysql server db result dbgt query delete doclibrary doc_idrecid resulttrue echo goahead error_log script successful returns goahead 0 else echo stop error_log script successful returns stop 0 dbgt close else echo stop error_log script given record id returns stop 0 gt\n",
      "True labels:\tjavascript\n",
      "Predicted labels:\tjavascript,jquery,php\n",
      "\n",
      "\n",
      "Title:\tpython script standalone single file executable autoupdate wrote program python 2 7 office using pyinstaller onefile flag compiled single exe file distribute coworkers trying figure supply updates automatically still keep program single file current method program alert user new version give instructions obtain updated file works want find method updating without users involvement aware esky create autoupdating python programs far tell requires program exist multiple files suggestions make standalone single file exe python program autoupdate\n",
      "True labels:\tpython\n",
      "Predicted labels:\tpython\n",
      "\n",
      "\n",
      "Title:\topening activity notification pendingintent app killed causing app crash need open clicking pendingintent application killed setting pendingintent var chatactivityintent new intent typeof chatactivity chatactivityintent putextra uuid channelviewmodel uuid chatactivityintent putextra channelsviewmodel jsonconvert serializeobject channelviewmodel channellist 0 chatactivityintent addflags activityflags cleartop activityflags singletop activityflags newtask var pendingintent pendingintent getactivity 0 chatactivityintent 0 notification setlatesteventinfo chatviewmodel schoolname chatviewmodel message pendingintent works gracefully app active background opens click notification app killed click notification arrived get error message\n",
      "True labels:\tandroid\n",
      "Predicted labels:\tandroid\n",
      "\n",
      "\n",
      "Title:\tprevent screen capturing directx would like render single image using directx work similar vlc players directx video output possible capture frame using simple screen capturing software printscreenkey possible difficult make screenshot anyone know works vlc player possible solutions 3 years c# programming experiance earnt school also done c++ programming would prever c# solution maybe using wpf managed directx sorry english thanks help advance\n",
      "True labels:\tc#,c++\n",
      "Predicted labels:\tc#,c++\n",
      "\n",
      "\n",
      "Title:\tclear cache windows 81 webview code developing webview based app client basically kiosk app one configure website webview website updated changes reflected website webview uses cached version website googling problem leads conculution need delete content folder localappdatapackagespackage_id_of_appac know access folder winrt possible one idea clear cache think using powershell delete folder app going publish store app sideloaded using enterprise key invoking powershell scripts possible winrt apps\n",
      "True labels:\tc#\n",
      "Predicted labels:\tandroid,c#\n",
      "\n",
      "\n",
      "Title:\tparallel callback universe nodejs trying implement shopify api node want call post requests synchronously since want retrieve product id posting store array making use library called synchronous waiting loop script used work suddenly stopped working log calls without deasync loop see responses returned shopify however running script deasync loop identifier stays null deasync loop keeps iterating relatively new asynchronous requests node js scope identifier variable seems correct thing imagine callback happens parallel node js universe seperate loop help would much appreciated thx function postproduct store product variants var identifier null var post_data product product shopify post admin products json post_data function err data headers identifier id data product id price data product price variants variants identifier null require deasync runlooponce return identifier\n",
      "True labels:\tjavascript\n",
      "Predicted labels:\tjavascript\n",
      "\n",
      "\n",
      "Title:\treleasing arc basic question started using arc sure release objects situations another object takes ownership e g self view addsubviewsomeviewcontroller view view released leave goes array adding objects array release afterwards array object ownership leave\n",
      "True labels:\tios\n",
      "Predicted labels:\tios\n",
      "\n",
      "\n",
      "Title:\tuse monkey patching python replace specific argument want use monkey patching change statements myserver sleep 5 realize thank much import test import subprocess import ast import os import time import sys __name__ __main__ def insomniac duration pass # sleep _original_sleep time sleep time sleep insomniac def dont_write stuff pass # write _original_write sys stdout write sys stdout write dont_write execfile test py exit 0\n",
      "True labels:\tpython\n",
      "Predicted labels:\tpython\n",
      "\n",
      "\n",
      "Title:\tmagento add column sales order grid without join need add custom column sales order adminhtml grid since get data grid external rest api asking data specific increment_id cant use tutorials using magento database join needed tables another way like function rendering_sales_order_row_before rowdata columncontent restapigt callbyincrementid rowdata increment_id thisgt addcolumn custom column columncontent code illustrate goal know solution look completely different possible achieve magento elegant way edit using magento 1 9 2 1\n",
      "True labels:\tphp\n",
      "Predicted labels:\tphp,sql\n",
      "\n",
      "\n",
      "Title:\tbanner bottom android set banner bottom screen tried relativelayout stay bottom outside screen thats simple code androidid +id layout_home androidlayout_widthfill_parent androidlayout_heightfill_parent androidbackground drawable background androidorientationverticalgt lt linearlayout androidid +id layout_body androidlayout_widthfill_parent androidlayout_heightfill_parent androidbackground drawable background2 androidorientationverticalgt lt linearlayoutgt lt relativelayout androidid +id layout_banner androidlayout_widthfill_parent androidlayout_heightfill_parent gt lt relativelayoutgt lt linearlayoutgt update set androidlayout_alignparentbottomtrue change\n",
      "True labels:\tandroid\n",
      "Predicted labels:\tandroid\n",
      "\n",
      "\n",
      "Title:\tcreating grail jquery modal window form posting ajax following code lt bodygt lt div iddialogform titlecreate new commentgt lt formgt lt fieldsetgt lt label fornamegt enter comment please lt labelgt lt textarea rows6 cols2 namecommentarea idcommentarea gt lt textareagt lt fieldsetgt lt formgt lt divgt lt button idcreateusergt create new userlt buttongt lt bodygt modal window using jqueryui lt gjavascriptgt function #dialogform dialog autoopenfalse height300 resizablefalse width350 modaltrue buttons attach comment function alert assum already submitted time add post form controller attachcomments commentarea posted dialog close cancel function dialog close close function alert form cloased dialog close #createuser button click function #dialogform dialog open lt gjavascriptgt code draws modal window post form attachcommentcontroller receive responses back show errors modal window\n",
      "True labels:\tjquery\n",
      "Predicted labels:\thtml,javascript,jquery\n",
      "\n",
      "\n",
      "Title:\tcss media queries still affect hidden elements working responsive design client one way use css media queries specifically one working media screen minwidth 320px maxwidth 991px webkitmindevicepixelratio 2 inside query make one elements floatnone #wp_checkout floatnone important within jquery execute responsive design #wp_checkout css float none code issues simply shrinking page desktop view chrome responsive development tools mobile view everything fine believe diagnosed query firing make element #wp_checkout floatnone shows floatleft however element also displaynone still edit dom media queries elements hidden need elaboration please let know\n",
      "True labels:\tcss,jquery\n",
      "Predicted labels:\tcss,html,jquery\n",
      "\n",
      "\n",
      "Title:\tupdate jpanel border jslider changes somebody tell general change attributes change class variable jslider e g class variable number change var event slider want achieve value number shown within title border panel panelx new jpanel new gridlayout 3 0 panelx setborder new titledborder p0 x frame add panelx slider_x new jslider 0 100 slider_x addchangelistener panelx add slider_x override public void statechanged changeevent e object source e getsource system println source haschanged true source instanceof jslider update possible access title border panel event firing slider attached\n",
      "True labels:\tjava\n",
      "Predicted labels:\tjava\n",
      "\n",
      "\n",
      "Title:\tandroid horizontal scroll list possible duplicate want horizontal scroll like gallery im using gallery center locked one would help horizontal scrolling list think best example pulse news reader thanks\n",
      "True labels:\tandroid\n",
      "Predicted labels:\tandroid\n",
      "\n",
      "\n",
      "Title:\tget transparent background webview 40 version looking piece code able get transparent background version 4 0 code working fine version 2 3 getting white background run version 4 0 4 2 providing code working version 2 3 4 0 4 2 please help thanks advance xml lt webview androidid +id webview androidlayout_margintop6dp androidlayout_below +id image androidlayout_widthmatch_parent androidlayout_heightfill_parent androidhardwareaccelerated true gt activity file webview webview findviewbyid r id webview backbutton imageview findviewbyid r id backbutton webview setbackgroundcolor 0 webview loadurl file android_asset info html webview setbackgroundcolor color transparent used make background white loading file screen\n",
      "True labels:\tandroid\n",
      "Predicted labels:\tandroid\n",
      "\n",
      "\n",
      "Title:\tsigning timestamping time vs signing timestamping later building digital signature module must conform eu digital signature directives starting old wellworking java module sign documents format also application made client desktop jar executable server part client developed interact smart card connected usb reader rest happens web server current signing clients support two ways signing file use sign timestamp function first sign document timestamp legal point view produce result question point view correct state sign document cades rfc 5126 140 pages able read output file use combined sign timestamp function use two functions sequence let rephrase according standard enclosure represents digital signature timestamp standard require timestamp signed document vice versa want achieve sign document client side using smartcard timestamping file server without touching old client code producing signing timestamping file client\n",
      "True labels:\tjava\n",
      "Predicted labels:\tjavascript\n",
      "\n",
      "\n",
      "Title:\tsurprising behavior mysql operator expected query return columns 0 right expression 1 select 55 1 55 1 55 1 ++++ 55 1 55 1 55 1 ++++ 0 0 1 ++++ find surprising equivalent parens significant edit simplified query original post\n",
      "True labels:\tmysql\n",
      "Predicted labels:\tmysql\n",
      "\n",
      "\n",
      "Title:\tmake centered div container stretch vertically based elements inside brand new trying build simple layout divs id like 3 container divs header content footer content div want height fixed want stretch based whatever inside also know javascript want html css looked site answers seem work html lt bodygt lt div idheader stylebackgroundbeige gt lt div idlogo stylebackgroundgray gt put logo lt divgt lt div idnavigation stylebackgroundgreygt us contact us etc lt divgt lt div idcontent stylebackgroundbeige gt lt div idbigbox stylebackgroundblack colorwhite gt big box would slide show lt divgt lt div classsmallbox idsmallboxleft stylebackgroundgreen gt smallboxleft lt divgt lt div classsmallbox idsmallboxmiddle stylebackgroundgreen gt smallboxmiddle lt divgt lt div classsmallbox idsmallboxright stylebackgroundgreen gt smallboxright lt divgt lt divgt lt div idfooter stylebackgroundnavy colorwhite gt footer lt divgt css #header margin0 auto height100px width960px positionrelative #logo height100px width200px #navigation height50px width400px positionabsolute left560px top50px #content margin0 auto width960px height100 positionrelative top25px #bigbox positionabsolute height300px width860px positionabsolute left50px top125px smallbox positionabsolute height150px width300px top450px #smallboxmiddle left320px #smallboxright left640px #footer positionabsolute height100px width960px top625px\n",
      "True labels:\tcss,html\n",
      "Predicted labels:\tcss,html,javascript,jquery\n",
      "\n",
      "\n",
      "Title:\thanging indent unbulleted list css trying create bullets e first indented rather spans one line lines first indented within lt ligt achieve far tried yet supported textindent 5px paddingleft 5px found trick work context solution question work unbulleted lists note know achieve means e g using lt pgt instead list wondering whether possible lt ulgt\n",
      "True labels:\tcss\n",
      "Predicted labels:\tcss,html\n",
      "\n",
      "\n",
      "Title:\tmvc4 ajax call using jquery post get application using jquery mvc4 need query data server understand jquery provide multiple methods ajax request getting particular method use pass parameter receive data also case request failure timeout need something please advice method go cheers\n",
      "True labels:\tjquery\n",
      "Predicted labels:\tjquery\n",
      "\n",
      "\n",
      "Title:\tcontentsecuritypolicy breaking consolelog output heres tag app lt meta httpequivcontentsecuritypolicy contentdefaultsrc stylesrc self unsafeinline scriptsrc self unsafeinline unsafeeval example comgt include everything works fine except console log messages get pushed terminal running phonegap serve tool provided test app using app preinstalled device however remove tag code console log messages get pushed terminal correctly longer make data requests example com domain tried many variances using guide cant get work correctly note new facility v5 cordova previously working without problem\n",
      "True labels:\tjavascript\n",
      "Predicted labels:\tandroid,javascript\n",
      "\n",
      "\n",
      "Title:\tminor ticks matplotlibs colorbar currently trying set minor ticks colorbar simply cant make work 3 approaches tried see code appear working actually possible minor ticks colorbar import numpy np import matplotlib pyplot plt matplotlib colors import lognorm matplotlib ticker import fixedlocator formatstrformatter # fill grid x np linspace 1 10 10 np linspace 1 10 10 x np meshgrid x z np abs np cos x2 y2 x2 # plot f ax subplots 1 p plt pcolormesh x z normlognorm vmin1e2 vmax1e2 cb plt colorbar p axax orientationhorizontal aspect10 minor_ticks np arange 1 10 2 #cb set_ticks minor_ticks minortrue # error support keyword argument minor #cb ax xaxis set_ticks minor_ticks minortrue # plots extremely small colorbar wrong ticks #cb ax xaxis set_minor_locator fixedlocator minor_ticks # nothing happens plt show\n",
      "True labels:\tpython\n",
      "Predicted labels:\tpython\n",
      "\n",
      "\n",
      "Title:\tparse xml string sax parser android string containing xml file data lt xml version1 0 encodingutf8gt lt datagt lt typegt lt lorygt vroomlt lorygt lt cargt cracklt cargt lt typegt lt typegt lt lorygt doomlt lorygt lt cargt chacklt cargt lt typegt lt datagt kept string named label use sax parser retrieve data follows saxhelper sh null try sh new saxhelper newxml catch malformedurlexception e e printstacktrace sh parsecontent part saxhelper class class saxhelper public hashmaplt string stringgt userlist new hashmaplt string stringgt private string data public saxhelper string url1 throws malformedurlexception data new string url1 public rsshandler parsecontent string parsecontent rsshandler df new rsshandler try saxparserfactory spf saxparserfactory newinstance saxparser sp spf newsaxparser xmlreader xr sp getxmlreader xr setcontenthandler df xr parse data catch exception e e printstacktrace return df end error showing malformation error short want pass xml string sax parser set get result 0405 112518 390 w system err 2646 org apache harmony xml expatparser openurl expatparser java760 0405 112518 398 w system err 2646 org apache harmony xml expatreader parse expatreader java289 0405 112518 398 w system err 2646 org apache harmony xml expatreader parse expatreader java322 0405 112518 398 w system err 2646 comptedetailssaxhelper parsecontent comptedetails java228 0405 112518 398 w system err 2646 comptedetailsloadingtask doinbackground comptedetails java202 0405 112518 398 w system err 2646 details comptedetailsloadingtask doinbackground comptedetails java1 0405 112518 398 w system err 2646 android os asynctask2 call asynctask java185 0405 112518 398 w system err 2646 java util concurrent futuretasksync innerrun futuretask java306 0405 112518 398 w system err 2646 java util concurrent futuretask run futuretask java138 0405 112518 398 w system err 2646 java util concurrent threadpoolexecutor runworker threadpoolexecutor java1088 0405 112518 398 w system err 2646 java util concurrent threadpoolexecutorworker run threadpoolexecutor java581 0405 112518 398 w system err 2646 java lang thread run thread java1019 0405 112518 402 w system err 2646 caused java net malformedurlexception protocol found lt xml version1 0 encodingutf8gt\n",
      "True labels:\tandroid\n",
      "Predicted labels:\tandroid,java\n",
      "\n",
      "\n",
      "Title:\tusing videoview remove cant play video alert message app plays set videos sometimes getting cant play video alert message either playing video sd card streaming video yet downloaded mostly error arises streaming slow internet connection understood causes error reading posts blogs want play next video error occurs without showing error message used listener video setonerrorlistener new onerrorlistener override public boolean onerror mediaplayer mp int int extra log video setonerrorlistener return false method got invoked error arises cant stop showing alert message way stop showing alert message thanks advance\n",
      "True labels:\tandroid\n",
      "Predicted labels:\tandroid\n",
      "\n",
      "\n",
      "Title:\treplace uitableviewcell text uitextview app im setting uitextview contentview uitableviewcell write set uitextview textview uitextview alloc initwithframecgrectmake cell bounds origin x cell bounds origin cell contentview frame size width cell contentview frame size height textview setfont uifont fontwithname arial size18 0f textview setbackgroundcolor uicolor bluecolor textview setautocorrectiontypeuitextautocorrectiontypeno textview text cell textlabel text textview delegate self cell textlabel text self textview textview cell contentview addsubviewtextview textview becomefirstresponder want set right little bit left cell text set cells text alignment text offset uitextview text place\n",
      "True labels:\tios\n",
      "Predicted labels:\tios\n",
      "\n",
      "\n",
      "Title:\treturn average json values partially working function attempting find average duration videos dataset currently returning last data media length help getjson projectmedias function data data medias function v var duration v duration var medias data medias length var avg duration medias #avg html avg\n",
      "True labels:\tjquery\n",
      "Predicted labels:\tjavascript,jquery\n",
      "\n",
      "\n",
      "Title:\tdifference objectassign object spread var obj 1 b 2 differences obj object assign obj c 3 obj obj c 3\n",
      "True labels:\tjavascript\n",
      "Predicted labels:\tjavascript\n",
      "\n",
      "\n",
      "Title:\tsql find inbetween values table like b 1 2 2 3 2 3 3 9 3 9 4 34 4 34 5 786 data means 1 25 786 length table 1 22 3 attributes 2 33 9 attributes 1 2 5 786 consider length entire table example want run query would give rows two values example 1 1 amd b 4 234 hard time figure write query queries write leave edge cases\n",
      "True labels:\tsql\n",
      "Predicted labels:\tmysql,python,sql\n",
      "\n",
      "\n",
      "Title:\tdesign pattern symfony2 eventdispatcher mediator event aggregator symfony2s eventdispatcher component documentation symfony2 eventdispatcher component implements mediator pattern simple effective way make things possible make projects truly extensible reading mediator patterns differences looks like event aggregator specific case mediator uses events facilitate communication business logic whatsoever inside mediator hand generic allow business logic decide certain communication go checked source code symfony2s eventdispatcher traceableeventdispatcher found logic may alter communication checking event propagation stopped follows protected function dodispatch listeners eventname event event foreach listeners listener call_user_func listener event eventname eventgt ispropagationstopped break eventdispatcher symfony2 implements mediator pattern event aggregator pattern logic check moved eventdispatcher say event listeners would implements event aggregator\n",
      "True labels:\tphp\n",
      "Predicted labels:\t\n",
      "\n",
      "\n",
      "Title:\tdate problem date_taken images pictures jpg android gonethrough following stackoverflow link codes shown interested date_taken part image tried code working perfectly except date giving numbers logcat eg image whose date_taken 26th november 2007 date shown log 1196066358000 way parse back real date format string projection new string mediastore images media _id mediastore images media bucket_display_name mediastore images media date_taken get base uri people table contacts content provider uri images mediastore images media external_content_uri make query cursor cur managedquery images projection columns return rows return rows null selection arguments none ordering log listingimages query count+cur getcount cur movetofirst string bucket string date int bucketcolumn cur getcolumnindex mediastore images media bucket_display_name int datecolumn cur getcolumnindex mediastore images media date_taken get field values bucket cur getstring bucketcolumn date cur getstring datecolumn something values log listingimages bucket + bucket + date_taken + date\n",
      "True labels:\tandroid\n",
      "Predicted labels:\tandroid\n",
      "\n",
      "\n",
      "Title:\tfoursquare less number menus displayed venues good stuff diner api explorer searched venues good stuff diner foursquare website displayed venues good stuff diner fyi please see url url clicked link view menu visit menus venues good stuff diner please see menus url venues good stuff diner using search got venue id 4a1b592ef964a520ee7a1fe3 displaying less number menus venues good stuff diner api explorer used endpoints get menus venues good stuff diner 4a1b592ef964a520ee7a1fe3 api explorer window get number menus manual search anyone please assist request menus results less api explorer endpoints give us steps way get menus shown manual search thanks bargavi\n",
      "True labels:\thtml,javascript,jquery,php\n",
      "Predicted labels:\t\n",
      "\n",
      "\n",
      "Title:\tsqlite problems database file locked got sqlite database several tables one called studentsession inside code calling plenty times table select insert updates receiving message java sql sqlexception sqlite_busy database file locked database locked one instance calling following string query3 select studentssession id math level preparedstatement pst__ connectionusers preparestatement query3 pst__ setstring 1 x pst__ setstring 2 x1 pst__ setstring 3 x2 ts2 pst__ executequery trying figure close every time prepared statement case causing problems edit possible check possible open references database using example javafxbutton edit way check code whether problem references table locate possible close\n",
      "True labels:\tjava,mysql\n",
      "Predicted labels:\tjava,mysql,sql\n",
      "\n",
      "\n",
      "Title:\tstdistreamget efficiency c++ question i1 ilt 10000 i++ cout lt lt myfile get program make 10000 io operations file hdd given file larger maybe better read lets say 512 bytes buffer take char char copy 512 bytes\n",
      "True labels:\tc++\n",
      "Predicted labels:\tc++\n",
      "\n",
      "\n",
      "Title:\tdraw jpanel fixed position jpanel wrapped jscrollpane want rectangle drawn always position moving scrollbars wont affect visibility rectangle tried following code public void paintcomponent graphics g g setcolor color red g drawrect 50 int getvisiblerect gety 20 20 repaints rectangle size whole jpanel changed\n",
      "True labels:\tjava\n",
      "Predicted labels:\tjava\n",
      "\n",
      "\n",
      "Title:\talias table laravel eloquent queries using query builder lets say using laravels query builder users dbtable really_long_table_name gt select really_long_table_name id gt get looking equivalent sql really_long_table_name short_name would especially helpful type lot selects wheres typically include alias column alias select well gets used result array without table aliases lot typing everything becomes lot less readable cant find answer laravel docs ideas\n",
      "True labels:\tphp\n",
      "Predicted labels:\tmysql,php,sql\n",
      "\n",
      "\n",
      "Title:\tvisual c++ program crashed dumpfile generated strange situation running iocp server program programmed visual studio 2010 c++ uses minidump logical bug like pointer misuse program crashes dump file find crash point codes sometimes rarely program crashes dump files situation makes working anybody knows problem cant figure\n",
      "True labels:\tc++\n",
      "Predicted labels:\tc++\n",
      "\n",
      "\n",
      "Title:\tchecked selecting select inputs well form select inputs well checkboxes following selector checked selected use checkboxchecked select checkboxes checked q find bug jquery understanding\n",
      "True labels:\tjquery\n",
      "Predicted labels:\tjquery\n",
      "\n",
      "\n",
      "Title:\tchanging region views silverlight using prism learning prism silverlight trying create simple application run snag shell 2 contentcontrols menuregion contentregion way want work user click item menuregion approriate view displayed contentregion replacing whichever view previously views projects worked different people views display content region different know achieve using prism model want going lots code view cs would like correct way samples found use tab control load modules isnt trying achieve particular pattern learn examples know could point right direction\n",
      "True labels:\tc#\n",
      "Predicted labels:\tc#\n",
      "\n",
      "\n",
      "Title:\tdifference controller api controller aspnet create application using jquery api call question 1 controller use api controller simple controller 2 make project structure best way use api different project use ajax call use razor models mvc features use controller api controller mvc application use model views application\n",
      "True labels:\tjquery\n",
      "Predicted labels:\tc#,jquery\n",
      "\n",
      "\n",
      "Title:\tadd custom tab bar project oriented navigation controller problem working project contains multiple storyboards navigation sbs done using navigation controllers however also want add tab bar switch storyboards need use custom tab bar appearance need know subclass uitabbarcontroller go view manager need subclass uitabbarcontroller link buttons custom tab bar xib tab bar controller delegate protocol link outlets directly working xibs storyboards best approach use much possible solve trying achieve\n",
      "True labels:\tios\n",
      "Predicted labels:\tios\n",
      "\n",
      "\n",
      "Title:\tstoring anonymous function class variable __construct working thread wrapper class take function call function new thread class far public function __construct cbcallback aparameters thisgt cbcallback cbcallback thisgt aparameters aparameters thisgt return false public function run is_array thisgt cbcallback thisgt return call_user_func thisgt cbcallback thisgt aparameters else thisgt return thisgt cbcallback thisgt aparameters works using call_user_func portion taking callback would like overload class also take closure instead callback array run trouble storing anonymous function class variable always stored null put debugging statements constructor echo paramater test 1 json_encode cbcallback thisgt cbcallback cbcallback echo paramater test 2 json_encode cbcallback echo variable test json_encode thisgt cbcallback yields output paramater test 1 paramater test 2 variable test null also tried making pass reference amp cbcallback results error object cannot passed reference feel like either special rule anonymous functions something wonky going cant store anonymous function thiscbcallback way store anonymous function non static class variable something similar work way need call function p php v5 6\n",
      "True labels:\tphp\n",
      "Predicted labels:\tjavascript,php\n",
      "\n",
      "\n",
      "Title:\tmaya programming separating attributes sections attribute editor sorry application specific noticed another well answered post maya development written plugin node maya kills bunch particles according turbulence function turbulence driven number attributes adjustable attribute editor attribute editor couple attributes called caching node state placed turbulence attributes look pretty user id like able would place dividers gui separate look maya nodes attribute editor exactly horizontal collapsible bars across panel separate unrelated attributes simple question tell maya create collapsible bars split attributes thanks help give andy\n",
      "True labels:\tc++\n",
      "Predicted labels:\t\n",
      "\n",
      "\n",
      "Title:\tcreate delegate type runtime try create delegate type using expression class try create delegate instance methodinfo got argumentexception using net 4 0 code var method listlt typegt targs new listlt typegt method returntype var mparams method getparameters mparams tolist foreach p gt targs add p parametertype var deldecltype expression getdelegatetype targs toarray return delegate createdelegate deldecltype method p sorry bad english\n",
      "True labels:\tc#\n",
      "Predicted labels:\tc#\n",
      "\n",
      "\n",
      "Title:\ttrouble using haversine formula trying use haversine formula locate bus stops within 1 mile current location mysql db table contains latitude longitude locations 5500 bus stops using following sql query select id 3959 acos cos radians 37 865971 cos radians stoplat cos radians stoplon radians 122 283775 + sin radians 37 sin radians stoplat distance stops distance lt 1 order distance name db table name column latitudes listed name column longitudes listed lat long location using 37 865971 122 283775 java program program runs successfully comes back empty even though sure 50+ bus stops within mile location inputted going wrong noticed change anything 500 returns entire result set tells 497480 miles away indicates problem suspected math e statement see answer\n",
      "True labels:\tjava,mysql\n",
      "Predicted labels:\tmysql,sql\n",
      "\n",
      "\n",
      "Title:\tinvalid character javascript error using jsonparse trying convert string object format read file string document js type tableshape id 63c0f27a716e804c6873cd99b945b63f x 80 59 width 99 height 107 name group entities text id id 49be7d784dcf38ab3733b4108701f1 text employee_fk id 49be7d784dcf38ab3733b4108701fce4 calling using like window load function ajax url js draw2d sampledata document js async false success function result debugger jsonstringfromserver json parse result javascript error stating invalid character alert jsonstringfromserver\n",
      "True labels:\thtml,javascript,jquery\n",
      "Predicted labels:\tjavascript,jquery\n",
      "\n",
      "\n",
      "Title:\tsevere error filterstart try deploy war file eclipse tomcat server created java dynamic web application tomcat server 7 works fine run eclipse deployed right click project export following export dialog webapp directory tomcat installation start tomcat server access try access got error requested resource projectname available look file found lines severe error filterstart severe context projectname startup failed due previous errors severe web application projectname appears started thread named abandoned connection cleanup thread failed stop likely create memory leak application used jars directory cant access application war file\n",
      "True labels:\tjava\n",
      "Predicted labels:\tjava\n",
      "\n",
      "\n",
      "Title:\tpython pexpect sendcontrol key characters working pythons pexpect module automate tasks need help figuring key characters use sendcontrol could one send controlkey enter future reference find key characters code working # usr bin env python import pexpect id pexpect spawn ftp 192 168 3 140 id expect_exact name id sendline anonymous id expect_exact password # sure send enter control key id sendcontrol id expect_exact ftp id sendline dir id expect_exact ftp lines id split n line lines print line\n",
      "True labels:\tpython\n",
      "Predicted labels:\tpython\n",
      "\n",
      "\n",
      "Title:\tundefined reference static queue new c++ pthreads trying use one thread catch udp packets put queue another one process send question push pop elements container separate thread heres example #include lt queuegt #include lt iostreamgt #include lt pthread hgt #include lt signal hgt class public pthread_create amp thread null amp apushqueue null pthread_join thread null virtual pthread_kill thread 0 private static void pushqueue void context int 0 lt 10 i++ bufferinbound push stdcout lt lt lt lt pushed lt lt stdendl static stdqueuelt intgt bufferinbound pthread_t thread int main new return 0 compile gives following result u53r foo make g++ g lpthread main cpp c g++ g lpthread main main function apushqueue void home u53r main cpp20 undefined reference abufferinbound collect2 ld returned 1 exit status make make error 1 thanks helping\n",
      "True labels:\tc++\n",
      "Predicted labels:\tc++\n",
      "\n",
      "\n",
      "Title:\tjavascript quickest way extract document meta fields need extract documents description meta tag wondering theres quicker one line code approach familiar xpath maybe could work ideas\n",
      "True labels:\tjavascript\n",
      "Predicted labels:\tjavascript\n",
      "\n",
      "\n",
      "Title:\thidden field better store value instead session long access period time wanted use session store one important information need long cant extend session life session expire course problem user sit something set value session goes computer return hours continue value lost question save value instead forever mean page open ps time test waiting thats ask\n",
      "True labels:\tc#\n",
      "Predicted labels:\t\n",
      "\n",
      "\n"
     ]
    }
   ],
   "source": [
    "y_val_pred_inversed = mlb.inverse_transform(y_val_predicted_labels_tfidf)\n",
    "y_val_inversed = mlb.inverse_transform(y_val_1)\n",
    "for i in range(1,120):\n",
    "    print('Title:\\t{}\\nTrue labels:\\t{}\\nPredicted labels:\\t{}\\n\\n'.format(\n",
    "        X_val[i],\n",
    "        ','.join(y_val_inversed[i]),\n",
    "        ','.join(y_val_pred_inversed[i])\n",
    "    ))"
   ]
  },
  {
   "cell_type": "code",
   "execution_count": null,
   "metadata": {
    "collapsed": true
   },
   "outputs": [],
   "source": [
    "def print_evaluation_scores(y_val, predicted):\n",
    "    print(accuracy_score(y_val, predicted))\n",
    "    print(recall_score(y_val,predicted, average='weighted'))\n",
    "    print(f1_score(y_val, predicted, average='weighted'))\n",
    "    print(average_precision_score(y_val, predicted))\n",
    "    "
   ]
  },
  {
   "cell_type": "code",
   "execution_count": null,
   "metadata": {},
   "outputs": [],
   "source": [
    "print_evaluation_scores(y_val_1,y_val_predicted_labels_tfidf)"
   ]
  }
 ],
 "metadata": {
  "kernelspec": {
   "display_name": "Python 3",
   "language": "python",
   "name": "python3"
  },
  "language_info": {
   "codemirror_mode": {
    "name": "ipython",
    "version": 3
   },
   "file_extension": ".py",
   "mimetype": "text/x-python",
   "name": "python",
   "nbconvert_exporter": "python",
   "pygments_lexer": "ipython3",
   "version": "3.6.2"
  }
 },
 "nbformat": 4,
 "nbformat_minor": 2
}
