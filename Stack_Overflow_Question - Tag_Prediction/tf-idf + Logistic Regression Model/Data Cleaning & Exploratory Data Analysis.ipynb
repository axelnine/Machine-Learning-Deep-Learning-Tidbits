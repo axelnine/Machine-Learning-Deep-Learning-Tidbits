{
 "cells": [
  {
   "cell_type": "markdown",
   "metadata": {},
   "source": [
    "# IMT 575\n",
    "\n",
    "## Data Science 3 Project\n",
    "\n",
    "## Aditya Wakade, Manasi Kulkarni, Prem Shah\n",
    "\n",
    "### Prediction Stack Overflow Question Tags using doc2vec\n",
    "\n",
    "This script is used for cleaning, transforming and slicing the dataset."
   ]
  },
  {
   "cell_type": "code",
   "execution_count": 4,
   "metadata": {},
   "outputs": [
    {
     "name": "stderr",
     "output_type": "stream",
     "text": [
      "C:\\Anaconda3\\lib\\site-packages\\sklearn\\cross_validation.py:41: DeprecationWarning: This module was deprecated in version 0.18 in favor of the model_selection module into which all the refactored classes and functions are moved. Also note that the interface of the new CV iterators are different from that of this module. This module will be removed in 0.20.\n",
      "  \"This module will be removed in 0.20.\", DeprecationWarning)\n"
     ]
    }
   ],
   "source": [
    "import pandas as pd\n",
    "import numpy as np\n",
    "import re\n",
    "import nltk\n",
    "from nltk.corpus import stopwords\n",
    "import itertools\n",
    "import operator\n",
    "from collections import Counter\n",
    "from nltk import pos_tag\n",
    "from textblob import TextBlob\n",
    "from nltk.corpus import stopwords\n",
    "from sklearn.cross_validation import train_test_split\n",
    "from scipy import sparse as sp_sparse\n",
    "from sklearn.feature_extraction.text import TfidfVectorizer\n",
    "from sklearn.preprocessing import MultiLabelBinarizer\n",
    "from collections import defaultdict"
   ]
  },
  {
   "cell_type": "code",
   "execution_count": 19,
   "metadata": {},
   "outputs": [],
   "source": [
    "#Import data\n",
    "\n",
    "ques = pd.read_csv('./Questions.csv', encoding = 'latin-1')\n",
    "tags = pd.read_csv('./Tags.csv')"
   ]
  },
  {
   "cell_type": "code",
   "execution_count": 6,
   "metadata": {
    "collapsed": true
   },
   "outputs": [],
   "source": [
    "top_10 = pd.read_pickle('top10')"
   ]
  },
  {
   "cell_type": "code",
   "execution_count": 20,
   "metadata": {},
   "outputs": [],
   "source": [
    "#Subset of questions that have score more than 0\n",
    "\n",
    "ques = ques[ques.Score > 0]"
   ]
  },
  {
   "cell_type": "code",
   "execution_count": 97,
   "metadata": {
    "collapsed": true
   },
   "outputs": [],
   "source": [
    "#Save the subset file \n",
    "\n",
    "ques.to_csv('./cropped.csv')"
   ]
  },
  {
   "cell_type": "code",
   "execution_count": 98,
   "metadata": {
    "collapsed": true
   },
   "outputs": [],
   "source": [
    "#Read the sample file\n",
    "\n",
    "ques = pd.read_csv('./cropped.csv', encoding = 'latin-1')"
   ]
  },
  {
   "cell_type": "code",
   "execution_count": 21,
   "metadata": {},
   "outputs": [
    {
     "data": {
      "text/plain": [
       "594057"
      ]
     },
     "execution_count": 21,
     "metadata": {},
     "output_type": "execute_result"
    }
   ],
   "source": [
    "#Check length\n",
    "\n",
    "len(ques)"
   ]
  },
  {
   "cell_type": "markdown",
   "metadata": {},
   "source": [
    "## Data Cleaning"
   ]
  },
  {
   "cell_type": "code",
   "execution_count": 22,
   "metadata": {},
   "outputs": [
    {
     "data": {
      "text/html": [
       "<div>\n",
       "<style>\n",
       "    .dataframe thead tr:only-child th {\n",
       "        text-align: right;\n",
       "    }\n",
       "\n",
       "    .dataframe thead th {\n",
       "        text-align: left;\n",
       "    }\n",
       "\n",
       "    .dataframe tbody tr th {\n",
       "        vertical-align: top;\n",
       "    }\n",
       "</style>\n",
       "<table border=\"1\" class=\"dataframe\">\n",
       "  <thead>\n",
       "    <tr style=\"text-align: right;\">\n",
       "      <th></th>\n",
       "      <th>Id</th>\n",
       "      <th>Tag</th>\n",
       "    </tr>\n",
       "  </thead>\n",
       "  <tbody>\n",
       "    <tr>\n",
       "      <th>0</th>\n",
       "      <td>80</td>\n",
       "      <td>flex</td>\n",
       "    </tr>\n",
       "    <tr>\n",
       "      <th>1</th>\n",
       "      <td>80</td>\n",
       "      <td>actionscript-3</td>\n",
       "    </tr>\n",
       "    <tr>\n",
       "      <th>2</th>\n",
       "      <td>80</td>\n",
       "      <td>air</td>\n",
       "    </tr>\n",
       "    <tr>\n",
       "      <th>3</th>\n",
       "      <td>90</td>\n",
       "      <td>svn</td>\n",
       "    </tr>\n",
       "    <tr>\n",
       "      <th>4</th>\n",
       "      <td>90</td>\n",
       "      <td>tortoisesvn</td>\n",
       "    </tr>\n",
       "  </tbody>\n",
       "</table>\n",
       "</div>"
      ],
      "text/plain": [
       "   Id             Tag\n",
       "0  80            flex\n",
       "1  80  actionscript-3\n",
       "2  80             air\n",
       "3  90             svn\n",
       "4  90     tortoisesvn"
      ]
     },
     "execution_count": 22,
     "metadata": {},
     "output_type": "execute_result"
    }
   ],
   "source": [
    "tags.head()"
   ]
  },
  {
   "cell_type": "code",
   "execution_count": 17,
   "metadata": {
    "collapsed": true
   },
   "outputs": [],
   "source": [
    "tags_unique = tags[tags['Id'].isin(ques['Id'])]"
   ]
  },
  {
   "cell_type": "code",
   "execution_count": 31,
   "metadata": {},
   "outputs": [
    {
     "data": {
      "text/plain": [
       "32058"
      ]
     },
     "execution_count": 31,
     "metadata": {},
     "output_type": "execute_result"
    }
   ],
   "source": [
    "len(tags_unique['Tag'].value_counts().reset_index())"
   ]
  },
  {
   "cell_type": "code",
   "execution_count": 83,
   "metadata": {},
   "outputs": [
    {
     "data": {
      "text/plain": [
       "{'I',\n",
       " \"I'm\",\n",
       " \"I've\",\n",
       " 'a',\n",
       " 'about',\n",
       " 'above',\n",
       " 'after',\n",
       " 'again',\n",
       " 'against',\n",
       " 'ain',\n",
       " 'all',\n",
       " 'am',\n",
       " 'an',\n",
       " 'and',\n",
       " 'any',\n",
       " 'are',\n",
       " 'aren',\n",
       " \"aren't\",\n",
       " 'as',\n",
       " 'at',\n",
       " 'be',\n",
       " 'because',\n",
       " 'been',\n",
       " 'before',\n",
       " 'being',\n",
       " 'below',\n",
       " 'between',\n",
       " 'both',\n",
       " 'but',\n",
       " 'by',\n",
       " 'can',\n",
       " 'couldn',\n",
       " \"couldn't\",\n",
       " 'd',\n",
       " 'did',\n",
       " 'didn',\n",
       " \"didn't\",\n",
       " 'do',\n",
       " 'does',\n",
       " 'doesn',\n",
       " \"doesn't\",\n",
       " 'doing',\n",
       " 'don',\n",
       " \"don't\",\n",
       " 'down',\n",
       " 'during',\n",
       " 'each',\n",
       " 'few',\n",
       " 'for',\n",
       " 'from',\n",
       " 'further',\n",
       " 'had',\n",
       " 'hadn',\n",
       " \"hadn't\",\n",
       " 'has',\n",
       " 'hasn',\n",
       " \"hasn't\",\n",
       " 'have',\n",
       " 'haven',\n",
       " \"haven't\",\n",
       " 'having',\n",
       " 'he',\n",
       " 'her',\n",
       " 'here',\n",
       " 'hers',\n",
       " 'herself',\n",
       " 'him',\n",
       " 'himself',\n",
       " 'his',\n",
       " 'how',\n",
       " 'i',\n",
       " 'if',\n",
       " 'in',\n",
       " 'into',\n",
       " 'is',\n",
       " 'isn',\n",
       " \"isn't\",\n",
       " 'it',\n",
       " \"it's\",\n",
       " 'its',\n",
       " 'itself',\n",
       " 'just',\n",
       " 'll',\n",
       " 'm',\n",
       " 'ma',\n",
       " 'me',\n",
       " 'mightn',\n",
       " \"mightn't\",\n",
       " 'more',\n",
       " 'most',\n",
       " 'mustn',\n",
       " \"mustn't\",\n",
       " 'my',\n",
       " 'myself',\n",
       " 'needn',\n",
       " \"needn't\",\n",
       " 'no',\n",
       " 'nor',\n",
       " 'not',\n",
       " 'now',\n",
       " 'o',\n",
       " 'of',\n",
       " 'off',\n",
       " 'on',\n",
       " 'once',\n",
       " 'only',\n",
       " 'or',\n",
       " 'other',\n",
       " 'our',\n",
       " 'ours',\n",
       " 'ourselves',\n",
       " 'out',\n",
       " 'over',\n",
       " 'own',\n",
       " 're',\n",
       " 's',\n",
       " 'same',\n",
       " 'shan',\n",
       " \"shan't\",\n",
       " 'she',\n",
       " \"she's\",\n",
       " 'should',\n",
       " \"should've\",\n",
       " 'shouldn',\n",
       " \"shouldn't\",\n",
       " 'so',\n",
       " 'some',\n",
       " 'such',\n",
       " 't',\n",
       " 'than',\n",
       " 'that',\n",
       " \"that'll\",\n",
       " 'the',\n",
       " 'their',\n",
       " 'theirs',\n",
       " 'them',\n",
       " 'themselves',\n",
       " 'then',\n",
       " 'there',\n",
       " 'these',\n",
       " 'they',\n",
       " 'this',\n",
       " 'those',\n",
       " 'through',\n",
       " 'to',\n",
       " 'too',\n",
       " 'under',\n",
       " 'until',\n",
       " 'up',\n",
       " 've',\n",
       " 'very',\n",
       " 'was',\n",
       " 'wasn',\n",
       " \"wasn't\",\n",
       " 'we',\n",
       " 'were',\n",
       " 'weren',\n",
       " \"weren't\",\n",
       " 'what',\n",
       " 'when',\n",
       " 'where',\n",
       " 'which',\n",
       " 'while',\n",
       " 'who',\n",
       " 'whom',\n",
       " 'why',\n",
       " 'will',\n",
       " 'with',\n",
       " 'won',\n",
       " \"won't\",\n",
       " 'wouldn',\n",
       " \"wouldn't\",\n",
       " 'y',\n",
       " 'you',\n",
       " \"you'd\",\n",
       " \"you'll\",\n",
       " \"you're\",\n",
       " \"you've\",\n",
       " 'your',\n",
       " 'yours',\n",
       " 'yourself',\n",
       " 'yourselves'}"
      ]
     },
     "execution_count": 83,
     "metadata": {},
     "output_type": "execute_result"
    }
   ],
   "source": [
    "# Add necessary stopwords\n",
    "\n",
    "stopwords1 =  set(stopwords.words('english'))\n",
    "stopwords1.add(\"I'm\")\n",
    "stopwords1.add(\"I've\")\n",
    "stopwords1.add('I')\n",
    "stopwords1"
   ]
  },
  {
   "cell_type": "code",
   "execution_count": 84,
   "metadata": {},
   "outputs": [
    {
     "data": {
      "text/plain": [
       "['world', 'beautiful', 'place', 'positivity', 'correct', 'attitude']"
      ]
     },
     "execution_count": 84,
     "metadata": {},
     "output_type": "execute_result"
    }
   ],
   "source": [
    "#Testing stopword removal\n",
    "\n",
    "test = \"the world is a beautiful place and positivity is the correct attitude\"\n",
    "test1 = test.split(' ')\n",
    "t = [x for x in test1 if x not in stopwords1]\n",
    "t"
   ]
  },
  {
   "cell_type": "code",
   "execution_count": 85,
   "metadata": {
    "collapsed": true
   },
   "outputs": [],
   "source": [
    "def cleanhtml(raw_html):\n",
    "    '''\n",
    "    Function to clean the data of hyperlinks and other text\n",
    "    '''\n",
    "    cleanr = re.compile('<.*?> ')\n",
    "    cleanr1 = re.compile('<.*?>')\n",
    "    cleantext1 = re.sub(cleanr, '', raw_html)\n",
    "    cleantext = re.sub(cleanr1, '', cleantext1)\n",
    "    return(cleantext)"
   ]
  },
  {
   "cell_type": "code",
   "execution_count": 86,
   "metadata": {
    "collapsed": true
   },
   "outputs": [],
   "source": [
    "def integer_frequency(list_str):\n",
    "    '''\n",
    "    Function to clean out line breaks and other not required text\n",
    "    '''\n",
    "    list_str = re.sub(r'^.*?https?:\\/\\/.*[\\r\\n]*', '', list_str, flags=re.MULTILINE)\n",
    "    list_str = re.sub(r'^https?:\\/\\/.*[\\r\\n]*', '', list_str, flags=re.MULTILINE)\n",
    "    list_str = list_str.replace('.', ' ')\n",
    "    list_str = list_str.replace(',', ' ')\n",
    "    list_str = list_str.replace('\\n', ' ')\n",
    "    list_str = list_str.replace('\\r', ' ')\n",
    "    list_str = list_str.replace('?', '')\n",
    "    ls = [x for x in list_str.split(' ') if x not in stopwords1]\n",
    "    return \" \".join(ls)"
   ]
  },
  {
   "cell_type": "markdown",
   "metadata": {},
   "source": [
    "### Testing the data cleaning"
   ]
  },
  {
   "cell_type": "code",
   "execution_count": 87,
   "metadata": {},
   "outputs": [
    {
     "data": {
      "text/plain": [
       "'<p>What are good libraries for C with datastructures like vectors, deques, stacks, hashmaps, treemaps, sets, etc.? Plain C, please, and platform-independent.</p>'"
      ]
     },
     "execution_count": 87,
     "metadata": {},
     "output_type": "execute_result"
    }
   ],
   "source": [
    "ques.Body.head(100)[24]"
   ]
  },
  {
   "cell_type": "code",
   "execution_count": 88,
   "metadata": {},
   "outputs": [
    {
     "data": {
      "text/plain": [
       "'What good libraries C datastructures like vectors  deques  stacks  hashmaps  treemaps  sets  etc  Plain C  please  platform-independent '"
      ]
     },
     "execution_count": 88,
     "metadata": {},
     "output_type": "execute_result"
    }
   ],
   "source": [
    "t = integer_frequency(cleanhtml(ques.Body.head(100)[24]))\n",
    "t"
   ]
  },
  {
   "cell_type": "code",
   "execution_count": 89,
   "metadata": {},
   "outputs": [
    {
     "data": {
      "text/plain": [
       "''"
      ]
     },
     "execution_count": 89,
     "metadata": {},
     "output_type": "execute_result"
    }
   ],
   "source": [
    "s = \"god I love love Piza Pizza you http://stackoverflow.com/questions/8050/beginners-guide-to-linq)\"\n",
    "integer_frequency(cleanhtml(s))"
   ]
  },
  {
   "cell_type": "code",
   "execution_count": 90,
   "metadata": {},
   "outputs": [
    {
     "data": {
      "text/plain": [
       "32604"
      ]
     },
     "execution_count": 90,
     "metadata": {},
     "output_type": "execute_result"
    }
   ],
   "source": [
    "#Clean the whole dataset and combine Question Title & Body\n",
    "\n",
    "ques['Body'] = ques['Body'].str.replace('<p>', '')\n",
    "ques['Body'] = ques['Body'].str.replace('</p>', '')\n",
    "ques['Body'] = ques['Body'].apply(lambda s: cleanhtml(s))\n",
    "ques['Body'] = ques['Body'].apply(lambda s: integer_frequency(s))\n",
    "ques['ques'] = ques['Title'] + ' ' + ques['Body']\n",
    "ques_train = ques[['Id', 'ques']]\n",
    "ques_train.head()\n",
    "len(ques_train)"
   ]
  },
  {
   "cell_type": "code",
   "execution_count": 91,
   "metadata": {},
   "outputs": [
    {
     "name": "stdout",
     "output_type": "stream",
     "text": [
      "None\n"
     ]
    }
   ],
   "source": [
    "r = list().append('vg')\n",
    "print(r)"
   ]
  },
  {
   "cell_type": "code",
   "execution_count": 92,
   "metadata": {
    "collapsed": true
   },
   "outputs": [],
   "source": [
    "#Join all tags grouped by the question ID\n",
    "\n",
    "tags = tags.groupby('Id').agg(lambda x: \" \".join(x)).reset_index()\n",
    "tags['Tag'] = tags['Tag'].apply(lambda x: x.split(\" \"))"
   ]
  },
  {
   "cell_type": "code",
   "execution_count": 101,
   "metadata": {
    "collapsed": true
   },
   "outputs": [],
   "source": [
    "#Merge the two datasets\n",
    "\n",
    "ques_tags = pd.merge(left = ques_train, right = tags, how = 'left', on = 'Id')"
   ]
  },
  {
   "cell_type": "code",
   "execution_count": 102,
   "metadata": {},
   "outputs": [
    {
     "data": {
      "text/html": [
       "<div>\n",
       "<style>\n",
       "    .dataframe thead tr:only-child th {\n",
       "        text-align: right;\n",
       "    }\n",
       "\n",
       "    .dataframe thead th {\n",
       "        text-align: left;\n",
       "    }\n",
       "\n",
       "    .dataframe tbody tr th {\n",
       "        vertical-align: top;\n",
       "    }\n",
       "</style>\n",
       "<table border=\"1\" class=\"dataframe\">\n",
       "  <thead>\n",
       "    <tr style=\"text-align: right;\">\n",
       "      <th></th>\n",
       "      <th>Id</th>\n",
       "      <th>ques</th>\n",
       "      <th>Tag</th>\n",
       "    </tr>\n",
       "  </thead>\n",
       "  <tbody>\n",
       "    <tr>\n",
       "      <th>0</th>\n",
       "      <td>80</td>\n",
       "      <td>SQLStatement.execute() - multiple queries in o...</td>\n",
       "      <td>[flex, actionscript-3, air]</td>\n",
       "    </tr>\n",
       "    <tr>\n",
       "      <th>1</th>\n",
       "      <td>90</td>\n",
       "      <td>Good branching and merging tutorials for Torto...</td>\n",
       "      <td>[svn, tortoisesvn, branch, branching-and-merging]</td>\n",
       "    </tr>\n",
       "    <tr>\n",
       "      <th>2</th>\n",
       "      <td>120</td>\n",
       "      <td>ASP.NET Site Maps Has anyone got experience cr...</td>\n",
       "      <td>[sql, asp.net, sitemap]</td>\n",
       "    </tr>\n",
       "    <tr>\n",
       "      <th>3</th>\n",
       "      <td>180</td>\n",
       "      <td>Function for creating color wheels This someth...</td>\n",
       "      <td>[algorithm, language-agnostic, colors, color-s...</td>\n",
       "    </tr>\n",
       "    <tr>\n",
       "      <th>4</th>\n",
       "      <td>260</td>\n",
       "      <td>Adding scripting functionality to .NET applica...</td>\n",
       "      <td>[c#, .net, scripting, compiler-construction]</td>\n",
       "    </tr>\n",
       "  </tbody>\n",
       "</table>\n",
       "</div>"
      ],
      "text/plain": [
       "    Id                                               ques  \\\n",
       "0   80  SQLStatement.execute() - multiple queries in o...   \n",
       "1   90  Good branching and merging tutorials for Torto...   \n",
       "2  120  ASP.NET Site Maps Has anyone got experience cr...   \n",
       "3  180  Function for creating color wheels This someth...   \n",
       "4  260  Adding scripting functionality to .NET applica...   \n",
       "\n",
       "                                                 Tag  \n",
       "0                        [flex, actionscript-3, air]  \n",
       "1  [svn, tortoisesvn, branch, branching-and-merging]  \n",
       "2                            [sql, asp.net, sitemap]  \n",
       "3  [algorithm, language-agnostic, colors, color-s...  \n",
       "4       [c#, .net, scripting, compiler-construction]  "
      ]
     },
     "execution_count": 102,
     "metadata": {},
     "output_type": "execute_result"
    }
   ],
   "source": [
    "ques_tags.head()"
   ]
  },
  {
   "cell_type": "code",
   "execution_count": 19,
   "metadata": {},
   "outputs": [
    {
     "data": {
      "text/html": [
       "<div>\n",
       "<style>\n",
       "    .dataframe thead tr:only-child th {\n",
       "        text-align: right;\n",
       "    }\n",
       "\n",
       "    .dataframe thead th {\n",
       "        text-align: left;\n",
       "    }\n",
       "\n",
       "    .dataframe tbody tr th {\n",
       "        vertical-align: top;\n",
       "    }\n",
       "</style>\n",
       "<table border=\"1\" class=\"dataframe\">\n",
       "  <thead>\n",
       "    <tr style=\"text-align: right;\">\n",
       "      <th></th>\n",
       "      <th>Id</th>\n",
       "      <th>ques</th>\n",
       "      <th>Tag</th>\n",
       "    </tr>\n",
       "  </thead>\n",
       "  <tbody>\n",
       "    <tr>\n",
       "      <th>0</th>\n",
       "      <td>80</td>\n",
       "      <td>SQLStatement.execute() - multiple queries in o...</td>\n",
       "      <td>flex actionscript-3 air</td>\n",
       "    </tr>\n",
       "    <tr>\n",
       "      <th>1</th>\n",
       "      <td>90</td>\n",
       "      <td>Good branching and merging tutorials for Torto...</td>\n",
       "      <td>svn tortoisesvn branch branching-and-merging</td>\n",
       "    </tr>\n",
       "    <tr>\n",
       "      <th>2</th>\n",
       "      <td>120</td>\n",
       "      <td>ASP.NET Site Maps Has anyone got experience cr...</td>\n",
       "      <td>sql asp.net sitemap</td>\n",
       "    </tr>\n",
       "    <tr>\n",
       "      <th>3</th>\n",
       "      <td>180</td>\n",
       "      <td>Function for creating color wheels This someth...</td>\n",
       "      <td>algorithm language-agnostic colors color-space</td>\n",
       "    </tr>\n",
       "    <tr>\n",
       "      <th>4</th>\n",
       "      <td>260</td>\n",
       "      <td>Adding scripting functionality to .NET applica...</td>\n",
       "      <td>c# .net scripting compiler-construction</td>\n",
       "    </tr>\n",
       "    <tr>\n",
       "      <th>5</th>\n",
       "      <td>330</td>\n",
       "      <td>Should I use nested classes in this case? work...</td>\n",
       "      <td>c++ oop class nested-class</td>\n",
       "    </tr>\n",
       "    <tr>\n",
       "      <th>6</th>\n",
       "      <td>470</td>\n",
       "      <td>Homegrown consumption of web services writing ...</td>\n",
       "      <td>.net web-services</td>\n",
       "    </tr>\n",
       "    <tr>\n",
       "      <th>7</th>\n",
       "      <td>580</td>\n",
       "      <td>Deploying SQL Server Databases from Test to Li...</td>\n",
       "      <td>sql-server sql-server-2005 deployment release-...</td>\n",
       "    </tr>\n",
       "    <tr>\n",
       "      <th>8</th>\n",
       "      <td>650</td>\n",
       "      <td>Automatically update version number would like...</td>\n",
       "      <td>c# visual-studio versioning</td>\n",
       "    </tr>\n",
       "    <tr>\n",
       "      <th>9</th>\n",
       "      <td>810</td>\n",
       "      <td>Visual Studio Setup Project - Per User Registr...</td>\n",
       "      <td>windows visual-studio registry installation</td>\n",
       "    </tr>\n",
       "  </tbody>\n",
       "</table>\n",
       "</div>"
      ],
      "text/plain": [
       "    Id                                               ques  \\\n",
       "0   80  SQLStatement.execute() - multiple queries in o...   \n",
       "1   90  Good branching and merging tutorials for Torto...   \n",
       "2  120  ASP.NET Site Maps Has anyone got experience cr...   \n",
       "3  180  Function for creating color wheels This someth...   \n",
       "4  260  Adding scripting functionality to .NET applica...   \n",
       "5  330  Should I use nested classes in this case? work...   \n",
       "6  470  Homegrown consumption of web services writing ...   \n",
       "7  580  Deploying SQL Server Databases from Test to Li...   \n",
       "8  650  Automatically update version number would like...   \n",
       "9  810  Visual Studio Setup Project - Per User Registr...   \n",
       "\n",
       "                                                 Tag  \n",
       "0                            flex actionscript-3 air  \n",
       "1       svn tortoisesvn branch branching-and-merging  \n",
       "2                                sql asp.net sitemap  \n",
       "3     algorithm language-agnostic colors color-space  \n",
       "4            c# .net scripting compiler-construction  \n",
       "5                         c++ oop class nested-class  \n",
       "6                                  .net web-services  \n",
       "7  sql-server sql-server-2005 deployment release-...  \n",
       "8                        c# visual-studio versioning  \n",
       "9        windows visual-studio registry installation  "
      ]
     },
     "execution_count": 19,
     "metadata": {},
     "output_type": "execute_result"
    }
   ],
   "source": [
    "#Examine the data\n",
    "\n",
    "ques_tags.head(10)"
   ]
  },
  {
   "cell_type": "code",
   "execution_count": 20,
   "metadata": {},
   "outputs": [
    {
     "data": {
      "text/plain": [
       "594057"
      ]
     },
     "execution_count": 20,
     "metadata": {},
     "output_type": "execute_result"
    }
   ],
   "source": [
    "len(ques_tags)"
   ]
  },
  {
   "cell_type": "markdown",
   "metadata": {},
   "source": [
    "### Final Cleaning"
   ]
  },
  {
   "cell_type": "code",
   "execution_count": 21,
   "metadata": {
    "collapsed": true
   },
   "outputs": [],
   "source": [
    "ques_tags['combined'] =ques_tags['Tag'].astype(str) + \" \" + ques_tags['ques'].astype(str)"
   ]
  },
  {
   "cell_type": "code",
   "execution_count": 22,
   "metadata": {
    "collapsed": true
   },
   "outputs": [],
   "source": [
    "ques_tags['combined'] = ques_tags['ques'].astype(str)\n",
    "ques_tags['combined'] = ques_tags['combined'].str.replace('\\r', '')\n",
    "ques_tags['combined'] = ques_tags['combined'].str.replace('\\n', '')"
   ]
  },
  {
   "cell_type": "code",
   "execution_count": 23,
   "metadata": {},
   "outputs": [
    {
     "data": {
      "text/html": [
       "<div>\n",
       "<style>\n",
       "    .dataframe thead tr:only-child th {\n",
       "        text-align: right;\n",
       "    }\n",
       "\n",
       "    .dataframe thead th {\n",
       "        text-align: left;\n",
       "    }\n",
       "\n",
       "    .dataframe tbody tr th {\n",
       "        vertical-align: top;\n",
       "    }\n",
       "</style>\n",
       "<table border=\"1\" class=\"dataframe\">\n",
       "  <thead>\n",
       "    <tr style=\"text-align: right;\">\n",
       "      <th></th>\n",
       "      <th>Id</th>\n",
       "      <th>ques</th>\n",
       "      <th>Tag</th>\n",
       "      <th>combined</th>\n",
       "    </tr>\n",
       "  </thead>\n",
       "  <tbody>\n",
       "    <tr>\n",
       "      <th>0</th>\n",
       "      <td>80</td>\n",
       "      <td>SQLStatement.execute() - multiple queries in o...</td>\n",
       "      <td>flex actionscript-3 air</td>\n",
       "      <td>SQLStatement.execute() - multiple queries in o...</td>\n",
       "    </tr>\n",
       "    <tr>\n",
       "      <th>1</th>\n",
       "      <td>90</td>\n",
       "      <td>Good branching and merging tutorials for Torto...</td>\n",
       "      <td>svn tortoisesvn branch branching-and-merging</td>\n",
       "      <td>Good branching and merging tutorials for Torto...</td>\n",
       "    </tr>\n",
       "    <tr>\n",
       "      <th>2</th>\n",
       "      <td>120</td>\n",
       "      <td>ASP.NET Site Maps Has anyone got experience cr...</td>\n",
       "      <td>sql asp.net sitemap</td>\n",
       "      <td>ASP.NET Site Maps Has anyone got experience cr...</td>\n",
       "    </tr>\n",
       "    <tr>\n",
       "      <th>3</th>\n",
       "      <td>180</td>\n",
       "      <td>Function for creating color wheels This someth...</td>\n",
       "      <td>algorithm language-agnostic colors color-space</td>\n",
       "      <td>Function for creating color wheels This someth...</td>\n",
       "    </tr>\n",
       "    <tr>\n",
       "      <th>4</th>\n",
       "      <td>260</td>\n",
       "      <td>Adding scripting functionality to .NET applica...</td>\n",
       "      <td>c# .net scripting compiler-construction</td>\n",
       "      <td>Adding scripting functionality to .NET applica...</td>\n",
       "    </tr>\n",
       "  </tbody>\n",
       "</table>\n",
       "</div>"
      ],
      "text/plain": [
       "    Id                                               ques  \\\n",
       "0   80  SQLStatement.execute() - multiple queries in o...   \n",
       "1   90  Good branching and merging tutorials for Torto...   \n",
       "2  120  ASP.NET Site Maps Has anyone got experience cr...   \n",
       "3  180  Function for creating color wheels This someth...   \n",
       "4  260  Adding scripting functionality to .NET applica...   \n",
       "\n",
       "                                              Tag  \\\n",
       "0                         flex actionscript-3 air   \n",
       "1    svn tortoisesvn branch branching-and-merging   \n",
       "2                             sql asp.net sitemap   \n",
       "3  algorithm language-agnostic colors color-space   \n",
       "4         c# .net scripting compiler-construction   \n",
       "\n",
       "                                            combined  \n",
       "0  SQLStatement.execute() - multiple queries in o...  \n",
       "1  Good branching and merging tutorials for Torto...  \n",
       "2  ASP.NET Site Maps Has anyone got experience cr...  \n",
       "3  Function for creating color wheels This someth...  \n",
       "4  Adding scripting functionality to .NET applica...  "
      ]
     },
     "execution_count": 23,
     "metadata": {},
     "output_type": "execute_result"
    }
   ],
   "source": [
    "ques_tags.head()"
   ]
  },
  {
   "cell_type": "code",
   "execution_count": 40,
   "metadata": {
    "collapsed": true
   },
   "outputs": [],
   "source": [
    "def get_noun_phrases(text):\n",
    "    blob = TextBlob(text)\n",
    "    return blob.noun_phrases"
   ]
  },
  {
   "cell_type": "code",
   "execution_count": 1,
   "metadata": {},
   "outputs": [
    {
     "ename": "NameError",
     "evalue": "name 'ques' is not defined",
     "output_type": "error",
     "traceback": [
      "\u001b[1;31m---------------------------------------------------------------------------\u001b[0m",
      "\u001b[1;31mNameError\u001b[0m                                 Traceback (most recent call last)",
      "\u001b[1;32m<ipython-input-1-be1cd999637d>\u001b[0m in \u001b[0;36m<module>\u001b[1;34m()\u001b[0m\n\u001b[1;32m----> 1\u001b[1;33m \u001b[0mques\u001b[0m\u001b[1;33m[\u001b[0m\u001b[1;34m'ques_noun_phrases'\u001b[0m\u001b[1;33m]\u001b[0m \u001b[1;33m=\u001b[0m \u001b[0mques\u001b[0m\u001b[1;33m[\u001b[0m\u001b[1;34m'ques'\u001b[0m\u001b[1;33m]\u001b[0m\u001b[1;33m.\u001b[0m\u001b[0mapply\u001b[0m\u001b[1;33m(\u001b[0m\u001b[1;32mlambda\u001b[0m \u001b[0ms\u001b[0m\u001b[1;33m:\u001b[0m \u001b[0mget_noun_phrases\u001b[0m\u001b[1;33m(\u001b[0m\u001b[0ms\u001b[0m\u001b[1;33m)\u001b[0m\u001b[1;33m)\u001b[0m\u001b[1;33m\u001b[0m\u001b[0m\n\u001b[0m",
      "\u001b[1;31mNameError\u001b[0m: name 'ques' is not defined"
     ]
    }
   ],
   "source": [
    "ques['ques_noun_phrases'] = ques['ques'].apply(lambda s: get_noun_phrases(s))"
   ]
  },
  {
   "cell_type": "code",
   "execution_count": 44,
   "metadata": {},
   "outputs": [
    {
     "data": {
      "text/plain": [
       "0    [sqlstatement.execute, multiple queries, datab...\n",
       "1    [tortoisesvn, good tutorials, apache subversio...\n",
       "2    [asp.net site maps, site-map providers, xml, m...\n",
       "3    [function, color wheels, way generate colors, ...\n",
       "4    [adding, .net applications, c #, uses database...\n",
       "Name: ques_noun_phrases, dtype: object"
      ]
     },
     "execution_count": 44,
     "metadata": {},
     "output_type": "execute_result"
    }
   ],
   "source": [
    "ques['ques_noun_phrases'].head()"
   ]
  },
  {
   "cell_type": "code",
   "execution_count": 24,
   "metadata": {
    "collapsed": true
   },
   "outputs": [],
   "source": [
    "def remove_stopwords(strn):\n",
    "    return( \" \".join([x for x in strn.split(\" \") if x not in stopwords1]))"
   ]
  },
  {
   "cell_type": "code",
   "execution_count": 25,
   "metadata": {
    "collapsed": true
   },
   "outputs": [],
   "source": [
    "ques_tags['combined'] = ques_tags['combined'].apply(lambda s: remove_stopwords(s))"
   ]
  },
  {
   "cell_type": "markdown",
   "metadata": {},
   "source": [
    "### Save to file"
   ]
  },
  {
   "cell_type": "code",
   "execution_count": 95,
   "metadata": {
    "collapsed": true
   },
   "outputs": [],
   "source": [
    "ques_tags[['Id', 'Tag', 'ques']].to_csv('clean_data_full.csv', sep='\\t', encoding='utf-8')"
   ]
  },
  {
   "cell_type": "code",
   "execution_count": 104,
   "metadata": {},
   "outputs": [
    {
     "data": {
      "text/html": [
       "<div>\n",
       "<style>\n",
       "    .dataframe thead tr:only-child th {\n",
       "        text-align: right;\n",
       "    }\n",
       "\n",
       "    .dataframe thead th {\n",
       "        text-align: left;\n",
       "    }\n",
       "\n",
       "    .dataframe tbody tr th {\n",
       "        vertical-align: top;\n",
       "    }\n",
       "</style>\n",
       "<table border=\"1\" class=\"dataframe\">\n",
       "  <thead>\n",
       "    <tr style=\"text-align: right;\">\n",
       "      <th></th>\n",
       "      <th>Id</th>\n",
       "      <th>ques</th>\n",
       "      <th>Tag</th>\n",
       "    </tr>\n",
       "  </thead>\n",
       "  <tbody>\n",
       "    <tr>\n",
       "      <th>0</th>\n",
       "      <td>80</td>\n",
       "      <td>SQLStatement.execute() - multiple queries in o...</td>\n",
       "      <td>[flex, actionscript-3, air]</td>\n",
       "    </tr>\n",
       "    <tr>\n",
       "      <th>1</th>\n",
       "      <td>90</td>\n",
       "      <td>Good branching and merging tutorials for Torto...</td>\n",
       "      <td>[svn, tortoisesvn, branch, branching-and-merging]</td>\n",
       "    </tr>\n",
       "    <tr>\n",
       "      <th>2</th>\n",
       "      <td>120</td>\n",
       "      <td>ASP.NET Site Maps Has anyone got experience cr...</td>\n",
       "      <td>[sql, asp.net, sitemap]</td>\n",
       "    </tr>\n",
       "    <tr>\n",
       "      <th>3</th>\n",
       "      <td>180</td>\n",
       "      <td>Function for creating color wheels This someth...</td>\n",
       "      <td>[algorithm, language-agnostic, colors, color-s...</td>\n",
       "    </tr>\n",
       "    <tr>\n",
       "      <th>4</th>\n",
       "      <td>260</td>\n",
       "      <td>Adding scripting functionality to .NET applica...</td>\n",
       "      <td>[c#, .net, scripting, compiler-construction]</td>\n",
       "    </tr>\n",
       "  </tbody>\n",
       "</table>\n",
       "</div>"
      ],
      "text/plain": [
       "    Id                                               ques  \\\n",
       "0   80  SQLStatement.execute() - multiple queries in o...   \n",
       "1   90  Good branching and merging tutorials for Torto...   \n",
       "2  120  ASP.NET Site Maps Has anyone got experience cr...   \n",
       "3  180  Function for creating color wheels This someth...   \n",
       "4  260  Adding scripting functionality to .NET applica...   \n",
       "\n",
       "                                                 Tag  \n",
       "0                        [flex, actionscript-3, air]  \n",
       "1  [svn, tortoisesvn, branch, branching-and-merging]  \n",
       "2                            [sql, asp.net, sitemap]  \n",
       "3  [algorithm, language-agnostic, colors, color-s...  \n",
       "4       [c#, .net, scripting, compiler-construction]  "
      ]
     },
     "execution_count": 104,
     "metadata": {},
     "output_type": "execute_result"
    }
   ],
   "source": [
    "ques_tags.head()"
   ]
  },
  {
   "cell_type": "code",
   "execution_count": 139,
   "metadata": {
    "collapsed": true
   },
   "outputs": [],
   "source": [
    "X = ques_tags['ques'].values\n",
    "y = ques_tags['Tag'].values\n",
    "\n",
    "X_train, X_test, y_train, y_test = train_test_split(X, y, test_size=0.2, random_state=1)\n",
    "\n",
    "X_train, X_val, y_train, y_val = train_test_split(X_train, y_train, test_size=0.2, random_state=1)"
   ]
  },
  {
   "cell_type": "code",
   "execution_count": 142,
   "metadata": {},
   "outputs": [
    {
     "name": "stdout",
     "output_type": "stream",
     "text": [
      "[list(['c#', '.net', 'return-type'])\n",
      " list(['javascript', 'backbone.js', 'jsdoc'])\n",
      " list(['google-app-engine', 'amazon-web-services']) ...,\n",
      " list(['asp.net-mvc-3', 'razor', 'unobtrusive-javascript', 'unobtrusive-validation'])\n",
      " list(['c#', 'winforms', 'data-binding', 'datagridview', 'format'])\n",
      " list(['ios', 'swift', 'ios9', 'nsfetchedresultscontrolle'])]\n",
      "[list(['javascript', 'jquery'])\n",
      " list(['c#', 'visual-studio-2010', 'web-deployment-project', 'web-platform-installer'])\n",
      " list(['c++', 'performance', 'simd', 'avx']) ...,\n",
      " list(['asp.net', 'asp.net-mvc'])\n",
      " list(['algorithm', 'sorting', 'radix-sort'])\n",
      " list(['javascript', 'html', 'html-table'])]\n"
     ]
    }
   ],
   "source": [
    "print(y_train)\n",
    "print(y_val)"
   ]
  },
  {
   "cell_type": "code",
   "execution_count": 107,
   "metadata": {
    "collapsed": true
   },
   "outputs": [],
   "source": [
    "REPLACE_BY_SPACE_RE = re.compile('[/(){}\\[\\]\\|@,;]')\n",
    "BAD_SYMBOLS_RE = re.compile('[^0-9a-z #+_]')\n",
    "STOPWORDS = set(stopwords.words('english'))\n",
    "\n",
    "def text_prepare(text):\n",
    "    \"\"\"\n",
    "        text: a string\n",
    "        \n",
    "        return: modified initial string\n",
    "    \"\"\"\n",
    "    text = text.lower()\n",
    "    text = REPLACE_BY_SPACE_RE.sub(' ', text) # replaces REPLACE_BY_SPACE_RE symbols by space in text\n",
    "    text = BAD_SYMBOLS_RE.sub('', text) # deletes symbols which are in BAD_SYMBOLS_RE from text\n",
    "    text = ' '.join(word for word in text.split() if word not in STOPWORDS) # deletes stopwors from text\n",
    "    return text"
   ]
  },
  {
   "cell_type": "code",
   "execution_count": 108,
   "metadata": {
    "collapsed": true
   },
   "outputs": [],
   "source": [
    "X_train = [text_prepare(x) for x in X_train]\n",
    "X_val = [text_prepare(x) for x in X_val]\n",
    "X_test = [text_prepare(x) for x in X_test]"
   ]
  },
  {
   "cell_type": "code",
   "execution_count": 109,
   "metadata": {},
   "outputs": [
    {
     "data": {
      "text/plain": [
       "['return array collection function whats preferred container type returning multiple objects type function good practice return simple array like mytype wrap generic container like icollectionlt mytypegt thanks',\n",
       " 'jsdoc annotate backbonejs code anyone ever documented backbonejs code jsdoc problems annotating backbone constructs user backbone model extend defaults 1 initialize function dosomething function p advice appreciated thanks',\n",
       " 'google app engine vs amazon web services one developer startup service would pick goal get market really fast would go gae build everything scratch python one click deploy pick aws setup server db use rails admin work']"
      ]
     },
     "execution_count": 109,
     "metadata": {},
     "output_type": "execute_result"
    }
   ],
   "source": [
    "X_train[:3]"
   ]
  },
  {
   "cell_type": "code",
   "execution_count": 153,
   "metadata": {
    "collapsed": true
   },
   "outputs": [],
   "source": [
    "from collections import defaultdict\n",
    "# Dictionary of all tags from train corpus with their counts.\n",
    "tags_counts = defaultdict(int)\n",
    "# Dictionary of all words from train corpus with their counts.\n",
    "words_counts = defaultdict(int)\n",
    "\n",
    "for tags in y_train:\n",
    "    for tag in tags:\n",
    "        tags_counts[tag] += 1\n",
    "\n",
    "for tags in y_val:\n",
    "    for tag in tags:\n",
    "        if tag not in tags_counts:\n",
    "            tags_counts[tag] += 1\n",
    "\n",
    "for text in X_train:\n",
    "    for word in text.split():\n",
    "        words_counts[word] += 1"
   ]
  },
  {
   "cell_type": "code",
   "execution_count": 111,
   "metadata": {
    "collapsed": true
   },
   "outputs": [],
   "source": [
    "most_common_tags = sorted(tags_counts.items(), key=lambda x: x[1], reverse=True)[:3]\n",
    "most_common_words = sorted(words_counts.items(), key=lambda x: x[1], reverse=True)[:3]"
   ]
  },
  {
   "cell_type": "code",
   "execution_count": 123,
   "metadata": {},
   "outputs": [
    {
     "data": {
      "text/plain": [
       "[('lt', 26727), ('0', 13688), ('1', 12934)]"
      ]
     },
     "execution_count": 123,
     "metadata": {},
     "output_type": "execute_result"
    }
   ],
   "source": [
    "most_common_words"
   ]
  },
  {
   "cell_type": "code",
   "execution_count": 114,
   "metadata": {
    "collapsed": true
   },
   "outputs": [],
   "source": [
    "DICT_SIZE = 5000\n",
    "INDEX_TO_WORDS = sorted(words_counts.keys(), key=lambda x: words_counts[x], reverse=True)[:DICT_SIZE]\n",
    "WORDS_TO_INDEX = {word:i for i, word in enumerate(INDEX_TO_WORDS)}\n",
    "ALL_WORDS = WORDS_TO_INDEX.keys()\n",
    "\n",
    "def my_bag_of_words(text, words_to_index, dict_size):\n",
    "    \"\"\"\n",
    "        text: a string\n",
    "        dict_size: size of the dictionary\n",
    "        \n",
    "        return a vector which is a bag-of-words representation of 'text'\n",
    "    \"\"\"\n",
    "    text = text.split()\n",
    "    result_vector = np.zeros(dict_size)\n",
    "    for word in text:\n",
    "        if word in words_to_index:\n",
    "            result_vector[words_to_index[word]]+=1\n",
    "    \n",
    "    return result_vector"
   ]
  },
  {
   "cell_type": "code",
   "execution_count": 116,
   "metadata": {},
   "outputs": [
    {
     "name": "stdout",
     "output_type": "stream",
     "text": [
      "X_train shape  (20866, 5000)\n",
      "X_val shape  (5217, 5000)\n",
      "X_test shape  (6521, 5000)\n"
     ]
    }
   ],
   "source": [
    "X_train_mybag = sp_sparse.vstack([sp_sparse.csr_matrix(my_bag_of_words(text, WORDS_TO_INDEX, DICT_SIZE)) for text in X_train])\n",
    "X_val_mybag = sp_sparse.vstack([sp_sparse.csr_matrix(my_bag_of_words(text, WORDS_TO_INDEX, DICT_SIZE)) for text in X_val])\n",
    "X_test_mybag = sp_sparse.vstack([sp_sparse.csr_matrix(my_bag_of_words(text, WORDS_TO_INDEX, DICT_SIZE)) for text in X_test])\n",
    "print('X_train shape ', X_train_mybag.shape)\n",
    "print('X_val shape ', X_val_mybag.shape)\n",
    "print('X_test shape ', X_test_mybag.shape)"
   ]
  },
  {
   "cell_type": "code",
   "execution_count": 118,
   "metadata": {
    "collapsed": true
   },
   "outputs": [],
   "source": [
    "def tfidf_features(X_train, X_val, X_test):\n",
    "    \"\"\"\n",
    "        X_train, X_val, X_test — samples        \n",
    "        return TF-IDF vectorized representation of each sample and vocabulary\n",
    "    \"\"\"        \n",
    "    tfidf_vectorizer = TfidfVectorizer(min_df=5, max_df=0.9, ngram_range=(1, 2), token_pattern='(\\S+)')\n",
    "    X_train = tfidf_vectorizer.fit_transform(X_train)\n",
    "    X_val = tfidf_vectorizer.transform(X_val)\n",
    "    X_test = tfidf_vectorizer.transform(X_test)\n",
    "    \n",
    "    return X_train, X_val, X_test, tfidf_vectorizer.vocabulary_\n",
    "X_train_tfidf, X_val_tfidf, X_test_tfidf, tfidf_vocab = tfidf_features(X_train, X_val, X_test)\n",
    "tfidf_reversed_vocab = {i:word for word,i in tfidf_vocab.items()}"
   ]
  },
  {
   "cell_type": "code",
   "execution_count": 120,
   "metadata": {},
   "outputs": [
    {
     "data": {
      "text/plain": [
       "['#',\n",
       " '# #',\n",
       " '# +',\n",
       " '# 0',\n",
       " '# 1',\n",
       " '# 2',\n",
       " '# add',\n",
       " '# allow',\n",
       " '# bin',\n",
       " '# branch']"
      ]
     },
     "execution_count": 120,
     "metadata": {},
     "output_type": "execute_result"
    }
   ],
   "source": [
    "sorted(tfidf_vocab)[:10]"
   ]
  },
  {
   "cell_type": "code",
   "execution_count": 138,
   "metadata": {},
   "outputs": [
    {
     "data": {
      "text/plain": [
       "array([list(['javascript', 'jquery']),\n",
       "       list(['c#', 'visual-studio-2010', 'web-deployment-project', 'web-platform-installer']),\n",
       "       list(['c++', 'performance', 'simd', 'avx']), ...,\n",
       "       list(['asp.net', 'asp.net-mvc']),\n",
       "       list(['algorithm', 'sorting', 'radix-sort']),\n",
       "       list(['javascript', 'html', 'html-table'])], dtype=object)"
      ]
     },
     "execution_count": 138,
     "metadata": {},
     "output_type": "execute_result"
    }
   ],
   "source": [
    "y_val"
   ]
  },
  {
   "cell_type": "code",
   "execution_count": 168,
   "metadata": {
    "collapsed": true
   },
   "outputs": [],
   "source": [
    "mlb = MultiLabelBinarizer(classes=sorted(tags_counts.keys()))\n",
    "mlb1 = MultiLabelBinarizer(classes=sorted(tags_counts.keys()))\n",
    "#y_train = mlb.fit_transform(y_train)\n",
    "\n",
    "#y_val = mlb.fit_transform(y_val)"
   ]
  },
  {
   "cell_type": "code",
   "execution_count": 169,
   "metadata": {
    "collapsed": true
   },
   "outputs": [],
   "source": [
    "y_train_1 = mlb.fit_transform(y_train)"
   ]
  },
  {
   "cell_type": "code",
   "execution_count": 156,
   "metadata": {},
   "outputs": [
    {
     "data": {
      "text/plain": [
       "array([list(['javascript', 'jquery']),\n",
       "       list(['c#', 'visual-studio-2010', 'web-deployment-project', 'web-platform-installer']),\n",
       "       list(['c++', 'performance', 'simd', 'avx']), ...,\n",
       "       list(['asp.net', 'asp.net-mvc']),\n",
       "       list(['algorithm', 'sorting', 'radix-sort']),\n",
       "       list(['javascript', 'html', 'html-table'])], dtype=object)"
      ]
     },
     "execution_count": 156,
     "metadata": {},
     "output_type": "execute_result"
    }
   ],
   "source": [
    "y_val"
   ]
  },
  {
   "cell_type": "code",
   "execution_count": 170,
   "metadata": {
    "collapsed": true
   },
   "outputs": [],
   "source": [
    "y_val_1 = mlb1.fit_transform(y_val)"
   ]
  },
  {
   "cell_type": "code",
   "execution_count": 171,
   "metadata": {
    "collapsed": true
   },
   "outputs": [],
   "source": [
    "\n",
    "from sklearn.multiclass import OneVsRestClassifier\n",
    "from sklearn.linear_model import LogisticRegression, RidgeClassifier\n",
    "from sklearn.svm import SVC\n",
    "from sklearn.naive_bayes import GaussianNB\n",
    "from sklearn.neural_network import MLPClassifier\n",
    "from sklearn.decomposition.nmf import NMF\n",
    "from sklearn.neighbors import KNeighborsClassifier\n",
    "from sklearn.ensemble import AdaBoostClassifier\n"
   ]
  },
  {
   "cell_type": "code",
   "execution_count": 172,
   "metadata": {
    "collapsed": true
   },
   "outputs": [],
   "source": [
    "#tried several classifiers and picked the best one.\n",
    "def train_classifier(X_train, y_train):\n",
    "    \"\"\"\n",
    "      X_train, y_train — training data\n",
    "      \n",
    "      return: trained classifier\n",
    "    \"\"\"\n",
    "    \n",
    "#     clf = OneVsRestClassifier(MLPClassifier(hidden_layer_sizes=(16,8,8), learning_rate='adaptive', max_iter=2000,verbose=True))\n",
    "#     clf = OneVsRestClassifier(SVC(max_iter=1000, verbose=True))\n",
    "#     clf = OneVsRestClassifier(LogisticRegression())\n",
    "#    clf = OneVsRestClassifier(AdaBoostClassifier())\n",
    "    clf = OneVsRestClassifier(RidgeClassifier(normalize=True))\n",
    "    clf.fit(X_train, y_train)\n",
    "    return clf   "
   ]
  },
  {
   "cell_type": "code",
   "execution_count": null,
   "metadata": {},
   "outputs": [
    {
     "name": "stderr",
     "output_type": "stream",
     "text": [
      "C:\\Anaconda3\\lib\\site-packages\\sklearn\\multiclass.py:76: UserWarning: Label not 21 is present in all training examples.\n",
      "  str(classes[c]))\n",
      "C:\\Anaconda3\\lib\\site-packages\\sklearn\\multiclass.py:76: UserWarning: Label not 23 is present in all training examples.\n",
      "  str(classes[c]))\n",
      "C:\\Anaconda3\\lib\\site-packages\\sklearn\\multiclass.py:76: UserWarning: Label not 26 is present in all training examples.\n",
      "  str(classes[c]))\n",
      "C:\\Anaconda3\\lib\\site-packages\\sklearn\\multiclass.py:76: UserWarning: Label not 32 is present in all training examples.\n",
      "  str(classes[c]))\n",
      "C:\\Anaconda3\\lib\\site-packages\\sklearn\\multiclass.py:76: UserWarning: Label not 36 is present in all training examples.\n",
      "  str(classes[c]))\n",
      "C:\\Anaconda3\\lib\\site-packages\\sklearn\\multiclass.py:76: UserWarning: Label not 39 is present in all training examples.\n",
      "  str(classes[c]))\n",
      "C:\\Anaconda3\\lib\\site-packages\\sklearn\\multiclass.py:76: UserWarning: Label not 62 is present in all training examples.\n",
      "  str(classes[c]))\n",
      "C:\\Anaconda3\\lib\\site-packages\\sklearn\\multiclass.py:76: UserWarning: Label not 68 is present in all training examples.\n",
      "  str(classes[c]))\n",
      "C:\\Anaconda3\\lib\\site-packages\\sklearn\\multiclass.py:76: UserWarning: Label not 72 is present in all training examples.\n",
      "  str(classes[c]))\n",
      "C:\\Anaconda3\\lib\\site-packages\\sklearn\\multiclass.py:76: UserWarning: Label not 76 is present in all training examples.\n",
      "  str(classes[c]))\n",
      "C:\\Anaconda3\\lib\\site-packages\\sklearn\\multiclass.py:76: UserWarning: Label not 81 is present in all training examples.\n",
      "  str(classes[c]))\n",
      "C:\\Anaconda3\\lib\\site-packages\\sklearn\\multiclass.py:76: UserWarning: Label not 87 is present in all training examples.\n",
      "  str(classes[c]))\n",
      "C:\\Anaconda3\\lib\\site-packages\\sklearn\\multiclass.py:76: UserWarning: Label not 99 is present in all training examples.\n",
      "  str(classes[c]))\n",
      "C:\\Anaconda3\\lib\\site-packages\\sklearn\\multiclass.py:76: UserWarning: Label not 110 is present in all training examples.\n",
      "  str(classes[c]))\n",
      "C:\\Anaconda3\\lib\\site-packages\\sklearn\\multiclass.py:76: UserWarning: Label not 116 is present in all training examples.\n",
      "  str(classes[c]))\n",
      "C:\\Anaconda3\\lib\\site-packages\\sklearn\\multiclass.py:76: UserWarning: Label not 124 is present in all training examples.\n",
      "  str(classes[c]))\n",
      "C:\\Anaconda3\\lib\\site-packages\\sklearn\\multiclass.py:76: UserWarning: Label not 129 is present in all training examples.\n",
      "  str(classes[c]))\n",
      "C:\\Anaconda3\\lib\\site-packages\\sklearn\\multiclass.py:76: UserWarning: Label not 131 is present in all training examples.\n",
      "  str(classes[c]))\n",
      "C:\\Anaconda3\\lib\\site-packages\\sklearn\\multiclass.py:76: UserWarning: Label not 138 is present in all training examples.\n",
      "  str(classes[c]))\n",
      "C:\\Anaconda3\\lib\\site-packages\\sklearn\\multiclass.py:76: UserWarning: Label not 147 is present in all training examples.\n",
      "  str(classes[c]))\n",
      "C:\\Anaconda3\\lib\\site-packages\\sklearn\\multiclass.py:76: UserWarning: Label not 154 is present in all training examples.\n",
      "  str(classes[c]))\n",
      "C:\\Anaconda3\\lib\\site-packages\\sklearn\\multiclass.py:76: UserWarning: Label not 157 is present in all training examples.\n",
      "  str(classes[c]))\n",
      "C:\\Anaconda3\\lib\\site-packages\\sklearn\\multiclass.py:76: UserWarning: Label not 181 is present in all training examples.\n",
      "  str(classes[c]))\n",
      "C:\\Anaconda3\\lib\\site-packages\\sklearn\\multiclass.py:76: UserWarning: Label not 187 is present in all training examples.\n",
      "  str(classes[c]))\n",
      "C:\\Anaconda3\\lib\\site-packages\\sklearn\\multiclass.py:76: UserWarning: Label not 203 is present in all training examples.\n",
      "  str(classes[c]))\n",
      "C:\\Anaconda3\\lib\\site-packages\\sklearn\\multiclass.py:76: UserWarning: Label not 209 is present in all training examples.\n",
      "  str(classes[c]))\n",
      "C:\\Anaconda3\\lib\\site-packages\\sklearn\\multiclass.py:76: UserWarning: Label not 218 is present in all training examples.\n",
      "  str(classes[c]))\n",
      "C:\\Anaconda3\\lib\\site-packages\\sklearn\\multiclass.py:76: UserWarning: Label not 221 is present in all training examples.\n",
      "  str(classes[c]))\n",
      "C:\\Anaconda3\\lib\\site-packages\\sklearn\\multiclass.py:76: UserWarning: Label not 236 is present in all training examples.\n",
      "  str(classes[c]))\n",
      "C:\\Anaconda3\\lib\\site-packages\\sklearn\\multiclass.py:76: UserWarning: Label not 250 is present in all training examples.\n",
      "  str(classes[c]))\n",
      "C:\\Anaconda3\\lib\\site-packages\\sklearn\\multiclass.py:76: UserWarning: Label not 264 is present in all training examples.\n",
      "  str(classes[c]))\n",
      "C:\\Anaconda3\\lib\\site-packages\\sklearn\\multiclass.py:76: UserWarning: Label not 279 is present in all training examples.\n",
      "  str(classes[c]))\n",
      "C:\\Anaconda3\\lib\\site-packages\\sklearn\\multiclass.py:76: UserWarning: Label not 282 is present in all training examples.\n",
      "  str(classes[c]))\n",
      "C:\\Anaconda3\\lib\\site-packages\\sklearn\\multiclass.py:76: UserWarning: Label not 290 is present in all training examples.\n",
      "  str(classes[c]))\n",
      "C:\\Anaconda3\\lib\\site-packages\\sklearn\\multiclass.py:76: UserWarning: Label not 330 is present in all training examples.\n",
      "  str(classes[c]))\n",
      "C:\\Anaconda3\\lib\\site-packages\\sklearn\\multiclass.py:76: UserWarning: Label not 333 is present in all training examples.\n",
      "  str(classes[c]))\n",
      "C:\\Anaconda3\\lib\\site-packages\\sklearn\\multiclass.py:76: UserWarning: Label not 337 is present in all training examples.\n",
      "  str(classes[c]))\n",
      "C:\\Anaconda3\\lib\\site-packages\\sklearn\\multiclass.py:76: UserWarning: Label not 340 is present in all training examples.\n",
      "  str(classes[c]))\n",
      "C:\\Anaconda3\\lib\\site-packages\\sklearn\\multiclass.py:76: UserWarning: Label not 343 is present in all training examples.\n",
      "  str(classes[c]))\n",
      "C:\\Anaconda3\\lib\\site-packages\\sklearn\\multiclass.py:76: UserWarning: Label not 360 is present in all training examples.\n",
      "  str(classes[c]))\n",
      "C:\\Anaconda3\\lib\\site-packages\\sklearn\\multiclass.py:76: UserWarning: Label not 367 is present in all training examples.\n",
      "  str(classes[c]))\n",
      "C:\\Anaconda3\\lib\\site-packages\\sklearn\\multiclass.py:76: UserWarning: Label not 389 is present in all training examples.\n",
      "  str(classes[c]))\n",
      "C:\\Anaconda3\\lib\\site-packages\\sklearn\\multiclass.py:76: UserWarning: Label not 398 is present in all training examples.\n",
      "  str(classes[c]))\n",
      "C:\\Anaconda3\\lib\\site-packages\\sklearn\\multiclass.py:76: UserWarning: Label not 406 is present in all training examples.\n",
      "  str(classes[c]))\n",
      "C:\\Anaconda3\\lib\\site-packages\\sklearn\\multiclass.py:76: UserWarning: Label not 408 is present in all training examples.\n",
      "  str(classes[c]))\n",
      "C:\\Anaconda3\\lib\\site-packages\\sklearn\\multiclass.py:76: UserWarning: Label not 409 is present in all training examples.\n",
      "  str(classes[c]))\n",
      "C:\\Anaconda3\\lib\\site-packages\\sklearn\\multiclass.py:76: UserWarning: Label not 423 is present in all training examples.\n",
      "  str(classes[c]))\n",
      "C:\\Anaconda3\\lib\\site-packages\\sklearn\\multiclass.py:76: UserWarning: Label not 424 is present in all training examples.\n",
      "  str(classes[c]))\n",
      "C:\\Anaconda3\\lib\\site-packages\\sklearn\\multiclass.py:76: UserWarning: Label not 431 is present in all training examples.\n",
      "  str(classes[c]))\n",
      "C:\\Anaconda3\\lib\\site-packages\\sklearn\\multiclass.py:76: UserWarning: Label not 444 is present in all training examples.\n",
      "  str(classes[c]))\n",
      "C:\\Anaconda3\\lib\\site-packages\\sklearn\\multiclass.py:76: UserWarning: Label not 458 is present in all training examples.\n",
      "  str(classes[c]))\n",
      "C:\\Anaconda3\\lib\\site-packages\\sklearn\\multiclass.py:76: UserWarning: Label not 489 is present in all training examples.\n",
      "  str(classes[c]))\n",
      "C:\\Anaconda3\\lib\\site-packages\\sklearn\\multiclass.py:76: UserWarning: Label not 495 is present in all training examples.\n",
      "  str(classes[c]))\n",
      "C:\\Anaconda3\\lib\\site-packages\\sklearn\\multiclass.py:76: UserWarning: Label not 504 is present in all training examples.\n",
      "  str(classes[c]))\n",
      "C:\\Anaconda3\\lib\\site-packages\\sklearn\\multiclass.py:76: UserWarning: Label not 505 is present in all training examples.\n",
      "  str(classes[c]))\n",
      "C:\\Anaconda3\\lib\\site-packages\\sklearn\\multiclass.py:76: UserWarning: Label not 507 is present in all training examples.\n",
      "  str(classes[c]))\n",
      "C:\\Anaconda3\\lib\\site-packages\\sklearn\\multiclass.py:76: UserWarning: Label not 512 is present in all training examples.\n",
      "  str(classes[c]))\n",
      "C:\\Anaconda3\\lib\\site-packages\\sklearn\\multiclass.py:76: UserWarning: Label not 520 is present in all training examples.\n",
      "  str(classes[c]))\n",
      "C:\\Anaconda3\\lib\\site-packages\\sklearn\\multiclass.py:76: UserWarning: Label not 525 is present in all training examples.\n",
      "  str(classes[c]))\n"
     ]
    },
    {
     "name": "stderr",
     "output_type": "stream",
     "text": [
      "C:\\Anaconda3\\lib\\site-packages\\sklearn\\multiclass.py:76: UserWarning: Label not 527 is present in all training examples.\n",
      "  str(classes[c]))\n",
      "C:\\Anaconda3\\lib\\site-packages\\sklearn\\multiclass.py:76: UserWarning: Label not 546 is present in all training examples.\n",
      "  str(classes[c]))\n",
      "C:\\Anaconda3\\lib\\site-packages\\sklearn\\multiclass.py:76: UserWarning: Label not 579 is present in all training examples.\n",
      "  str(classes[c]))\n",
      "C:\\Anaconda3\\lib\\site-packages\\sklearn\\multiclass.py:76: UserWarning: Label not 589 is present in all training examples.\n",
      "  str(classes[c]))\n",
      "C:\\Anaconda3\\lib\\site-packages\\sklearn\\multiclass.py:76: UserWarning: Label not 601 is present in all training examples.\n",
      "  str(classes[c]))\n",
      "C:\\Anaconda3\\lib\\site-packages\\sklearn\\multiclass.py:76: UserWarning: Label not 613 is present in all training examples.\n",
      "  str(classes[c]))\n",
      "C:\\Anaconda3\\lib\\site-packages\\sklearn\\multiclass.py:76: UserWarning: Label not 615 is present in all training examples.\n",
      "  str(classes[c]))\n"
     ]
    }
   ],
   "source": [
    "classifier_mybag = train_classifier(X_train_mybag, y_train_1)\n",
    "classifier_tfidf = train_classifier(X_train_tfidf, y_train_1)"
   ]
  },
  {
   "cell_type": "code",
   "execution_count": null,
   "metadata": {
    "collapsed": true
   },
   "outputs": [],
   "source": [
    "y_val_predicted_labels_mybag = classifier_mybag.predict(X_val_mybag)\n",
    "y_val_predicted_scores_mybag = classifier_mybag.decision_function(X_val_mybag)\n",
    "\n",
    "y_val_predicted_labels_tfidf = classifier_tfidf.predict(X_val_tfidf)\n",
    "y_val_predicted_scores_tfidf = classifier_tfidf.decision_function(X_val_tfidf)"
   ]
  },
  {
   "cell_type": "code",
   "execution_count": null,
   "metadata": {
    "collapsed": true
   },
   "outputs": [],
   "source": [
    "y_val_pred_inversed = mlb.inverse_transform(y_val_predicted_labels_tfidf)\n",
    "y_val_inversed = mlb.inverse_transform(y_val_1)\n",
    "for i in range(6,12):\n",
    "    print('Title:\\t{}\\nTrue labels:\\t{}\\nPredicted labels:\\t{}\\n\\n'.format(\n",
    "        X_val[i],\n",
    "        ','.join(y_val_inversed[i]),\n",
    "        ','.join(y_val_pred_inversed[i])\n",
    "    ))"
   ]
  },
  {
   "cell_type": "code",
   "execution_count": null,
   "metadata": {
    "collapsed": true
   },
   "outputs": [],
   "source": []
  },
  {
   "cell_type": "code",
   "execution_count": null,
   "metadata": {
    "collapsed": true
   },
   "outputs": [],
   "source": []
  },
  {
   "cell_type": "code",
   "execution_count": null,
   "metadata": {
    "collapsed": true
   },
   "outputs": [],
   "source": []
  },
  {
   "cell_type": "code",
   "execution_count": null,
   "metadata": {
    "collapsed": true
   },
   "outputs": [],
   "source": []
  },
  {
   "cell_type": "code",
   "execution_count": null,
   "metadata": {
    "collapsed": true
   },
   "outputs": [],
   "source": []
  },
  {
   "cell_type": "code",
   "execution_count": null,
   "metadata": {
    "collapsed": true
   },
   "outputs": [],
   "source": []
  },
  {
   "cell_type": "code",
   "execution_count": null,
   "metadata": {
    "collapsed": true
   },
   "outputs": [],
   "source": []
  },
  {
   "cell_type": "code",
   "execution_count": null,
   "metadata": {
    "collapsed": true
   },
   "outputs": [],
   "source": []
  },
  {
   "cell_type": "code",
   "execution_count": null,
   "metadata": {
    "collapsed": true
   },
   "outputs": [],
   "source": []
  },
  {
   "cell_type": "code",
   "execution_count": null,
   "metadata": {
    "collapsed": true
   },
   "outputs": [],
   "source": []
  },
  {
   "cell_type": "code",
   "execution_count": null,
   "metadata": {
    "collapsed": true
   },
   "outputs": [],
   "source": []
  },
  {
   "cell_type": "code",
   "execution_count": null,
   "metadata": {
    "collapsed": true
   },
   "outputs": [],
   "source": []
  },
  {
   "cell_type": "code",
   "execution_count": null,
   "metadata": {
    "collapsed": true
   },
   "outputs": [],
   "source": []
  },
  {
   "cell_type": "code",
   "execution_count": null,
   "metadata": {
    "collapsed": true
   },
   "outputs": [],
   "source": []
  },
  {
   "cell_type": "code",
   "execution_count": null,
   "metadata": {
    "collapsed": true
   },
   "outputs": [],
   "source": []
  },
  {
   "cell_type": "code",
   "execution_count": null,
   "metadata": {
    "collapsed": true
   },
   "outputs": [],
   "source": []
  },
  {
   "cell_type": "code",
   "execution_count": null,
   "metadata": {
    "collapsed": true
   },
   "outputs": [],
   "source": []
  },
  {
   "cell_type": "markdown",
   "metadata": {},
   "source": [
    "### Data Verification (Rough Work)\n",
    "\n"
   ]
  },
  {
   "cell_type": "code",
   "execution_count": 29,
   "metadata": {},
   "outputs": [
    {
     "data": {
      "text/plain": [
       "['yo', 'yo', 'honey', 'signh']"
      ]
     },
     "execution_count": 29,
     "metadata": {},
     "output_type": "execute_result"
    }
   ],
   "source": [
    "re.findall(r\"[\\w']+\", 'yo yo honey signh')"
   ]
  },
  {
   "cell_type": "code",
   "execution_count": 30,
   "metadata": {
    "collapsed": true
   },
   "outputs": [],
   "source": [
    "data = pd.read_csv('./clean_data_full.csv', sep = '\\t')"
   ]
  },
  {
   "cell_type": "code",
   "execution_count": 101,
   "metadata": {},
   "outputs": [
    {
     "data": {
      "text/plain": [
       "594057"
      ]
     },
     "execution_count": 101,
     "metadata": {},
     "output_type": "execute_result"
    }
   ],
   "source": [
    "len(data)"
   ]
  },
  {
   "cell_type": "code",
   "execution_count": 134,
   "metadata": {},
   "outputs": [
    {
     "data": {
      "text/html": [
       "<div>\n",
       "<style scoped>\n",
       "    .dataframe tbody tr th:only-of-type {\n",
       "        vertical-align: middle;\n",
       "    }\n",
       "\n",
       "    .dataframe tbody tr th {\n",
       "        vertical-align: top;\n",
       "    }\n",
       "\n",
       "    .dataframe thead th {\n",
       "        text-align: right;\n",
       "    }\n",
       "</style>\n",
       "<table border=\"1\" class=\"dataframe\">\n",
       "  <thead>\n",
       "    <tr style=\"text-align: right;\">\n",
       "      <th></th>\n",
       "      <th>Unnamed: 0</th>\n",
       "      <th>Id</th>\n",
       "      <th>Tag</th>\n",
       "      <th>combined</th>\n",
       "    </tr>\n",
       "  </thead>\n",
       "  <tbody>\n",
       "    <tr>\n",
       "      <th>0</th>\n",
       "      <td>0</td>\n",
       "      <td>80</td>\n",
       "      <td>flex actionscript-3 air</td>\n",
       "      <td>SQLStatement.execute() - multiple queries one ...</td>\n",
       "    </tr>\n",
       "    <tr>\n",
       "      <th>1</th>\n",
       "      <td>1</td>\n",
       "      <td>90</td>\n",
       "      <td>svn tortoisesvn branch branching-and-merging</td>\n",
       "      <td>Good branching merging tutorials TortoiseSVN? ...</td>\n",
       "    </tr>\n",
       "    <tr>\n",
       "      <th>2</th>\n",
       "      <td>2</td>\n",
       "      <td>120</td>\n",
       "      <td>sql asp.net sitemap</td>\n",
       "      <td>ASP.NET Site Maps Has anyone got experience cr...</td>\n",
       "    </tr>\n",
       "    <tr>\n",
       "      <th>3</th>\n",
       "      <td>3</td>\n",
       "      <td>180</td>\n",
       "      <td>algorithm language-agnostic colors color-space</td>\n",
       "      <td>Function creating color wheels This something ...</td>\n",
       "    </tr>\n",
       "    <tr>\n",
       "      <th>4</th>\n",
       "      <td>4</td>\n",
       "      <td>260</td>\n",
       "      <td>c# .net scripting compiler-construction</td>\n",
       "      <td>Adding scripting functionality .NET applicatio...</td>\n",
       "    </tr>\n",
       "  </tbody>\n",
       "</table>\n",
       "</div>"
      ],
      "text/plain": [
       "   Unnamed: 0   Id                                             Tag  \\\n",
       "0           0   80                         flex actionscript-3 air   \n",
       "1           1   90    svn tortoisesvn branch branching-and-merging   \n",
       "2           2  120                             sql asp.net sitemap   \n",
       "3           3  180  algorithm language-agnostic colors color-space   \n",
       "4           4  260         c# .net scripting compiler-construction   \n",
       "\n",
       "                                            combined  \n",
       "0  SQLStatement.execute() - multiple queries one ...  \n",
       "1  Good branching merging tutorials TortoiseSVN? ...  \n",
       "2  ASP.NET Site Maps Has anyone got experience cr...  \n",
       "3  Function creating color wheels This something ...  \n",
       "4  Adding scripting functionality .NET applicatio...  "
      ]
     },
     "execution_count": 134,
     "metadata": {},
     "output_type": "execute_result"
    }
   ],
   "source": [
    "data.head()"
   ]
  },
  {
   "cell_type": "code",
   "execution_count": 64,
   "metadata": {
    "collapsed": true
   },
   "outputs": [],
   "source": [
    "x = ['agg', 'afaef', 'agaga']"
   ]
  },
  {
   "cell_type": "code",
   "execution_count": 68,
   "metadata": {},
   "outputs": [
    {
     "data": {
      "text/plain": [
       "['agg', 'afaef', 'agaga', 'khgb']"
      ]
     },
     "execution_count": 68,
     "metadata": {},
     "output_type": "execute_result"
    }
   ],
   "source": [
    "x + ['khgb']"
   ]
  },
  {
   "cell_type": "code",
   "execution_count": 135,
   "metadata": {},
   "outputs": [
    {
     "data": {
      "text/plain": [
       "[[['SQLStatement execute',\n",
       "   'multiple',\n",
       "   'queries',\n",
       "   'one',\n",
       "   'statement',\n",
       "   'written',\n",
       "   'database',\n",
       "   'generation',\n",
       "   'script',\n",
       "   'want',\n",
       "   'execute',\n",
       "   'application:',\n",
       "   'Create',\n",
       "   'Table',\n",
       "   'tRole',\n",
       "   'roleID',\n",
       "   'integer',\n",
       "   'Primary',\n",
       "   'Key',\n",
       "   'roleName',\n",
       "   'varchar40',\n",
       "   'Create',\n",
       "   'Table',\n",
       "   'tFile',\n",
       "   'fileID',\n",
       "   'integer',\n",
       "   'Primary',\n",
       "   'Key',\n",
       "   'fileName',\n",
       "   'varchar50',\n",
       "   'fileDescription',\n",
       "   'varchar500',\n",
       "   'thumbnailID',\n",
       "   'integer',\n",
       "   'fileFormatID',\n",
       "   'integer',\n",
       "   'categoryID',\n",
       "   'integer',\n",
       "   'isFavorite',\n",
       "   'boolean',\n",
       "   'dateAdded',\n",
       "   'date',\n",
       "   'globalAccessCount',\n",
       "   'integer',\n",
       "   'lastAccessTime',\n",
       "   'date',\n",
       "   'downloadComplete',\n",
       "   'boolean',\n",
       "   'isNew',\n",
       "   'boolean',\n",
       "   'isSpotlight',\n",
       "   'boolean',\n",
       "   'duration',\n",
       "   'varchar30',\n",
       "   'Create',\n",
       "   'Table',\n",
       "   'tCategory',\n",
       "   'categoryID',\n",
       "   'integer',\n",
       "   'Primary',\n",
       "   'Key',\n",
       "   'categoryName',\n",
       "   'varchar50',\n",
       "   'parent categoryID',\n",
       "   'integer',\n",
       "   'execute',\n",
       "   'Adobe',\n",
       "   'AIR',\n",
       "   'using',\n",
       "   'following',\n",
       "   'methods:',\n",
       "   'public',\n",
       "   'static',\n",
       "   'function',\n",
       "   'RunSqlFromFilefileName:String:void',\n",
       "   'var',\n",
       "   'file:File',\n",
       "   'File',\n",
       "   'applicationDirectory',\n",
       "   'resolvePathfileName',\n",
       "   'var',\n",
       "   'stream:FileStream',\n",
       "   'new',\n",
       "   'FileStream',\n",
       "   'stream',\n",
       "   'openfile',\n",
       "   'FileMode',\n",
       "   'READ',\n",
       "   'var',\n",
       "   'strSql:String',\n",
       "   'stream',\n",
       "   'readUTFBytesstream',\n",
       "   'bytesAvailable',\n",
       "   'NonQuerystrSql',\n",
       "   'public',\n",
       "   'static',\n",
       "   'function',\n",
       "   'NonQuerystrSQL:String:void',\n",
       "   'var',\n",
       "   'sqlConnection:SQLConnection',\n",
       "   'new',\n",
       "   'SQLConnection',\n",
       "   'sqlConnection',\n",
       "   'openFile',\n",
       "   'applicationStorageDirectory',\n",
       "   'resolvePathDBPATH',\n",
       "   'var',\n",
       "   'sqlStatement:SQLStatement',\n",
       "   'new',\n",
       "   'SQLStatement',\n",
       "   'sqlStatement',\n",
       "   'text',\n",
       "   'strSQL',\n",
       "   'sqlStatement',\n",
       "   'sqlConnection',\n",
       "   'sqlConnection',\n",
       "   'try',\n",
       "   'sqlStatement',\n",
       "   'execute',\n",
       "   'catch',\n",
       "   'error:SQLError',\n",
       "   'Alert',\n",
       "   'showerror',\n",
       "   'toString',\n",
       "   'errors',\n",
       "   'generated',\n",
       "   'however',\n",
       "   'exists',\n",
       "   'seems',\n",
       "   'looks',\n",
       "   'first',\n",
       "   'query',\n",
       "   'up',\n",
       "   'semicolon',\n",
       "   'remove',\n",
       "   'query',\n",
       "   'fails',\n",
       "   'way',\n",
       "   'call',\n",
       "   'multiple',\n",
       "   'queries',\n",
       "   'one',\n",
       "   'statement'],\n",
       "  ['80', 'flex', 'actionscript-3', 'air']],\n",
       " [['Good',\n",
       "   'branching',\n",
       "   'merging',\n",
       "   'tutorials',\n",
       "   'TortoiseSVN?',\n",
       "   'Are',\n",
       "   'really',\n",
       "   'good',\n",
       "   'tutorials',\n",
       "   'explaining',\n",
       "   'Apache',\n",
       "   'Subversion',\n",
       "   'All',\n",
       "   'better',\n",
       "   \"it's\",\n",
       "   'specific',\n",
       "   'TortoiseSVN',\n",
       "   'client'],\n",
       "  ['90', 'svn', 'tortoisesvn', 'branch', 'branching-and-merging']],\n",
       " [['ASP NET',\n",
       "   'Site',\n",
       "   'Maps',\n",
       "   'Has',\n",
       "   'anyone',\n",
       "   'got',\n",
       "   'experience',\n",
       "   'creating',\n",
       "   'sitemap',\n",
       "   'providers',\n",
       "   'got',\n",
       "   'default',\n",
       "   'XML',\n",
       "   'file',\n",
       "   'working',\n",
       "   'properly',\n",
       "   'Menu',\n",
       "   'controls',\n",
       "   \"I'll\",\n",
       "   'need',\n",
       "   'way',\n",
       "   'users',\n",
       "   'site',\n",
       "   'create',\n",
       "   'modify',\n",
       "   'pages',\n",
       "   'dynamically',\n",
       "   'need',\n",
       "   'tie',\n",
       "   'page',\n",
       "   'viewing',\n",
       "   'permissions',\n",
       "   'standard',\n",
       "   'membership',\n",
       "   'system',\n",
       "   'well'],\n",
       "  ['120', 'sql', 'asp.net', 'sitemap']],\n",
       " [['Function',\n",
       "   'creating',\n",
       "   'color',\n",
       "   'wheels',\n",
       "   'This',\n",
       "   'something',\n",
       "   'pseudosolved',\n",
       "   'many',\n",
       "   'times',\n",
       "   'never',\n",
       "   'quite',\n",
       "   'found',\n",
       "   'solution',\n",
       "   \"That's\",\n",
       "   'stuck',\n",
       "   'The',\n",
       "   'problem',\n",
       "   'come',\n",
       "   'way',\n",
       "   'generate',\n",
       "   'colors',\n",
       "   'distinguishable',\n",
       "   'possible',\n",
       "   'parameter'],\n",
       "  ['180', 'algorithm', 'language-agnostic', 'colors', 'color-space']],\n",
       " [['Adding',\n",
       "   'scripting',\n",
       "   'functionality',\n",
       "   ' NET',\n",
       "   'applications',\n",
       "   'little',\n",
       "   'game',\n",
       "   'written',\n",
       "   'uses',\n",
       "   'database',\n",
       "   'backend',\n",
       "   \"It's\",\n",
       "   'trading',\n",
       "   'card',\n",
       "   'game',\n",
       "   'wanted',\n",
       "   'implement',\n",
       "   'function',\n",
       "   'cards',\n",
       "   'script',\n",
       "   'What',\n",
       "   'mean',\n",
       "   'essentially',\n",
       "   'interface',\n",
       "   'ICard',\n",
       "   'card',\n",
       "   'class',\n",
       "   'implements',\n",
       "   'public',\n",
       "   'class',\n",
       "   'Card056',\n",
       "   'ICard',\n",
       "   'contains',\n",
       "   'function',\n",
       "   'called',\n",
       "   'game',\n",
       "   'Now',\n",
       "   'make',\n",
       "   'thing',\n",
       "   'maintainable/moddable',\n",
       "   'would',\n",
       "   'like',\n",
       "   'class',\n",
       "   'card',\n",
       "   'source',\n",
       "   'code',\n",
       "   'database',\n",
       "   'essentially',\n",
       "   'compile',\n",
       "   'first',\n",
       "   'use',\n",
       "   'add/change',\n",
       "   'card',\n",
       "   \"I'll\",\n",
       "   'add',\n",
       "   'database',\n",
       "   'tell',\n",
       "   'application',\n",
       "   'refresh',\n",
       "   'without',\n",
       "   'needing',\n",
       "   'assembly',\n",
       "   'deployment',\n",
       "   'especially',\n",
       "   'since',\n",
       "   'would',\n",
       "   'talking',\n",
       "   'assembly',\n",
       "   'per',\n",
       "   'card',\n",
       "   'means',\n",
       "   'hundreds',\n",
       "   'assemblies',\n",
       "   'possible',\n",
       "   'Register',\n",
       "   'class',\n",
       "   'source',\n",
       "   'file',\n",
       "   'instantiate',\n",
       "   'etc',\n",
       "   'ICard',\n",
       "   'Cards[current]',\n",
       "   'new',\n",
       "   'MyGame',\n",
       "   'CardLibrary',\n",
       "   'Card056',\n",
       "   'Cards[current]',\n",
       "   'OnEnterPlayref',\n",
       "   'currentGameState',\n",
       "   'The',\n",
       "   'language',\n",
       "   'extra',\n",
       "   'bonus',\n",
       "   \"it's\",\n",
       "   'possible',\n",
       "   'write',\n",
       "   'script',\n",
       "   'NET',\n",
       "   'language'],\n",
       "  ['260', 'c#', '.net', 'scripting', 'compiler-construction']],\n",
       " [['Should',\n",
       "   'use',\n",
       "   'nested',\n",
       "   'classes',\n",
       "   'case?',\n",
       "   'working',\n",
       "   'collection',\n",
       "   'classes',\n",
       "   'used',\n",
       "   'video',\n",
       "   'playback',\n",
       "   'recording',\n",
       "   'one',\n",
       "   'main',\n",
       "   'class',\n",
       "   'acts',\n",
       "   'like',\n",
       "   'public',\n",
       "   'interface',\n",
       "   'methods',\n",
       "   'like',\n",
       "   'etc',\n",
       "   'Then',\n",
       "   'workhorse',\n",
       "   'classes',\n",
       "   'video',\n",
       "   'decoding',\n",
       "   'video',\n",
       "   'encoding',\n",
       "   'learned',\n",
       "   'existence',\n",
       "   'nested',\n",
       "   'classes',\n",
       "   'C++',\n",
       "   'curious',\n",
       "   'know',\n",
       "   'programmers',\n",
       "   'think',\n",
       "   'using',\n",
       "   'little',\n",
       "   'wary',\n",
       "   'really',\n",
       "   'sure',\n",
       "   'benefits/drawbacks',\n",
       "   'seem',\n",
       "   'according',\n",
       "   'book',\n",
       "   'reading',\n",
       "   'used',\n",
       "   'cases',\n",
       "   'mine',\n",
       "   'The',\n",
       "   'book',\n",
       "   'suggests',\n",
       "   'scenario',\n",
       "   'like',\n",
       "   'mine',\n",
       "   'good',\n",
       "   'solution',\n",
       "   'would',\n",
       "   'nest',\n",
       "   'workhorse',\n",
       "   'classes',\n",
       "   'inside',\n",
       "   'interface',\n",
       "   'class',\n",
       "   'separate',\n",
       "   'files',\n",
       "   'classes',\n",
       "   'client',\n",
       "   'meant',\n",
       "   'use',\n",
       "   'avoid',\n",
       "   'possible',\n",
       "   'naming',\n",
       "   'conflicts',\n",
       "   \"don't\",\n",
       "   'know',\n",
       "   'justifications',\n",
       "   'Nested',\n",
       "   'classes',\n",
       "   'new',\n",
       "   'concept',\n",
       "   'Just',\n",
       "   'want',\n",
       "   'see',\n",
       "   'programmers',\n",
       "   'think',\n",
       "   'issue'],\n",
       "  ['330', 'c++', 'oop', 'class', 'nested-class']],\n",
       " [['Homegrown',\n",
       "   'consumption',\n",
       "   'web',\n",
       "   'services',\n",
       "   'writing',\n",
       "   'web',\n",
       "   'services',\n",
       "   'net',\n",
       "   'app',\n",
       "   'ready',\n",
       "   'consume',\n",
       "   'seen',\n",
       "   'numerous',\n",
       "   'examples',\n",
       "   'homegrown',\n",
       "   'code',\n",
       "   'consuming',\n",
       "   'service',\n",
       "   'opposed',\n",
       "   'using',\n",
       "   'auto',\n",
       "   'generated',\n",
       "   'methods',\n",
       "   'Visual',\n",
       "   'Studio',\n",
       "   'creates',\n",
       "   'adding',\n",
       "   'web',\n",
       "   'reference',\n",
       "   'advantage'],\n",
       "  ['470', '.net', 'web-services']],\n",
       " [['Deploying',\n",
       "   'SQL',\n",
       "   'Server',\n",
       "   'Databases',\n",
       "   'Test',\n",
       "   'Live',\n",
       "   'wonder',\n",
       "   'guys',\n",
       "   'manage',\n",
       "   'deployment',\n",
       "   'database',\n",
       "   'SQL',\n",
       "   'Servers',\n",
       "   'specifically',\n",
       "   'SQL',\n",
       "   'Server',\n",
       "   '2005',\n",
       "   'Now',\n",
       "   'development',\n",
       "   'live',\n",
       "   'one',\n",
       "   'part',\n",
       "   'buildscript',\n",
       "   'standard',\n",
       "   'windows',\n",
       "   'batch',\n",
       "   'even',\n",
       "   'current',\n",
       "   'complexity',\n",
       "   'scripts',\n",
       "   'might',\n",
       "   'switch',\n",
       "   'PowerShell',\n",
       "   'later',\n",
       "   'Enterprise',\n",
       "   'Manager/Management',\n",
       "   'Studio',\n",
       "   'Express',\n",
       "   'count',\n",
       "   'Would',\n",
       "   'copy',\n",
       "   'mdf',\n",
       "   'File',\n",
       "   'attach',\n",
       "   'always',\n",
       "   'bit',\n",
       "   'careful',\n",
       "   'working',\n",
       "   'binary',\n",
       "   'data',\n",
       "   'seems',\n",
       "   'compatiblity',\n",
       "   'issue',\n",
       "   'even',\n",
       "   'though',\n",
       "   'development',\n",
       "   'live',\n",
       "   'run',\n",
       "   'version',\n",
       "   'server',\n",
       "   'time',\n",
       "   'given',\n",
       "   'lack',\n",
       "   '\"EXPLAIN',\n",
       "   'CREATE',\n",
       "   'TABLE\"',\n",
       "   'TSQL',\n",
       "   'something',\n",
       "   'exports',\n",
       "   'existing',\n",
       "   'database',\n",
       "   'SQLScripts',\n",
       "   'run',\n",
       "   'target',\n",
       "   'server',\n",
       "   'yes',\n",
       "   'tool',\n",
       "   'automatically',\n",
       "   'dump',\n",
       "   'given',\n",
       "   'Database',\n",
       "   'SQL',\n",
       "   'Queries',\n",
       "   'runs',\n",
       "   'command',\n",
       "   'line',\n",
       "   'Again',\n",
       "   'Enterprise',\n",
       "   'Manager/Management',\n",
       "   'Studio',\n",
       "   'Express',\n",
       "   'count',\n",
       "   'And',\n",
       "   'lastly',\n",
       "   'given',\n",
       "   'fact',\n",
       "   'live',\n",
       "   'database',\n",
       "   'already',\n",
       "   'contains',\n",
       "   'data',\n",
       "   'deployment',\n",
       "   'may',\n",
       "   'involve',\n",
       "   'creating',\n",
       "   'tables',\n",
       "   'rather',\n",
       "   'checking',\n",
       "   'difference',\n",
       "   'structure',\n",
       "   'ALTER',\n",
       "   'TABLE',\n",
       "   'live',\n",
       "   'ones',\n",
       "   'instead',\n",
       "   'may',\n",
       "   'also',\n",
       "   'need',\n",
       "   'data',\n",
       "   'verification/conversion',\n",
       "   'existing',\n",
       "   'fields',\n",
       "   'change',\n",
       "   'Now',\n",
       "   'hear',\n",
       "   'lot',\n",
       "   'great',\n",
       "   'stuff',\n",
       "   'products',\n",
       "   'hobby',\n",
       "   'projects',\n",
       "   'price',\n",
       "   'bit',\n",
       "   'steep',\n",
       "   'using',\n",
       "   'automatically',\n",
       "   'deploy',\n",
       "   'SQL',\n",
       "   'Server',\n",
       "   'Databases',\n",
       "   'Test',\n",
       "   'Live'],\n",
       "  ['580',\n",
       "   'sql-server',\n",
       "   'sql-server-2005',\n",
       "   'deployment',\n",
       "   'release-management']],\n",
       " [['Automatically',\n",
       "   'update',\n",
       "   'version',\n",
       "   'number',\n",
       "   'would',\n",
       "   'like',\n",
       "   'version',\n",
       "   'property',\n",
       "   'application',\n",
       "   'incremented',\n",
       "   'build',\n",
       "   'sure',\n",
       "   'enable',\n",
       "   'functionality',\n",
       "   'Visual',\n",
       "   'Studio',\n",
       "   '2005/2008',\n",
       "   'tried',\n",
       "   'specify',\n",
       "   'AssemblyVersion',\n",
       "   \"doesn't\",\n",
       "   'get',\n",
       "   'exactly',\n",
       "   'want',\n",
       "   'also',\n",
       "   'using',\n",
       "   'settings',\n",
       "   'file',\n",
       "   'earlier',\n",
       "   'attempts',\n",
       "   'assembly',\n",
       "   'version',\n",
       "   'changed',\n",
       "   'settings',\n",
       "   'got',\n",
       "   'reset',\n",
       "   'default',\n",
       "   'since',\n",
       "   'application',\n",
       "   'looked',\n",
       "   'settings',\n",
       "   'file',\n",
       "   'another',\n",
       "   'directory',\n",
       "   'would',\n",
       "   'like',\n",
       "   'able',\n",
       "   'display',\n",
       "   'version',\n",
       "   'number',\n",
       "   'form',\n",
       "   'user',\n",
       "   'finds',\n",
       "   'problem',\n",
       "   'log',\n",
       "   'version',\n",
       "   'using',\n",
       "   'well',\n",
       "   'tell',\n",
       "   'upgrade',\n",
       "   'old',\n",
       "   'release',\n",
       "   'short',\n",
       "   'explanation',\n",
       "   'versioning',\n",
       "   'works',\n",
       "   'would',\n",
       "   'also',\n",
       "   'appreciated',\n",
       "   'When',\n",
       "   'build',\n",
       "   'revision',\n",
       "   'number',\n",
       "   'get',\n",
       "   'incremented'],\n",
       "  ['650', 'c#', 'visual-studio', 'versioning']],\n",
       " [['Visual',\n",
       "   'Studio',\n",
       "   'Setup',\n",
       "   'Project',\n",
       "   'Per',\n",
       "   'User',\n",
       "   'Registry',\n",
       "   'Settings',\n",
       "   'trying',\n",
       "   'maintain',\n",
       "   'Setup',\n",
       "   'Project',\n",
       "   'yes',\n",
       "   \"it's\",\n",
       "   'legacy',\n",
       "   'application',\n",
       "   'The',\n",
       "   'problem',\n",
       "   'moment',\n",
       "   'need',\n",
       "   'write',\n",
       "   'registry',\n",
       "   'entries',\n",
       "   'every',\n",
       "   'user',\n",
       "   'computer',\n",
       "   'They',\n",
       "   'need',\n",
       "   'rather',\n",
       "   'default',\n",
       "   'user',\n",
       "   'settings',\n",
       "   'change',\n",
       "   'per',\n",
       "   'user',\n",
       "   'feeling',\n",
       "   'This',\n",
       "   \"isn't\",\n",
       "   'possible',\n",
       "   'This',\n",
       "   \"isn't\",\n",
       "   'something',\n",
       "   'installer',\n",
       "   'something',\n",
       "   'application',\n",
       "   'after',\n",
       "   'happens',\n",
       "   'user',\n",
       "   'profile',\n",
       "   'created',\n",
       "   'install',\n",
       "   'With',\n",
       "   'mind',\n",
       "   'still',\n",
       "   'want',\n",
       "   'change',\n",
       "   'little',\n",
       "   'possible',\n",
       "   'application',\n",
       "   'question',\n",
       "   'setup',\n",
       "   'project',\n",
       "   'And',\n",
       "   'moment',\n",
       "   'project',\n",
       "   'lists',\n",
       "   'five',\n",
       "   'registry',\n",
       "   'root',\n",
       "   'keys',\n",
       "   'HKEY CLASSES ROOT',\n",
       "   'HKEY CURRENT USER',\n",
       "   'HKEY LOCAL MACHINE',\n",
       "   'HKEY USERS',\n",
       "   'User/Machine',\n",
       "   'Hive',\n",
       "   \"don't\",\n",
       "   'really',\n",
       "   'know',\n",
       "   'anything',\n",
       "   'Users',\n",
       "   'root',\n",
       "   'key',\n",
       "   \"haven't\",\n",
       "   'seen',\n",
       "   'User/Machine',\n",
       "   'Hive',\n",
       "   'Can',\n",
       "   'anyone',\n",
       "   'enlighten',\n",
       "   'Perhaps',\n",
       "   'could',\n",
       "   'solve',\n",
       "   'problem'],\n",
       "  ['810', 'windows', 'visual-studio', 'registry', 'installation']]]"
      ]
     },
     "execution_count": 135,
     "metadata": {},
     "output_type": "execute_result"
    }
   ],
   "source": [
    "sentences= []\n",
    "for elem in data.head(10).iterrows():\n",
    "    tup = elem[1]\n",
    "    x = [str(tup['Id'])]\n",
    "    y = tup['Tag'].split(\" \")\n",
    "    tags = x + y\n",
    "    a = str(tup['combined']).split(' ')\n",
    "    t = [x.replace('}', '').replace('(', '').replace('.', ' ').replace(')', '').replace('{', '').replace(';', '').replace('-', '').replace('_', ' ') for x in a if(x != '' and len(x) > 2)]\n",
    "    sentences.append([t, tags])\n",
    "    \n",
    "sentences"
   ]
  },
  {
   "cell_type": "code",
   "execution_count": 27,
   "metadata": {},
   "outputs": [
    {
     "name": "stdout",
     "output_type": "stream",
     "text": [
      "flex actionscript-3 air\n",
      "svn tortoisesvn branch branching-and-merging\n",
      "sql asp.net sitemap\n",
      "algorithm language-agnostic colors color-space\n",
      "c# .net scripting compiler-construction\n"
     ]
    }
   ],
   "source": [
    "for elem in data.head().iterrows():\n",
    "    tup = elem[1]\n",
    "    print(tup['Tag'])"
   ]
  },
  {
   "cell_type": "code",
   "execution_count": null,
   "metadata": {
    "collapsed": true
   },
   "outputs": [],
   "source": [
    "for elem in data.head().iterrows():\n",
    "    tup = elem[1]\n",
    "    print(tup['Id'])"
   ]
  },
  {
   "cell_type": "code",
   "execution_count": 87,
   "metadata": {},
   "outputs": [
    {
     "name": "stdout",
     "output_type": "stream",
     "text": [
      "['flex', 'actionscript-3', 'air', 'SQLStatement.execute()', '-', 'multiple', 'queries', 'one', 'statement', 'integer']\n",
      "['svn', 'tortoisesvn', 'branch', 'branching-and-merging', 'Good', 'branching', 'merging', 'tutorials', 'TortoiseSVN?', 'TortoiseSVN', 'explaining', 'Subversion', 'tutorials', 'specific', 'really', 'Apache', 'better', 'client', 'good', \"it's\", 'Are', 'All']\n",
      "['sql', 'asp.net', 'sitemap', 'ASP.NET', 'Site', 'Maps', 'dynamically', 'permissions', 'experience', 'membership', 'providers', 'creating', 'site-map', 'properly', 'controls', 'need', 'standard', 'default', 'working', 'viewing', 'anyone', 'got', 'create', 'modify', 'system', 'users', 'pages', \"I've\", 'file', 'Menu', \"I'll\", 'site', 'page', 'well', 'Has', 'XML', 'way', 'tie']\n",
      "['algorithm', 'language-agnostic', 'colors', 'color-space', 'Function', 'creating', 'color', 'wheels', 'distinguishable', 'pseudo-solved', 'something', 'parameter', 'solution', 'generate', 'possible', 'problem', \"That's\", 'colors']\n",
      "['c#', '.net', 'scripting', 'compiler-construction', 'Adding', 'scripting', 'functionality', '.NET', 'applications', 'Cards[current]', 'database', 'essentially', 'maintainable/moddable', 'card', 'class']\n",
      "['c++', 'oop', 'class', 'nested-class', 'Should', 'I', 'use', 'nested', 'classes', 'case?', 'classes']\n",
      "['.net', 'web-services', 'Homegrown', 'consumption', 'web', 'services', 'homegrown', 'consuming', 'generated', 'reference', 'advantage', \"I've\", 'services', 'numerous', 'examples', 'writing', 'consume', 'service', 'opposed', 'methods', 'creates', 'web', 'Visual', 'Studio', 'adding', 'ready', 'using', 'seen', 'code', 'auto', 'net', 'app', \"I'm\"]\n",
      "['sql-server', 'sql-server-2005', 'deployment', 'release-management', 'Deploying', 'SQL', 'Server', 'Databases', 'Test', 'Live', 'Manager/Management']\n",
      "['c#', 'visual-studio', 'versioning', 'Automatically', 'update', 'version', 'number', 'version', 'settings', 'application', 'incremented']\n",
      "['c#', 'database', 'loops', 'connection', 'How', 'I', 'connect', 'database', 'loop', 'recordset', 'C#?', 'simplest', 'database', 'connect', 'records', \"What's\", 'query', 'way', 'set']\n",
      "['c#', 'asp.net', 'How', 'get', 'value', 'built,', 'encoded', 'ViewState?', 'ViewState', 'value=\"/wEPDwUJODU0Njc5MD', '\"/wEPDwUJODU0Njc5MD', 'name=\"__VIEWSTATE\"']\n",
      "['c#', 'file-locking', 'How', 'I', 'delete', 'file', 'locked', 'another', 'process', 'C#?', 'process', 'delete', 'file']\n",
      "['unix', 'size', 'Process', 'size', 'UNIX', 'something', 'correct', 'process', 'What', 'size', 'else', 'way', 'get', '']\n",
      "['svn', 'msbuild', 'cruisecontrol.net', 'Use', 'SVN', 'Revision', 'label', 'build', 'CCNET', 'CCNET', 'revision', 'MSBuild', 'source', 'latest', 'AssemblyInfo']\n",
      "['web-applications', 'dns', 'subdomain', 'account', 'How', 'make', 'subdomain', 'user', 'accounts', 'webapp', 'subdomain', 'customusername', 'dynamically', 'allow', 'available', 'instantly', 'recommend']\n",
      "['.net', '.net-3.5', 'msbuild', 'nant', 'Is', 'nAnt', 'still', 'supported', 'suitable', '.net', '3.5/VS2008?', 'MSBuild', 'nAnt', 'CruiseControl', 'configuration', 'uncomfortable']\n",
      "['sql-server', 'windows-server-2008', 'Is', 'Windows', 'Server', '2008', '\"Server', 'Core\"', 'appropriate', 'SQL', 'Server', 'instance?', 'Server']\n",
      "['sql-server', 'sql-server-2008', 'What', 'best', 'way', 'copy', 'database?', 'database', 'complicated', 'existing', 'restore']\n",
      "['sql-server', 'Can', 'I', 'logically', 'reorder', 'columns', 'table?', 'columns', 'Management', 'logically', 'column', 'SQL', 'Server', 'like', 'Studio']\n",
      "['c#', '.net', 'unit-testing', 'testing', '.NET', 'Unit', 'Testing', 'packages?', 'Suggestions', 'few-years', 'full-time', 'wondering', 'something', 'packages', 'familiar', 'IronRuby', 'informed', 'response', 'question', 'Getting', 'testing', 'briefly', 'getting', 'realize', 'believe', \"I'm\", 'played', 'around', 'beyond', 'google', 'likely', 'better', 'asking', 'using', 'NUnit', 'years', 'rspec', 'going', \"don't\", 'could', 'back', 'good', 'unit', 'days', 'ago)', 'goal', 'like', 'know', 'much', 'call', 'bit', 'NET', 'I', 'day', 'get', ':-)']\n",
      "['svn', 'version-control', 'Federated', '(Synced)', 'Subversion', 'servers?', 'location', 'repository']\n",
      "['sql', 'sql-server', 'Convert', 'HashBytes', 'VarChar', '68E109F0F40CA72A15E05CC22786F8E6']\n",
      "['c#', 'dataset', 'datatable', 'Datatable', 'vs', 'Dataset', 'results', 'method', 'collections', 'performance', 'using', 'DataTables', 'currently', 'DataTable', 'accessing', 'advantage', 'otherwise', 'database', 'table(s)', 'DataSets', 'However', 'example', 'DataSet', 'instead', 'storage', 'use']\n",
      "['html', 'autocomplete', 'How', 'disable', 'browser', 'Autocomplete', 'web', 'form', 'field', '/', 'input', 'tag?', 'browsers', 'specific', 'disable', 'field)', 'major', 'form', 'How', '(or', '']\n",
      "['c', 'architecture', 'data-structures', 'Good', 'STL-like', 'library', 'C', 'platform-independent', 'datastructures']\n",
      "['asp.net', 'flash', 'video', 'embed', 'What', 'effective', 'options', 'embedding', 'video', 'ASP.NET', 'web', 'site?', 'choice', 'present-day', 'embedding', 'effective', 'influence', 'internet', 'indicate', 'accurate', 'platform', 'decision', 'obvious', 'choices', 'glance', 'quick', 'would', 'Adobe', 'Flash', 'video', 'seem', 'page', 'Does', 'web', 'ASP', 'NET']\n",
      "['powershell', 'cmdlets', 'What', 'favorite', 'Powershell', 'Cmdlets?', 'functionality', 'Powershell', 'NetCmdlets', 'softwares', 'question', 'favorite', 'playing', 'command', 'Cmdlets', 'raises', 'found', 'bring', 'free', 'love', 'line']\n",
      "['winforms', 'error-handling', 'user-controls', 'Global', 'Exception', 'Handling', 'winforms', 'control', 'control', 'catch', 'exceptions', 'something', 'projects', 'working', 'looking', 'similar', 'Windows', 'always', 'Global', 'errors', 'way', 'hosted', 'proper', 'Forms']\n",
      "['c#', 'colors', 'Converting', 'ARBG', 'RGB', 'alpha', 'blending', 'Color']\n",
      "['sql', 'sql-server-2005', 'paging', 'Paging', 'SQL', 'Server', '2005', 'Results', 'Server', 'records', 'appreciated', 'SQL', 'wondering']\n",
      "['php', 'mysql', 'MySQL/Apache', 'Error', 'PHP', 'MySQL', 'query', '\\'\"&gt;Delete&lt;/a&gt;&lt;/span&gt;\\';']\n",
      "['security', 'cracking', 'hijacked', 'My', 'website', 'got', 'hacked...', 'What', 'I', 'do?', 'password', 'commented', 'hacked']\n",
      "['c++', 'visual-studio', 'unit-testing', 'testing', 'How', 'set', 'unit', 'testing', 'Visual', 'Studio', 'C++', 'testing', 'appreciated', 'presumably', 'framework', 'tutorials', 'figuring', 'built-in', 'trouble', 'usable', 'Visual', 'Studio', 'suite', 'links', 'would']\n",
      "['fogbugz', 'Anyone', 'soloing', 'using', 'fogbugz?', 'experience/overhead', 'stackoverflow', 'interested', 'experience']\n",
      "['c++', 'visual-studio', 'How', 'pack', 'visual', 'studio', 'c++', 'project', 'release?', 'non-development', 'redistributable', 'machine', 'configuration', 'application', 'wondering', 'necessary', 'microsoft', 'reinstall', 'includes', 'release', 'program', 'without', 'install', 'Without', 'message', 'correct', 'target']\n",
      "['algorithm', 'language-agnostic', 'Peak', 'detection', 'measured', 'signal', 'peak', 'readings', 'value']\n",
      "['sql-server', 'full-text-search', 'How', 'get', 'leading', 'wildcard', 'full-text', 'searches', 'work', 'SQL', 'Server?', 'using', 'CONTAINS(TextColumn', 'search', '\"(asterisk)value\"', '\\'\"*searchterm\"\\');', '\"stackoverflow\")', 'matching', 'match', 'clauses', 'capabilities', 'Sixpack-type', '\"*overflow\"', 'considering', 'experience:', 'complicated']\n",
      "['sql-server', 'sql-server-2005', 'How', 'I', 'Transform', 'Sql', 'Columns', 'Rows?', 'columns', 'solution', 'creating', 'table', 'Value', 'Column1', 'Column2', 'Column3', 'example', 'simple', 'rows']\n",
      "['math', 'What', 'term', '\"BODMAS\"', 'mean?', 'programming', 'BODMAS', 'useful', 'What']\n",
      "['ruby', 'rake', 'command-line-interface', 'How', 'I', 'run', 'Rake', 'tasks', 'within', 'Ruby', 'script?', '(backticks)', 'blog:post', 'Rake', 'task', 'normally', 'multiple', 'solution', 'shelling', 'command', 'script', 'system', \"What's\", 'would', 'line:', 'Title', 'write', 'calls', 'times', 'using', 'right', 'call', 'rake', 'like', 'Ruby', 'I', \"I'd\", 'see', 'way']\n",
      "['java', 'code-coverage', 'static-analysis', 'What', 'code', 'analysis', 'tools', 'use', 'Java', 'projects?', 'tools']\n",
      "['asp.net', 'The', 'Difference', 'Between', 'DataGrid', 'GridView', 'ASP.NET?', 'controls', 'difference', 'available', 'DataGrid']\n",
      "['php', 'web-services', 'visual-studio', 'wsdl', 'How', 'easily', 'consume', 'web', 'service', 'PHP', 'comparable', 'Reference\"', 'available', 'consuming', 'Something', 'generate', 'clicking', 'Eclipse', 'Visual', 'Studio', 'plugin', 'based', 'thing', 'tool', 'used', 'code', 'WSDL', '\"Add', 'Java', 'PHP', 'Web']\n",
      "['c#', '.net', 'How', 'I', 'create', 'Prototype', 'Methods', '(like', 'JavaScript)', 'C#.Net?', 'replace(/^\\\\s+|\\\\s+$/g', 'prototype']\n",
      "['version-control', 'dvcs', 'DVCS', 'Choices', '-', \"What's\", 'good', 'Windows?', 'recommendations', 'Windows', 'support', 'multiplatform', 'bazaar', 'instructions', 'distributed', 'experience', 'mercurial', '\"install', 'explicit', 'possible', 'project', 'version', 'control', 'get', 'system', 'cygwin', 'decent', 'sounds', 'making']\n",
      "['c#', 'user-interface', 'directx', 'C#', 'Arrow', 'Keys', 'modifiers(ALT+CTRL+SHIFT)']\n",
      "['regex', 'ansi', 'Why', 'regular', 'expression', 'faster?', 'Regex(@\"(\\\\e(\\\\[([\\\\d;]*[mz])))\"', 'StripStringFormating(string', 'IsMatch(formattedString))', 'RegexOptions', 'Replace(formattedString', 'formatting', 'Regex(@\"\\\\e\\\\[[\\\\d;]+m\"', 'Compiled);']\n",
      "['html', 'email', 'forms', 'confirm', 'Is', '\"Confirm', 'Email\"', 'input', 'good', 'practice', 'user', 'changes', 'email', 'address?', 'confirmation', 'email']\n",
      "['c#', '.net', 'sharepoint', 'assemblies', 'How', 'reference', 'multiple', 'version', 'assembly', 'AjaxControlToolkit', 'application', 'PublicKeyToken=12345678abcdefgh', 'Sharepoint', 'tagprefix=\"AjaxControlToolkit\"', 'namespace=\"AjaxControlToolkit\"', 'assembly=\"AjaxControlToolkit']\n",
      "['sql-server', 'SQL', 'Server', 'Management', 'Studio', 'alternatives', 'browse/edit', 'tables', 'run', 'queries', 'alternatives', \"Microsoft's\", 'application', 'browse/edit', 'Management', 'wondering', 'sometimes', 'anything', \"there's\", 'queries', 'Server', 'Studio', 'tables', 'wrong', 'SSMS', 'seem', 'want', 'todo', 'SQL', 'Not', 'big', 'run']\n",
      "['sql-server', 'indexing', 'Tables', 'Primary', 'Key', 'clustered', 'tables', 'primary', 'newsequentialid())']\n",
      "['authentication', 'web-applications', 'account', 'What', 'use', 'login', 'ID?', 'namespace', '(\"johnsmith9234\")', '(w/verification)', 'alpha-numeric', 'businesses', 'names', 'customers']\n",
      "['svn', 'subclipse', 'Repair', 'SVN', 'Checksum', \"'f8cb275de72776657406154dd3c10348'\", \"'/Users/redacted/Documents/Flex\"]\n",
      "['.net', 'redistributable', '.NET', '3.5', 'Redistributable', '--', '200', 'MB?', 'Other', 'options?', 'application']\n",
      "['linux', 'ssh', 'How', 'I', 'setup', 'Public-Key', 'Authentication?', 'Authentication', 'Public-Key', 'setup']\n",
      "['unit-testing', 'user-interface', 'selenium', 'What', 'use', 'Unit-Test', 'Web', 'UI?', 'Uniting-Testing', 'currently', 'Interface', 'Unit-Test', 'effective', 'company', 'working']\n",
      "['java', 'windows', 'swt', 'executable', 'software-distribution', 'Packaging', 'Java', 'apps', 'Windows/Linux', 'desktop', 'application']\n",
      "['c++', 'file', 'io', 'How', 'open', 'file', 'C++?', 'function', 'reading', 'involve', 'buffer', 'files', 'would', 'want', 'open', 'file', 'need', 'able', 'for:', 'text', 'sort', 'read', 'line', 'C++', 'way']\n",
      "['c#', '.net', 'windows-services', 'printing', 'Printing', '.NET', 'Service', 'prototype', 'printing', 'print', 'working', 'message', 'service', 'StringTemplate', 'PrintDocument', 'output', 'report', 'engine', 'memory', 'stream', 'deserialized', 'application', \"Microsoft's\", 'unsupported', 'appreciated', 'formatting', 'Technology', 'templating', 'outputting', 'populating', 'Multi-page', 'conclusion', 'receiving', 'reporting', 'necessary', 'rendering', 'bad', 'available', 'framework']\n",
      "['linq', '.net-3.5', 'Beginners', 'Guide', 'LINQ', 'documentation', 'Parameterized', 'interesting', 'Datatables', 'questions', 'developer', 'Overflow', 'LINQ', 'nothing', 'started', 'During', 'SQL', 'sounds', 'guides', 'Stack', 'quite', 'Links', 'bonus', 'daily', 'beta', 'seen', 'know', 'What', 'long', 'time', 'uses']\n"
     ]
    }
   ],
   "source": [
    "for elem in data.head(60).iterrows():\n",
    "    tup = elem[1]\n",
    "    print(tup['combined'].split(' '))"
   ]
  },
  {
   "cell_type": "code",
   "execution_count": 90,
   "metadata": {},
   "outputs": [
    {
     "data": {
      "text/plain": [
       "'java file permissions Checking write access directory creating files inside directory'"
      ]
     },
     "execution_count": 90,
     "metadata": {},
     "output_type": "execute_result"
    }
   ],
   "source": [
    "data[data['Id'].astype(str) == '1272130']['combined'].item()"
   ]
  },
  {
   "cell_type": "code",
   "execution_count": 88,
   "metadata": {},
   "outputs": [
    {
     "data": {
      "text/plain": [
       "\"sql asp.net sitemap ASP.NET Site Maps dynamically permissions experience membership providers creating site-map properly controls need standard default working viewing anyone got create modify system users pages I've file Menu I'll site page well Has XML way tie\""
      ]
     },
     "execution_count": 88,
     "metadata": {},
     "output_type": "execute_result"
    }
   ],
   "source": [
    "\" \".join(['sql', 'asp.net', 'sitemap', 'ASP.NET', 'Site', 'Maps', 'dynamically', 'permissions', 'experience', 'membership', 'providers', 'creating', 'site-map', 'properly', 'controls', 'need', 'standard', 'default', 'working', 'viewing', 'anyone', 'got', 'create', 'modify', 'system', 'users', 'pages', \"I've\", 'file', 'Menu', \"I'll\", 'site', 'page', 'well', 'Has', 'XML', 'way', 'tie'])"
   ]
  },
  {
   "cell_type": "code",
   "execution_count": null,
   "metadata": {
    "collapsed": true
   },
   "outputs": [],
   "source": []
  }
 ],
 "metadata": {
  "kernelspec": {
   "display_name": "Python 3",
   "language": "python",
   "name": "python3"
  },
  "language_info": {
   "codemirror_mode": {
    "name": "ipython",
    "version": 3
   },
   "file_extension": ".py",
   "mimetype": "text/x-python",
   "name": "python",
   "nbconvert_exporter": "python",
   "pygments_lexer": "ipython3",
   "version": "3.6.2"
  }
 },
 "nbformat": 4,
 "nbformat_minor": 2
}
